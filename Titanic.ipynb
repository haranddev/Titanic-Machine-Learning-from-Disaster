{
 "cells": [
  {
   "cell_type": "code",
   "execution_count": 1,
   "metadata": {},
   "outputs": [
    {
     "name": "stderr",
     "output_type": "stream",
     "text": [
      "/home/harsh/anaconda3/lib/python3.6/site-packages/sklearn/cross_validation.py:41: DeprecationWarning: This module was deprecated in version 0.18 in favor of the model_selection module into which all the refactored classes and functions are moved. Also note that the interface of the new CV iterators are different from that of this module. This module will be removed in 0.20.\n",
      "  \"This module will be removed in 0.20.\", DeprecationWarning)\n",
      "/home/harsh/anaconda3/lib/python3.6/site-packages/sklearn/grid_search.py:42: DeprecationWarning: This module was deprecated in version 0.18 in favor of the model_selection module into which all the refactored classes and functions are moved. This module will be removed in 0.20.\n",
      "  DeprecationWarning)\n"
     ]
    }
   ],
   "source": [
    "#to use any of the third-party modules, we have to first import them in our current workspace.\n",
    "import pandas as pd\n",
    "import numpy as np\n",
    "import seaborn as sns\n",
    "import matplotlib.pyplot as plt\n",
    "from sklearn.model_selection import train_test_split\n",
    "from sklearn.linear_model import LogisticRegression\n",
    "from sklearn.ensemble import RandomForestClassifier\n",
    "from sklearn.tree import DecisionTreeClassifier\n",
    "from sklearn.metrics import classification_report,confusion_matrix,accuracy_score\n",
    "from sklearn.neighbors import KNeighborsClassifier\n",
    "from sklearn.grid_search import GridSearchCV\n",
    "from sklearn.cross_validation import  cross_val_score\n",
    "%matplotlib inline\n"
   ]
  },
  {
   "cell_type": "code",
   "execution_count": 2,
   "metadata": {
    "collapsed": true
   },
   "outputs": [],
   "source": [
    "#titanic data has been provided in two csv files. train data includes survived coloumn\n",
    "#whereas test doesn't. Here we are loading them respectively in seperate dataframes.\n",
    "train_set=pd.read_csv('train.csv')\n",
    "test_set=pd.read_csv('test.csv')\n"
   ]
  },
  {
   "cell_type": "code",
   "execution_count": 3,
   "metadata": {
    "collapsed": true
   },
   "outputs": [],
   "source": [
    "#joining the dataset to get the same number of features during the categorical conversion in the future\n",
    "train_len=len(train_set)\n",
    "dataset=pd.concat(objs=[train_set,test_set],axis=0).reset_index(drop=True)"
   ]
  },
  {
   "cell_type": "code",
   "execution_count": 4,
   "metadata": {
    "collapsed": true
   },
   "outputs": [],
   "source": [
    "#Since we will be merging train and test data and then start modifying it soon, So we are taking out \n",
    "#passenger_id which we will require at the end while genrating submission file.\n",
    "IDtest = test_set[\"PassengerId\"]"
   ]
  },
  {
   "cell_type": "code",
   "execution_count": 5,
   "metadata": {
    "collapsed": true
   },
   "outputs": [
    {
     "data": {
      "text/html": [
       "<div>\n",
       "<style>\n",
       "    .dataframe thead tr:only-child th {\n",
       "        text-align: right;\n",
       "    }\n",
       "\n",
       "    .dataframe thead th {\n",
       "        text-align: left;\n",
       "    }\n",
       "\n",
       "    .dataframe tbody tr th {\n",
       "        vertical-align: top;\n",
       "    }\n",
       "</style>\n",
       "<table border=\"1\" class=\"dataframe\">\n",
       "  <thead>\n",
       "    <tr style=\"text-align: right;\">\n",
       "      <th></th>\n",
       "      <th>Age</th>\n",
       "      <th>Cabin</th>\n",
       "      <th>Embarked</th>\n",
       "      <th>Fare</th>\n",
       "      <th>Name</th>\n",
       "      <th>Parch</th>\n",
       "      <th>PassengerId</th>\n",
       "      <th>Pclass</th>\n",
       "      <th>Sex</th>\n",
       "      <th>SibSp</th>\n",
       "      <th>Survived</th>\n",
       "      <th>Ticket</th>\n",
       "    </tr>\n",
       "  </thead>\n",
       "  <tbody>\n",
       "    <tr>\n",
       "      <th>0</th>\n",
       "      <td>22.0</td>\n",
       "      <td>NaN</td>\n",
       "      <td>S</td>\n",
       "      <td>7.2500</td>\n",
       "      <td>Braund, Mr. Owen Harris</td>\n",
       "      <td>0</td>\n",
       "      <td>1</td>\n",
       "      <td>3</td>\n",
       "      <td>male</td>\n",
       "      <td>1</td>\n",
       "      <td>0.0</td>\n",
       "      <td>A/5 21171</td>\n",
       "    </tr>\n",
       "    <tr>\n",
       "      <th>1</th>\n",
       "      <td>38.0</td>\n",
       "      <td>C85</td>\n",
       "      <td>C</td>\n",
       "      <td>71.2833</td>\n",
       "      <td>Cumings, Mrs. John Bradley (Florence Briggs Th...</td>\n",
       "      <td>0</td>\n",
       "      <td>2</td>\n",
       "      <td>1</td>\n",
       "      <td>female</td>\n",
       "      <td>1</td>\n",
       "      <td>1.0</td>\n",
       "      <td>PC 17599</td>\n",
       "    </tr>\n",
       "    <tr>\n",
       "      <th>2</th>\n",
       "      <td>26.0</td>\n",
       "      <td>NaN</td>\n",
       "      <td>S</td>\n",
       "      <td>7.9250</td>\n",
       "      <td>Heikkinen, Miss. Laina</td>\n",
       "      <td>0</td>\n",
       "      <td>3</td>\n",
       "      <td>3</td>\n",
       "      <td>female</td>\n",
       "      <td>0</td>\n",
       "      <td>1.0</td>\n",
       "      <td>STON/O2. 3101282</td>\n",
       "    </tr>\n",
       "    <tr>\n",
       "      <th>3</th>\n",
       "      <td>35.0</td>\n",
       "      <td>C123</td>\n",
       "      <td>S</td>\n",
       "      <td>53.1000</td>\n",
       "      <td>Futrelle, Mrs. Jacques Heath (Lily May Peel)</td>\n",
       "      <td>0</td>\n",
       "      <td>4</td>\n",
       "      <td>1</td>\n",
       "      <td>female</td>\n",
       "      <td>1</td>\n",
       "      <td>1.0</td>\n",
       "      <td>113803</td>\n",
       "    </tr>\n",
       "    <tr>\n",
       "      <th>4</th>\n",
       "      <td>35.0</td>\n",
       "      <td>NaN</td>\n",
       "      <td>S</td>\n",
       "      <td>8.0500</td>\n",
       "      <td>Allen, Mr. William Henry</td>\n",
       "      <td>0</td>\n",
       "      <td>5</td>\n",
       "      <td>3</td>\n",
       "      <td>male</td>\n",
       "      <td>0</td>\n",
       "      <td>0.0</td>\n",
       "      <td>373450</td>\n",
       "    </tr>\n",
       "    <tr>\n",
       "      <th>5</th>\n",
       "      <td>NaN</td>\n",
       "      <td>NaN</td>\n",
       "      <td>Q</td>\n",
       "      <td>8.4583</td>\n",
       "      <td>Moran, Mr. James</td>\n",
       "      <td>0</td>\n",
       "      <td>6</td>\n",
       "      <td>3</td>\n",
       "      <td>male</td>\n",
       "      <td>0</td>\n",
       "      <td>0.0</td>\n",
       "      <td>330877</td>\n",
       "    </tr>\n",
       "    <tr>\n",
       "      <th>6</th>\n",
       "      <td>54.0</td>\n",
       "      <td>E46</td>\n",
       "      <td>S</td>\n",
       "      <td>51.8625</td>\n",
       "      <td>McCarthy, Mr. Timothy J</td>\n",
       "      <td>0</td>\n",
       "      <td>7</td>\n",
       "      <td>1</td>\n",
       "      <td>male</td>\n",
       "      <td>0</td>\n",
       "      <td>0.0</td>\n",
       "      <td>17463</td>\n",
       "    </tr>\n",
       "    <tr>\n",
       "      <th>7</th>\n",
       "      <td>2.0</td>\n",
       "      <td>NaN</td>\n",
       "      <td>S</td>\n",
       "      <td>21.0750</td>\n",
       "      <td>Palsson, Master. Gosta Leonard</td>\n",
       "      <td>1</td>\n",
       "      <td>8</td>\n",
       "      <td>3</td>\n",
       "      <td>male</td>\n",
       "      <td>3</td>\n",
       "      <td>0.0</td>\n",
       "      <td>349909</td>\n",
       "    </tr>\n",
       "    <tr>\n",
       "      <th>8</th>\n",
       "      <td>27.0</td>\n",
       "      <td>NaN</td>\n",
       "      <td>S</td>\n",
       "      <td>11.1333</td>\n",
       "      <td>Johnson, Mrs. Oscar W (Elisabeth Vilhelmina Berg)</td>\n",
       "      <td>2</td>\n",
       "      <td>9</td>\n",
       "      <td>3</td>\n",
       "      <td>female</td>\n",
       "      <td>0</td>\n",
       "      <td>1.0</td>\n",
       "      <td>347742</td>\n",
       "    </tr>\n",
       "    <tr>\n",
       "      <th>9</th>\n",
       "      <td>14.0</td>\n",
       "      <td>NaN</td>\n",
       "      <td>C</td>\n",
       "      <td>30.0708</td>\n",
       "      <td>Nasser, Mrs. Nicholas (Adele Achem)</td>\n",
       "      <td>0</td>\n",
       "      <td>10</td>\n",
       "      <td>2</td>\n",
       "      <td>female</td>\n",
       "      <td>1</td>\n",
       "      <td>1.0</td>\n",
       "      <td>237736</td>\n",
       "    </tr>\n",
       "    <tr>\n",
       "      <th>10</th>\n",
       "      <td>4.0</td>\n",
       "      <td>G6</td>\n",
       "      <td>S</td>\n",
       "      <td>16.7000</td>\n",
       "      <td>Sandstrom, Miss. Marguerite Rut</td>\n",
       "      <td>1</td>\n",
       "      <td>11</td>\n",
       "      <td>3</td>\n",
       "      <td>female</td>\n",
       "      <td>1</td>\n",
       "      <td>1.0</td>\n",
       "      <td>PP 9549</td>\n",
       "    </tr>\n",
       "    <tr>\n",
       "      <th>11</th>\n",
       "      <td>58.0</td>\n",
       "      <td>C103</td>\n",
       "      <td>S</td>\n",
       "      <td>26.5500</td>\n",
       "      <td>Bonnell, Miss. Elizabeth</td>\n",
       "      <td>0</td>\n",
       "      <td>12</td>\n",
       "      <td>1</td>\n",
       "      <td>female</td>\n",
       "      <td>0</td>\n",
       "      <td>1.0</td>\n",
       "      <td>113783</td>\n",
       "    </tr>\n",
       "    <tr>\n",
       "      <th>12</th>\n",
       "      <td>20.0</td>\n",
       "      <td>NaN</td>\n",
       "      <td>S</td>\n",
       "      <td>8.0500</td>\n",
       "      <td>Saundercock, Mr. William Henry</td>\n",
       "      <td>0</td>\n",
       "      <td>13</td>\n",
       "      <td>3</td>\n",
       "      <td>male</td>\n",
       "      <td>0</td>\n",
       "      <td>0.0</td>\n",
       "      <td>A/5. 2151</td>\n",
       "    </tr>\n",
       "    <tr>\n",
       "      <th>13</th>\n",
       "      <td>39.0</td>\n",
       "      <td>NaN</td>\n",
       "      <td>S</td>\n",
       "      <td>31.2750</td>\n",
       "      <td>Andersson, Mr. Anders Johan</td>\n",
       "      <td>5</td>\n",
       "      <td>14</td>\n",
       "      <td>3</td>\n",
       "      <td>male</td>\n",
       "      <td>1</td>\n",
       "      <td>0.0</td>\n",
       "      <td>347082</td>\n",
       "    </tr>\n",
       "    <tr>\n",
       "      <th>14</th>\n",
       "      <td>14.0</td>\n",
       "      <td>NaN</td>\n",
       "      <td>S</td>\n",
       "      <td>7.8542</td>\n",
       "      <td>Vestrom, Miss. Hulda Amanda Adolfina</td>\n",
       "      <td>0</td>\n",
       "      <td>15</td>\n",
       "      <td>3</td>\n",
       "      <td>female</td>\n",
       "      <td>0</td>\n",
       "      <td>0.0</td>\n",
       "      <td>350406</td>\n",
       "    </tr>\n",
       "    <tr>\n",
       "      <th>15</th>\n",
       "      <td>55.0</td>\n",
       "      <td>NaN</td>\n",
       "      <td>S</td>\n",
       "      <td>16.0000</td>\n",
       "      <td>Hewlett, Mrs. (Mary D Kingcome)</td>\n",
       "      <td>0</td>\n",
       "      <td>16</td>\n",
       "      <td>2</td>\n",
       "      <td>female</td>\n",
       "      <td>0</td>\n",
       "      <td>1.0</td>\n",
       "      <td>248706</td>\n",
       "    </tr>\n",
       "    <tr>\n",
       "      <th>16</th>\n",
       "      <td>2.0</td>\n",
       "      <td>NaN</td>\n",
       "      <td>Q</td>\n",
       "      <td>29.1250</td>\n",
       "      <td>Rice, Master. Eugene</td>\n",
       "      <td>1</td>\n",
       "      <td>17</td>\n",
       "      <td>3</td>\n",
       "      <td>male</td>\n",
       "      <td>4</td>\n",
       "      <td>0.0</td>\n",
       "      <td>382652</td>\n",
       "    </tr>\n",
       "    <tr>\n",
       "      <th>17</th>\n",
       "      <td>NaN</td>\n",
       "      <td>NaN</td>\n",
       "      <td>S</td>\n",
       "      <td>13.0000</td>\n",
       "      <td>Williams, Mr. Charles Eugene</td>\n",
       "      <td>0</td>\n",
       "      <td>18</td>\n",
       "      <td>2</td>\n",
       "      <td>male</td>\n",
       "      <td>0</td>\n",
       "      <td>1.0</td>\n",
       "      <td>244373</td>\n",
       "    </tr>\n",
       "    <tr>\n",
       "      <th>18</th>\n",
       "      <td>31.0</td>\n",
       "      <td>NaN</td>\n",
       "      <td>S</td>\n",
       "      <td>18.0000</td>\n",
       "      <td>Vander Planke, Mrs. Julius (Emelia Maria Vande...</td>\n",
       "      <td>0</td>\n",
       "      <td>19</td>\n",
       "      <td>3</td>\n",
       "      <td>female</td>\n",
       "      <td>1</td>\n",
       "      <td>0.0</td>\n",
       "      <td>345763</td>\n",
       "    </tr>\n",
       "    <tr>\n",
       "      <th>19</th>\n",
       "      <td>NaN</td>\n",
       "      <td>NaN</td>\n",
       "      <td>C</td>\n",
       "      <td>7.2250</td>\n",
       "      <td>Masselmani, Mrs. Fatima</td>\n",
       "      <td>0</td>\n",
       "      <td>20</td>\n",
       "      <td>3</td>\n",
       "      <td>female</td>\n",
       "      <td>0</td>\n",
       "      <td>1.0</td>\n",
       "      <td>2649</td>\n",
       "    </tr>\n",
       "    <tr>\n",
       "      <th>20</th>\n",
       "      <td>35.0</td>\n",
       "      <td>NaN</td>\n",
       "      <td>S</td>\n",
       "      <td>26.0000</td>\n",
       "      <td>Fynney, Mr. Joseph J</td>\n",
       "      <td>0</td>\n",
       "      <td>21</td>\n",
       "      <td>2</td>\n",
       "      <td>male</td>\n",
       "      <td>0</td>\n",
       "      <td>0.0</td>\n",
       "      <td>239865</td>\n",
       "    </tr>\n",
       "    <tr>\n",
       "      <th>21</th>\n",
       "      <td>34.0</td>\n",
       "      <td>D56</td>\n",
       "      <td>S</td>\n",
       "      <td>13.0000</td>\n",
       "      <td>Beesley, Mr. Lawrence</td>\n",
       "      <td>0</td>\n",
       "      <td>22</td>\n",
       "      <td>2</td>\n",
       "      <td>male</td>\n",
       "      <td>0</td>\n",
       "      <td>1.0</td>\n",
       "      <td>248698</td>\n",
       "    </tr>\n",
       "    <tr>\n",
       "      <th>22</th>\n",
       "      <td>15.0</td>\n",
       "      <td>NaN</td>\n",
       "      <td>Q</td>\n",
       "      <td>8.0292</td>\n",
       "      <td>McGowan, Miss. Anna \"Annie\"</td>\n",
       "      <td>0</td>\n",
       "      <td>23</td>\n",
       "      <td>3</td>\n",
       "      <td>female</td>\n",
       "      <td>0</td>\n",
       "      <td>1.0</td>\n",
       "      <td>330923</td>\n",
       "    </tr>\n",
       "    <tr>\n",
       "      <th>23</th>\n",
       "      <td>28.0</td>\n",
       "      <td>A6</td>\n",
       "      <td>S</td>\n",
       "      <td>35.5000</td>\n",
       "      <td>Sloper, Mr. William Thompson</td>\n",
       "      <td>0</td>\n",
       "      <td>24</td>\n",
       "      <td>1</td>\n",
       "      <td>male</td>\n",
       "      <td>0</td>\n",
       "      <td>1.0</td>\n",
       "      <td>113788</td>\n",
       "    </tr>\n",
       "    <tr>\n",
       "      <th>24</th>\n",
       "      <td>8.0</td>\n",
       "      <td>NaN</td>\n",
       "      <td>S</td>\n",
       "      <td>21.0750</td>\n",
       "      <td>Palsson, Miss. Torborg Danira</td>\n",
       "      <td>1</td>\n",
       "      <td>25</td>\n",
       "      <td>3</td>\n",
       "      <td>female</td>\n",
       "      <td>3</td>\n",
       "      <td>0.0</td>\n",
       "      <td>349909</td>\n",
       "    </tr>\n",
       "    <tr>\n",
       "      <th>25</th>\n",
       "      <td>38.0</td>\n",
       "      <td>NaN</td>\n",
       "      <td>S</td>\n",
       "      <td>31.3875</td>\n",
       "      <td>Asplund, Mrs. Carl Oscar (Selma Augusta Emilia...</td>\n",
       "      <td>5</td>\n",
       "      <td>26</td>\n",
       "      <td>3</td>\n",
       "      <td>female</td>\n",
       "      <td>1</td>\n",
       "      <td>1.0</td>\n",
       "      <td>347077</td>\n",
       "    </tr>\n",
       "    <tr>\n",
       "      <th>26</th>\n",
       "      <td>NaN</td>\n",
       "      <td>NaN</td>\n",
       "      <td>C</td>\n",
       "      <td>7.2250</td>\n",
       "      <td>Emir, Mr. Farred Chehab</td>\n",
       "      <td>0</td>\n",
       "      <td>27</td>\n",
       "      <td>3</td>\n",
       "      <td>male</td>\n",
       "      <td>0</td>\n",
       "      <td>0.0</td>\n",
       "      <td>2631</td>\n",
       "    </tr>\n",
       "    <tr>\n",
       "      <th>27</th>\n",
       "      <td>19.0</td>\n",
       "      <td>C23 C25 C27</td>\n",
       "      <td>S</td>\n",
       "      <td>263.0000</td>\n",
       "      <td>Fortune, Mr. Charles Alexander</td>\n",
       "      <td>2</td>\n",
       "      <td>28</td>\n",
       "      <td>1</td>\n",
       "      <td>male</td>\n",
       "      <td>3</td>\n",
       "      <td>0.0</td>\n",
       "      <td>19950</td>\n",
       "    </tr>\n",
       "    <tr>\n",
       "      <th>28</th>\n",
       "      <td>NaN</td>\n",
       "      <td>NaN</td>\n",
       "      <td>Q</td>\n",
       "      <td>7.8792</td>\n",
       "      <td>O'Dwyer, Miss. Ellen \"Nellie\"</td>\n",
       "      <td>0</td>\n",
       "      <td>29</td>\n",
       "      <td>3</td>\n",
       "      <td>female</td>\n",
       "      <td>0</td>\n",
       "      <td>1.0</td>\n",
       "      <td>330959</td>\n",
       "    </tr>\n",
       "    <tr>\n",
       "      <th>29</th>\n",
       "      <td>NaN</td>\n",
       "      <td>NaN</td>\n",
       "      <td>S</td>\n",
       "      <td>7.8958</td>\n",
       "      <td>Todoroff, Mr. Lalio</td>\n",
       "      <td>0</td>\n",
       "      <td>30</td>\n",
       "      <td>3</td>\n",
       "      <td>male</td>\n",
       "      <td>0</td>\n",
       "      <td>0.0</td>\n",
       "      <td>349216</td>\n",
       "    </tr>\n",
       "    <tr>\n",
       "      <th>...</th>\n",
       "      <td>...</td>\n",
       "      <td>...</td>\n",
       "      <td>...</td>\n",
       "      <td>...</td>\n",
       "      <td>...</td>\n",
       "      <td>...</td>\n",
       "      <td>...</td>\n",
       "      <td>...</td>\n",
       "      <td>...</td>\n",
       "      <td>...</td>\n",
       "      <td>...</td>\n",
       "      <td>...</td>\n",
       "    </tr>\n",
       "    <tr>\n",
       "      <th>1279</th>\n",
       "      <td>21.0</td>\n",
       "      <td>NaN</td>\n",
       "      <td>Q</td>\n",
       "      <td>7.7500</td>\n",
       "      <td>Canavan, Mr. Patrick</td>\n",
       "      <td>0</td>\n",
       "      <td>1280</td>\n",
       "      <td>3</td>\n",
       "      <td>male</td>\n",
       "      <td>0</td>\n",
       "      <td>NaN</td>\n",
       "      <td>364858</td>\n",
       "    </tr>\n",
       "    <tr>\n",
       "      <th>1280</th>\n",
       "      <td>6.0</td>\n",
       "      <td>NaN</td>\n",
       "      <td>S</td>\n",
       "      <td>21.0750</td>\n",
       "      <td>Palsson, Master. Paul Folke</td>\n",
       "      <td>1</td>\n",
       "      <td>1281</td>\n",
       "      <td>3</td>\n",
       "      <td>male</td>\n",
       "      <td>3</td>\n",
       "      <td>NaN</td>\n",
       "      <td>349909</td>\n",
       "    </tr>\n",
       "    <tr>\n",
       "      <th>1281</th>\n",
       "      <td>23.0</td>\n",
       "      <td>B24</td>\n",
       "      <td>S</td>\n",
       "      <td>93.5000</td>\n",
       "      <td>Payne, Mr. Vivian Ponsonby</td>\n",
       "      <td>0</td>\n",
       "      <td>1282</td>\n",
       "      <td>1</td>\n",
       "      <td>male</td>\n",
       "      <td>0</td>\n",
       "      <td>NaN</td>\n",
       "      <td>12749</td>\n",
       "    </tr>\n",
       "    <tr>\n",
       "      <th>1282</th>\n",
       "      <td>51.0</td>\n",
       "      <td>D28</td>\n",
       "      <td>S</td>\n",
       "      <td>39.4000</td>\n",
       "      <td>Lines, Mrs. Ernest H (Elizabeth Lindsey James)</td>\n",
       "      <td>1</td>\n",
       "      <td>1283</td>\n",
       "      <td>1</td>\n",
       "      <td>female</td>\n",
       "      <td>0</td>\n",
       "      <td>NaN</td>\n",
       "      <td>PC 17592</td>\n",
       "    </tr>\n",
       "    <tr>\n",
       "      <th>1283</th>\n",
       "      <td>13.0</td>\n",
       "      <td>NaN</td>\n",
       "      <td>S</td>\n",
       "      <td>20.2500</td>\n",
       "      <td>Abbott, Master. Eugene Joseph</td>\n",
       "      <td>2</td>\n",
       "      <td>1284</td>\n",
       "      <td>3</td>\n",
       "      <td>male</td>\n",
       "      <td>0</td>\n",
       "      <td>NaN</td>\n",
       "      <td>C.A. 2673</td>\n",
       "    </tr>\n",
       "    <tr>\n",
       "      <th>1284</th>\n",
       "      <td>47.0</td>\n",
       "      <td>NaN</td>\n",
       "      <td>S</td>\n",
       "      <td>10.5000</td>\n",
       "      <td>Gilbert, Mr. William</td>\n",
       "      <td>0</td>\n",
       "      <td>1285</td>\n",
       "      <td>2</td>\n",
       "      <td>male</td>\n",
       "      <td>0</td>\n",
       "      <td>NaN</td>\n",
       "      <td>C.A. 30769</td>\n",
       "    </tr>\n",
       "    <tr>\n",
       "      <th>1285</th>\n",
       "      <td>29.0</td>\n",
       "      <td>NaN</td>\n",
       "      <td>S</td>\n",
       "      <td>22.0250</td>\n",
       "      <td>Kink-Heilmann, Mr. Anton</td>\n",
       "      <td>1</td>\n",
       "      <td>1286</td>\n",
       "      <td>3</td>\n",
       "      <td>male</td>\n",
       "      <td>3</td>\n",
       "      <td>NaN</td>\n",
       "      <td>315153</td>\n",
       "    </tr>\n",
       "    <tr>\n",
       "      <th>1286</th>\n",
       "      <td>18.0</td>\n",
       "      <td>C31</td>\n",
       "      <td>S</td>\n",
       "      <td>60.0000</td>\n",
       "      <td>Smith, Mrs. Lucien Philip (Mary Eloise Hughes)</td>\n",
       "      <td>0</td>\n",
       "      <td>1287</td>\n",
       "      <td>1</td>\n",
       "      <td>female</td>\n",
       "      <td>1</td>\n",
       "      <td>NaN</td>\n",
       "      <td>13695</td>\n",
       "    </tr>\n",
       "    <tr>\n",
       "      <th>1287</th>\n",
       "      <td>24.0</td>\n",
       "      <td>NaN</td>\n",
       "      <td>Q</td>\n",
       "      <td>7.2500</td>\n",
       "      <td>Colbert, Mr. Patrick</td>\n",
       "      <td>0</td>\n",
       "      <td>1288</td>\n",
       "      <td>3</td>\n",
       "      <td>male</td>\n",
       "      <td>0</td>\n",
       "      <td>NaN</td>\n",
       "      <td>371109</td>\n",
       "    </tr>\n",
       "    <tr>\n",
       "      <th>1288</th>\n",
       "      <td>48.0</td>\n",
       "      <td>B41</td>\n",
       "      <td>C</td>\n",
       "      <td>79.2000</td>\n",
       "      <td>Frolicher-Stehli, Mrs. Maxmillian (Margaretha ...</td>\n",
       "      <td>1</td>\n",
       "      <td>1289</td>\n",
       "      <td>1</td>\n",
       "      <td>female</td>\n",
       "      <td>1</td>\n",
       "      <td>NaN</td>\n",
       "      <td>13567</td>\n",
       "    </tr>\n",
       "    <tr>\n",
       "      <th>1289</th>\n",
       "      <td>22.0</td>\n",
       "      <td>NaN</td>\n",
       "      <td>S</td>\n",
       "      <td>7.7750</td>\n",
       "      <td>Larsson-Rondberg, Mr. Edvard A</td>\n",
       "      <td>0</td>\n",
       "      <td>1290</td>\n",
       "      <td>3</td>\n",
       "      <td>male</td>\n",
       "      <td>0</td>\n",
       "      <td>NaN</td>\n",
       "      <td>347065</td>\n",
       "    </tr>\n",
       "    <tr>\n",
       "      <th>1290</th>\n",
       "      <td>31.0</td>\n",
       "      <td>NaN</td>\n",
       "      <td>Q</td>\n",
       "      <td>7.7333</td>\n",
       "      <td>Conlon, Mr. Thomas Henry</td>\n",
       "      <td>0</td>\n",
       "      <td>1291</td>\n",
       "      <td>3</td>\n",
       "      <td>male</td>\n",
       "      <td>0</td>\n",
       "      <td>NaN</td>\n",
       "      <td>21332</td>\n",
       "    </tr>\n",
       "    <tr>\n",
       "      <th>1291</th>\n",
       "      <td>30.0</td>\n",
       "      <td>C7</td>\n",
       "      <td>S</td>\n",
       "      <td>164.8667</td>\n",
       "      <td>Bonnell, Miss. Caroline</td>\n",
       "      <td>0</td>\n",
       "      <td>1292</td>\n",
       "      <td>1</td>\n",
       "      <td>female</td>\n",
       "      <td>0</td>\n",
       "      <td>NaN</td>\n",
       "      <td>36928</td>\n",
       "    </tr>\n",
       "    <tr>\n",
       "      <th>1292</th>\n",
       "      <td>38.0</td>\n",
       "      <td>NaN</td>\n",
       "      <td>S</td>\n",
       "      <td>21.0000</td>\n",
       "      <td>Gale, Mr. Harry</td>\n",
       "      <td>0</td>\n",
       "      <td>1293</td>\n",
       "      <td>2</td>\n",
       "      <td>male</td>\n",
       "      <td>1</td>\n",
       "      <td>NaN</td>\n",
       "      <td>28664</td>\n",
       "    </tr>\n",
       "    <tr>\n",
       "      <th>1293</th>\n",
       "      <td>22.0</td>\n",
       "      <td>NaN</td>\n",
       "      <td>C</td>\n",
       "      <td>59.4000</td>\n",
       "      <td>Gibson, Miss. Dorothy Winifred</td>\n",
       "      <td>1</td>\n",
       "      <td>1294</td>\n",
       "      <td>1</td>\n",
       "      <td>female</td>\n",
       "      <td>0</td>\n",
       "      <td>NaN</td>\n",
       "      <td>112378</td>\n",
       "    </tr>\n",
       "    <tr>\n",
       "      <th>1294</th>\n",
       "      <td>17.0</td>\n",
       "      <td>NaN</td>\n",
       "      <td>S</td>\n",
       "      <td>47.1000</td>\n",
       "      <td>Carrau, Mr. Jose Pedro</td>\n",
       "      <td>0</td>\n",
       "      <td>1295</td>\n",
       "      <td>1</td>\n",
       "      <td>male</td>\n",
       "      <td>0</td>\n",
       "      <td>NaN</td>\n",
       "      <td>113059</td>\n",
       "    </tr>\n",
       "    <tr>\n",
       "      <th>1295</th>\n",
       "      <td>43.0</td>\n",
       "      <td>D40</td>\n",
       "      <td>C</td>\n",
       "      <td>27.7208</td>\n",
       "      <td>Frauenthal, Mr. Isaac Gerald</td>\n",
       "      <td>0</td>\n",
       "      <td>1296</td>\n",
       "      <td>1</td>\n",
       "      <td>male</td>\n",
       "      <td>1</td>\n",
       "      <td>NaN</td>\n",
       "      <td>17765</td>\n",
       "    </tr>\n",
       "    <tr>\n",
       "      <th>1296</th>\n",
       "      <td>20.0</td>\n",
       "      <td>D38</td>\n",
       "      <td>C</td>\n",
       "      <td>13.8625</td>\n",
       "      <td>Nourney, Mr. Alfred (Baron von Drachstedt\")\"</td>\n",
       "      <td>0</td>\n",
       "      <td>1297</td>\n",
       "      <td>2</td>\n",
       "      <td>male</td>\n",
       "      <td>0</td>\n",
       "      <td>NaN</td>\n",
       "      <td>SC/PARIS 2166</td>\n",
       "    </tr>\n",
       "    <tr>\n",
       "      <th>1297</th>\n",
       "      <td>23.0</td>\n",
       "      <td>NaN</td>\n",
       "      <td>S</td>\n",
       "      <td>10.5000</td>\n",
       "      <td>Ware, Mr. William Jeffery</td>\n",
       "      <td>0</td>\n",
       "      <td>1298</td>\n",
       "      <td>2</td>\n",
       "      <td>male</td>\n",
       "      <td>1</td>\n",
       "      <td>NaN</td>\n",
       "      <td>28666</td>\n",
       "    </tr>\n",
       "    <tr>\n",
       "      <th>1298</th>\n",
       "      <td>50.0</td>\n",
       "      <td>C80</td>\n",
       "      <td>C</td>\n",
       "      <td>211.5000</td>\n",
       "      <td>Widener, Mr. George Dunton</td>\n",
       "      <td>1</td>\n",
       "      <td>1299</td>\n",
       "      <td>1</td>\n",
       "      <td>male</td>\n",
       "      <td>1</td>\n",
       "      <td>NaN</td>\n",
       "      <td>113503</td>\n",
       "    </tr>\n",
       "    <tr>\n",
       "      <th>1299</th>\n",
       "      <td>NaN</td>\n",
       "      <td>NaN</td>\n",
       "      <td>Q</td>\n",
       "      <td>7.7208</td>\n",
       "      <td>Riordan, Miss. Johanna Hannah\"\"</td>\n",
       "      <td>0</td>\n",
       "      <td>1300</td>\n",
       "      <td>3</td>\n",
       "      <td>female</td>\n",
       "      <td>0</td>\n",
       "      <td>NaN</td>\n",
       "      <td>334915</td>\n",
       "    </tr>\n",
       "    <tr>\n",
       "      <th>1300</th>\n",
       "      <td>3.0</td>\n",
       "      <td>NaN</td>\n",
       "      <td>S</td>\n",
       "      <td>13.7750</td>\n",
       "      <td>Peacock, Miss. Treasteall</td>\n",
       "      <td>1</td>\n",
       "      <td>1301</td>\n",
       "      <td>3</td>\n",
       "      <td>female</td>\n",
       "      <td>1</td>\n",
       "      <td>NaN</td>\n",
       "      <td>SOTON/O.Q. 3101315</td>\n",
       "    </tr>\n",
       "    <tr>\n",
       "      <th>1301</th>\n",
       "      <td>NaN</td>\n",
       "      <td>NaN</td>\n",
       "      <td>Q</td>\n",
       "      <td>7.7500</td>\n",
       "      <td>Naughton, Miss. Hannah</td>\n",
       "      <td>0</td>\n",
       "      <td>1302</td>\n",
       "      <td>3</td>\n",
       "      <td>female</td>\n",
       "      <td>0</td>\n",
       "      <td>NaN</td>\n",
       "      <td>365237</td>\n",
       "    </tr>\n",
       "    <tr>\n",
       "      <th>1302</th>\n",
       "      <td>37.0</td>\n",
       "      <td>C78</td>\n",
       "      <td>Q</td>\n",
       "      <td>90.0000</td>\n",
       "      <td>Minahan, Mrs. William Edward (Lillian E Thorpe)</td>\n",
       "      <td>0</td>\n",
       "      <td>1303</td>\n",
       "      <td>1</td>\n",
       "      <td>female</td>\n",
       "      <td>1</td>\n",
       "      <td>NaN</td>\n",
       "      <td>19928</td>\n",
       "    </tr>\n",
       "    <tr>\n",
       "      <th>1303</th>\n",
       "      <td>28.0</td>\n",
       "      <td>NaN</td>\n",
       "      <td>S</td>\n",
       "      <td>7.7750</td>\n",
       "      <td>Henriksson, Miss. Jenny Lovisa</td>\n",
       "      <td>0</td>\n",
       "      <td>1304</td>\n",
       "      <td>3</td>\n",
       "      <td>female</td>\n",
       "      <td>0</td>\n",
       "      <td>NaN</td>\n",
       "      <td>347086</td>\n",
       "    </tr>\n",
       "    <tr>\n",
       "      <th>1304</th>\n",
       "      <td>NaN</td>\n",
       "      <td>NaN</td>\n",
       "      <td>S</td>\n",
       "      <td>8.0500</td>\n",
       "      <td>Spector, Mr. Woolf</td>\n",
       "      <td>0</td>\n",
       "      <td>1305</td>\n",
       "      <td>3</td>\n",
       "      <td>male</td>\n",
       "      <td>0</td>\n",
       "      <td>NaN</td>\n",
       "      <td>A.5. 3236</td>\n",
       "    </tr>\n",
       "    <tr>\n",
       "      <th>1305</th>\n",
       "      <td>39.0</td>\n",
       "      <td>C105</td>\n",
       "      <td>C</td>\n",
       "      <td>108.9000</td>\n",
       "      <td>Oliva y Ocana, Dona. Fermina</td>\n",
       "      <td>0</td>\n",
       "      <td>1306</td>\n",
       "      <td>1</td>\n",
       "      <td>female</td>\n",
       "      <td>0</td>\n",
       "      <td>NaN</td>\n",
       "      <td>PC 17758</td>\n",
       "    </tr>\n",
       "    <tr>\n",
       "      <th>1306</th>\n",
       "      <td>38.5</td>\n",
       "      <td>NaN</td>\n",
       "      <td>S</td>\n",
       "      <td>7.2500</td>\n",
       "      <td>Saether, Mr. Simon Sivertsen</td>\n",
       "      <td>0</td>\n",
       "      <td>1307</td>\n",
       "      <td>3</td>\n",
       "      <td>male</td>\n",
       "      <td>0</td>\n",
       "      <td>NaN</td>\n",
       "      <td>SOTON/O.Q. 3101262</td>\n",
       "    </tr>\n",
       "    <tr>\n",
       "      <th>1307</th>\n",
       "      <td>NaN</td>\n",
       "      <td>NaN</td>\n",
       "      <td>S</td>\n",
       "      <td>8.0500</td>\n",
       "      <td>Ware, Mr. Frederick</td>\n",
       "      <td>0</td>\n",
       "      <td>1308</td>\n",
       "      <td>3</td>\n",
       "      <td>male</td>\n",
       "      <td>0</td>\n",
       "      <td>NaN</td>\n",
       "      <td>359309</td>\n",
       "    </tr>\n",
       "    <tr>\n",
       "      <th>1308</th>\n",
       "      <td>NaN</td>\n",
       "      <td>NaN</td>\n",
       "      <td>C</td>\n",
       "      <td>22.3583</td>\n",
       "      <td>Peter, Master. Michael J</td>\n",
       "      <td>1</td>\n",
       "      <td>1309</td>\n",
       "      <td>3</td>\n",
       "      <td>male</td>\n",
       "      <td>1</td>\n",
       "      <td>NaN</td>\n",
       "      <td>2668</td>\n",
       "    </tr>\n",
       "  </tbody>\n",
       "</table>\n",
       "<p>1309 rows × 12 columns</p>\n",
       "</div>"
      ],
      "text/plain": [
       "       Age        Cabin Embarked      Fare  \\\n",
       "0     22.0          NaN        S    7.2500   \n",
       "1     38.0          C85        C   71.2833   \n",
       "2     26.0          NaN        S    7.9250   \n",
       "3     35.0         C123        S   53.1000   \n",
       "4     35.0          NaN        S    8.0500   \n",
       "5      NaN          NaN        Q    8.4583   \n",
       "6     54.0          E46        S   51.8625   \n",
       "7      2.0          NaN        S   21.0750   \n",
       "8     27.0          NaN        S   11.1333   \n",
       "9     14.0          NaN        C   30.0708   \n",
       "10     4.0           G6        S   16.7000   \n",
       "11    58.0         C103        S   26.5500   \n",
       "12    20.0          NaN        S    8.0500   \n",
       "13    39.0          NaN        S   31.2750   \n",
       "14    14.0          NaN        S    7.8542   \n",
       "15    55.0          NaN        S   16.0000   \n",
       "16     2.0          NaN        Q   29.1250   \n",
       "17     NaN          NaN        S   13.0000   \n",
       "18    31.0          NaN        S   18.0000   \n",
       "19     NaN          NaN        C    7.2250   \n",
       "20    35.0          NaN        S   26.0000   \n",
       "21    34.0          D56        S   13.0000   \n",
       "22    15.0          NaN        Q    8.0292   \n",
       "23    28.0           A6        S   35.5000   \n",
       "24     8.0          NaN        S   21.0750   \n",
       "25    38.0          NaN        S   31.3875   \n",
       "26     NaN          NaN        C    7.2250   \n",
       "27    19.0  C23 C25 C27        S  263.0000   \n",
       "28     NaN          NaN        Q    7.8792   \n",
       "29     NaN          NaN        S    7.8958   \n",
       "...    ...          ...      ...       ...   \n",
       "1279  21.0          NaN        Q    7.7500   \n",
       "1280   6.0          NaN        S   21.0750   \n",
       "1281  23.0          B24        S   93.5000   \n",
       "1282  51.0          D28        S   39.4000   \n",
       "1283  13.0          NaN        S   20.2500   \n",
       "1284  47.0          NaN        S   10.5000   \n",
       "1285  29.0          NaN        S   22.0250   \n",
       "1286  18.0          C31        S   60.0000   \n",
       "1287  24.0          NaN        Q    7.2500   \n",
       "1288  48.0          B41        C   79.2000   \n",
       "1289  22.0          NaN        S    7.7750   \n",
       "1290  31.0          NaN        Q    7.7333   \n",
       "1291  30.0           C7        S  164.8667   \n",
       "1292  38.0          NaN        S   21.0000   \n",
       "1293  22.0          NaN        C   59.4000   \n",
       "1294  17.0          NaN        S   47.1000   \n",
       "1295  43.0          D40        C   27.7208   \n",
       "1296  20.0          D38        C   13.8625   \n",
       "1297  23.0          NaN        S   10.5000   \n",
       "1298  50.0          C80        C  211.5000   \n",
       "1299   NaN          NaN        Q    7.7208   \n",
       "1300   3.0          NaN        S   13.7750   \n",
       "1301   NaN          NaN        Q    7.7500   \n",
       "1302  37.0          C78        Q   90.0000   \n",
       "1303  28.0          NaN        S    7.7750   \n",
       "1304   NaN          NaN        S    8.0500   \n",
       "1305  39.0         C105        C  108.9000   \n",
       "1306  38.5          NaN        S    7.2500   \n",
       "1307   NaN          NaN        S    8.0500   \n",
       "1308   NaN          NaN        C   22.3583   \n",
       "\n",
       "                                                   Name  Parch  PassengerId  \\\n",
       "0                               Braund, Mr. Owen Harris      0            1   \n",
       "1     Cumings, Mrs. John Bradley (Florence Briggs Th...      0            2   \n",
       "2                                Heikkinen, Miss. Laina      0            3   \n",
       "3          Futrelle, Mrs. Jacques Heath (Lily May Peel)      0            4   \n",
       "4                              Allen, Mr. William Henry      0            5   \n",
       "5                                      Moran, Mr. James      0            6   \n",
       "6                               McCarthy, Mr. Timothy J      0            7   \n",
       "7                        Palsson, Master. Gosta Leonard      1            8   \n",
       "8     Johnson, Mrs. Oscar W (Elisabeth Vilhelmina Berg)      2            9   \n",
       "9                   Nasser, Mrs. Nicholas (Adele Achem)      0           10   \n",
       "10                      Sandstrom, Miss. Marguerite Rut      1           11   \n",
       "11                             Bonnell, Miss. Elizabeth      0           12   \n",
       "12                       Saundercock, Mr. William Henry      0           13   \n",
       "13                          Andersson, Mr. Anders Johan      5           14   \n",
       "14                 Vestrom, Miss. Hulda Amanda Adolfina      0           15   \n",
       "15                     Hewlett, Mrs. (Mary D Kingcome)       0           16   \n",
       "16                                 Rice, Master. Eugene      1           17   \n",
       "17                         Williams, Mr. Charles Eugene      0           18   \n",
       "18    Vander Planke, Mrs. Julius (Emelia Maria Vande...      0           19   \n",
       "19                              Masselmani, Mrs. Fatima      0           20   \n",
       "20                                 Fynney, Mr. Joseph J      0           21   \n",
       "21                                Beesley, Mr. Lawrence      0           22   \n",
       "22                          McGowan, Miss. Anna \"Annie\"      0           23   \n",
       "23                         Sloper, Mr. William Thompson      0           24   \n",
       "24                        Palsson, Miss. Torborg Danira      1           25   \n",
       "25    Asplund, Mrs. Carl Oscar (Selma Augusta Emilia...      5           26   \n",
       "26                              Emir, Mr. Farred Chehab      0           27   \n",
       "27                       Fortune, Mr. Charles Alexander      2           28   \n",
       "28                        O'Dwyer, Miss. Ellen \"Nellie\"      0           29   \n",
       "29                                  Todoroff, Mr. Lalio      0           30   \n",
       "...                                                 ...    ...          ...   \n",
       "1279                               Canavan, Mr. Patrick      0         1280   \n",
       "1280                        Palsson, Master. Paul Folke      1         1281   \n",
       "1281                         Payne, Mr. Vivian Ponsonby      0         1282   \n",
       "1282     Lines, Mrs. Ernest H (Elizabeth Lindsey James)      1         1283   \n",
       "1283                      Abbott, Master. Eugene Joseph      2         1284   \n",
       "1284                               Gilbert, Mr. William      0         1285   \n",
       "1285                           Kink-Heilmann, Mr. Anton      1         1286   \n",
       "1286     Smith, Mrs. Lucien Philip (Mary Eloise Hughes)      0         1287   \n",
       "1287                               Colbert, Mr. Patrick      0         1288   \n",
       "1288  Frolicher-Stehli, Mrs. Maxmillian (Margaretha ...      1         1289   \n",
       "1289                     Larsson-Rondberg, Mr. Edvard A      0         1290   \n",
       "1290                           Conlon, Mr. Thomas Henry      0         1291   \n",
       "1291                            Bonnell, Miss. Caroline      0         1292   \n",
       "1292                                    Gale, Mr. Harry      0         1293   \n",
       "1293                     Gibson, Miss. Dorothy Winifred      1         1294   \n",
       "1294                             Carrau, Mr. Jose Pedro      0         1295   \n",
       "1295                       Frauenthal, Mr. Isaac Gerald      0         1296   \n",
       "1296       Nourney, Mr. Alfred (Baron von Drachstedt\")\"      0         1297   \n",
       "1297                          Ware, Mr. William Jeffery      0         1298   \n",
       "1298                         Widener, Mr. George Dunton      1         1299   \n",
       "1299                    Riordan, Miss. Johanna Hannah\"\"      0         1300   \n",
       "1300                          Peacock, Miss. Treasteall      1         1301   \n",
       "1301                             Naughton, Miss. Hannah      0         1302   \n",
       "1302    Minahan, Mrs. William Edward (Lillian E Thorpe)      0         1303   \n",
       "1303                     Henriksson, Miss. Jenny Lovisa      0         1304   \n",
       "1304                                 Spector, Mr. Woolf      0         1305   \n",
       "1305                       Oliva y Ocana, Dona. Fermina      0         1306   \n",
       "1306                       Saether, Mr. Simon Sivertsen      0         1307   \n",
       "1307                                Ware, Mr. Frederick      0         1308   \n",
       "1308                           Peter, Master. Michael J      1         1309   \n",
       "\n",
       "      Pclass     Sex  SibSp  Survived              Ticket  \n",
       "0          3    male      1       0.0           A/5 21171  \n",
       "1          1  female      1       1.0            PC 17599  \n",
       "2          3  female      0       1.0    STON/O2. 3101282  \n",
       "3          1  female      1       1.0              113803  \n",
       "4          3    male      0       0.0              373450  \n",
       "5          3    male      0       0.0              330877  \n",
       "6          1    male      0       0.0               17463  \n",
       "7          3    male      3       0.0              349909  \n",
       "8          3  female      0       1.0              347742  \n",
       "9          2  female      1       1.0              237736  \n",
       "10         3  female      1       1.0             PP 9549  \n",
       "11         1  female      0       1.0              113783  \n",
       "12         3    male      0       0.0           A/5. 2151  \n",
       "13         3    male      1       0.0              347082  \n",
       "14         3  female      0       0.0              350406  \n",
       "15         2  female      0       1.0              248706  \n",
       "16         3    male      4       0.0              382652  \n",
       "17         2    male      0       1.0              244373  \n",
       "18         3  female      1       0.0              345763  \n",
       "19         3  female      0       1.0                2649  \n",
       "20         2    male      0       0.0              239865  \n",
       "21         2    male      0       1.0              248698  \n",
       "22         3  female      0       1.0              330923  \n",
       "23         1    male      0       1.0              113788  \n",
       "24         3  female      3       0.0              349909  \n",
       "25         3  female      1       1.0              347077  \n",
       "26         3    male      0       0.0                2631  \n",
       "27         1    male      3       0.0               19950  \n",
       "28         3  female      0       1.0              330959  \n",
       "29         3    male      0       0.0              349216  \n",
       "...      ...     ...    ...       ...                 ...  \n",
       "1279       3    male      0       NaN              364858  \n",
       "1280       3    male      3       NaN              349909  \n",
       "1281       1    male      0       NaN               12749  \n",
       "1282       1  female      0       NaN            PC 17592  \n",
       "1283       3    male      0       NaN           C.A. 2673  \n",
       "1284       2    male      0       NaN          C.A. 30769  \n",
       "1285       3    male      3       NaN              315153  \n",
       "1286       1  female      1       NaN               13695  \n",
       "1287       3    male      0       NaN              371109  \n",
       "1288       1  female      1       NaN               13567  \n",
       "1289       3    male      0       NaN              347065  \n",
       "1290       3    male      0       NaN               21332  \n",
       "1291       1  female      0       NaN               36928  \n",
       "1292       2    male      1       NaN               28664  \n",
       "1293       1  female      0       NaN              112378  \n",
       "1294       1    male      0       NaN              113059  \n",
       "1295       1    male      1       NaN               17765  \n",
       "1296       2    male      0       NaN       SC/PARIS 2166  \n",
       "1297       2    male      1       NaN               28666  \n",
       "1298       1    male      1       NaN              113503  \n",
       "1299       3  female      0       NaN              334915  \n",
       "1300       3  female      1       NaN  SOTON/O.Q. 3101315  \n",
       "1301       3  female      0       NaN              365237  \n",
       "1302       1  female      1       NaN               19928  \n",
       "1303       3  female      0       NaN              347086  \n",
       "1304       3    male      0       NaN           A.5. 3236  \n",
       "1305       1  female      0       NaN            PC 17758  \n",
       "1306       3    male      0       NaN  SOTON/O.Q. 3101262  \n",
       "1307       3    male      0       NaN              359309  \n",
       "1308       3    male      1       NaN                2668  \n",
       "\n",
       "[1309 rows x 12 columns]"
      ]
     },
     "execution_count": 5,
     "metadata": {},
     "output_type": "execute_result"
    }
   ],
   "source": [
    "#The first step is to fill the missing values in any dataframe.\n",
    "dataset.fillna(np.nan)"
   ]
  },
  {
   "cell_type": "code",
   "execution_count": 6,
   "metadata": {},
   "outputs": [
    {
     "data": {
      "text/plain": [
       "Age             263\n",
       "Cabin          1014\n",
       "Embarked          2\n",
       "Fare              1\n",
       "Name              0\n",
       "Parch             0\n",
       "PassengerId       0\n",
       "Pclass            0\n",
       "Sex               0\n",
       "SibSp             0\n",
       "Survived        418\n",
       "Ticket            0\n",
       "dtype: int64"
      ]
     },
     "execution_count": 6,
     "metadata": {},
     "output_type": "execute_result"
    }
   ],
   "source": [
    "#figuring out how many NULL values are there in our DataFrame\n",
    "dataset.isnull().sum()"
   ]
  },
  {
   "cell_type": "code",
   "execution_count": 7,
   "metadata": {
    "collapsed": true
   },
   "outputs": [],
   "source": [
    "#with the above command we came to know that 'Embarked' has 2 null values of which we have to take care.\n",
    "dataset['Embarked']=dataset['Embarked'].fillna('S')"
   ]
  },
  {
   "cell_type": "code",
   "execution_count": 8,
   "metadata": {
    "collapsed": true
   },
   "outputs": [],
   "source": [
    "#To get the best result it is recommended that we should convert all the categorical columns into integer.\n",
    "#we will be converting all the categorical features in this dataframe.\n",
    "dataset['Sex']=dataset[\"Sex\"].map({\"male\":0,\"female\":1})"
   ]
  },
  {
   "cell_type": "code",
   "execution_count": 9,
   "metadata": {
    "collapsed": true
   },
   "outputs": [],
   "source": [
    "#Age ccoloumn also has the many NULL values which we are filling with the mean of age, \n",
    "#considering which class does passenger belongs to.\n",
    "def imput_age(cols):\n",
    "    Age=cols[0]\n",
    "    Pclass=cols[1]\n",
    "    if pd.isnull(Age):\n",
    "        if Pclass==1:\n",
    "            return 37\n",
    "        elif Pclass==2:\n",
    "            return 29\n",
    "        else:\n",
    "            return 24\n",
    "    else:\n",
    "        return Age"
   ]
  },
  {
   "cell_type": "code",
   "execution_count": 10,
   "metadata": {
    "collapsed": true
   },
   "outputs": [],
   "source": [
    "dataset['Age']=dataset[['Age','Pclass']].apply(imput_age,axis=1)"
   ]
  },
  {
   "cell_type": "code",
   "execution_count": 11,
   "metadata": {
    "collapsed": true
   },
   "outputs": [],
   "source": [
    "dataset_title=[i.split(\",\")[1].split(\".\")[0].strip() for i in dataset['Name']]"
   ]
  },
  {
   "cell_type": "code",
   "execution_count": 12,
   "metadata": {
    "collapsed": true
   },
   "outputs": [],
   "source": [
    "dataset[\"Title\"]=pd.Series(dataset_title)"
   ]
  },
  {
   "cell_type": "code",
   "execution_count": 13,
   "metadata": {},
   "outputs": [
    {
     "data": {
      "text/plain": [
       "Mr              757\n",
       "Miss            260\n",
       "Mrs             197\n",
       "Master           61\n",
       "Dr                8\n",
       "Rev               8\n",
       "Col               4\n",
       "Ms                2\n",
       "Major             2\n",
       "Mlle              2\n",
       "Jonkheer          1\n",
       "the Countess      1\n",
       "Don               1\n",
       "Dona              1\n",
       "Mme               1\n",
       "Capt              1\n",
       "Sir               1\n",
       "Lady              1\n",
       "Name: Title, dtype: int64"
      ]
     },
     "execution_count": 13,
     "metadata": {},
     "output_type": "execute_result"
    }
   ],
   "source": [
    "dataset[\"Title\"].value_counts()"
   ]
  },
  {
   "cell_type": "code",
   "execution_count": 14,
   "metadata": {
    "collapsed": true
   },
   "outputs": [],
   "source": [
    "dataset[\"Title\"]=dataset[\"Title\"].replace(['Lady', 'the Countess','Countess','Capt', 'Col','Don', 'Dr', 'Major', 'Rev', 'Sir', 'Jonkheer', 'Dona'], 'Rare')"
   ]
  },
  {
   "cell_type": "code",
   "execution_count": 15,
   "metadata": {
    "collapsed": true
   },
   "outputs": [],
   "source": [
    "dataset[\"Title\"] = dataset[\"Title\"].map({\"Master\":0, \"Miss\":1, \"Ms\" : 1 , \"Mme\":1, \"Mlle\":1, \"Mrs\":1, \"Mr\":2, \"Rare\":3})"
   ]
  },
  {
   "cell_type": "code",
   "execution_count": 11,
   "metadata": {
    "collapsed": true
   },
   "outputs": [],
   "source": [
    "dataset.drop(labels=[\"Name\"],axis=1,inplace=True)"
   ]
  },
  {
   "cell_type": "code",
   "execution_count": 12,
   "metadata": {
    "collapsed": true
   },
   "outputs": [],
   "source": [
    "dataset[\"Fize\"]=dataset[\"SibSp\"]+dataset[\"Parch\"]+1"
   ]
  },
  {
   "cell_type": "code",
   "execution_count": 13,
   "metadata": {
    "collapsed": true
   },
   "outputs": [],
   "source": [
    "dataset[\"Single\"]=dataset[\"Fize\"].map(lambda s: 1 if s==1 else 0)\n",
    "dataset[\"SmallF\"]=dataset[\"Fize\"].map(lambda s: 1 if s==2 else 0)\n",
    "dataset[\"MedF\"]=dataset[\"Fize\"].map(lambda s: 1 if 3<=s else 0)\n",
    "dataset[\"LargeF\"]=dataset[\"Fize\"].map(lambda s: 1 if s>=5 else 0)"
   ]
  },
  {
   "cell_type": "code",
   "execution_count": 29,
   "metadata": {
    "collapsed": true
   },
   "outputs": [],
   "source": [
    "\n",
    "dataset=pd.get_dummies(dataset,columns=[\"Embarked\"],prefix=\"Em\")"
   ]
  },
  {
   "cell_type": "code",
   "execution_count": 20,
   "metadata": {},
   "outputs": [
    {
     "data": {
      "text/plain": [
       "1014"
      ]
     },
     "execution_count": 20,
     "metadata": {},
     "output_type": "execute_result"
    }
   ],
   "source": [
    "dataset[\"Cabin\"].isnull().sum()"
   ]
  },
  {
   "cell_type": "code",
   "execution_count": 21,
   "metadata": {},
   "outputs": [
    {
     "data": {
      "text/plain": [
       "count             295\n",
       "unique            186\n",
       "top       C23 C25 C27\n",
       "freq                6\n",
       "Name: Cabin, dtype: object"
      ]
     },
     "execution_count": 21,
     "metadata": {},
     "output_type": "execute_result"
    }
   ],
   "source": [
    "dataset[\"Cabin\"].describe()"
   ]
  },
  {
   "cell_type": "code",
   "execution_count": 22,
   "metadata": {
    "collapsed": true
   },
   "outputs": [],
   "source": [
    "dataset[\"Cabin\"] = pd.Series([i[0] if not pd.isnull(i) else 'X' for i in dataset['Cabin'] ])"
   ]
  },
  {
   "cell_type": "code",
   "execution_count": 23,
   "metadata": {
    "collapsed": true
   },
   "outputs": [],
   "source": [
    "dataset=pd.get_dummies(dataset,columns=[\"Cabin\"],prefix=\"Cabin\")"
   ]
  },
  {
   "cell_type": "code",
   "execution_count": 24,
   "metadata": {},
   "outputs": [
    {
     "data": {
      "text/plain": [
       "0                A/5 21171\n",
       "1                 PC 17599\n",
       "2         STON/O2. 3101282\n",
       "3                   113803\n",
       "4                   373450\n",
       "5                   330877\n",
       "6                    17463\n",
       "7                   349909\n",
       "8                   347742\n",
       "9                   237736\n",
       "10                 PP 9549\n",
       "11                  113783\n",
       "12               A/5. 2151\n",
       "13                  347082\n",
       "14                  350406\n",
       "15                  248706\n",
       "16                  382652\n",
       "17                  244373\n",
       "18                  345763\n",
       "19                    2649\n",
       "20                  239865\n",
       "21                  248698\n",
       "22                  330923\n",
       "23                  113788\n",
       "24                  349909\n",
       "25                  347077\n",
       "26                    2631\n",
       "27                   19950\n",
       "28                  330959\n",
       "29                  349216\n",
       "               ...        \n",
       "1279                364858\n",
       "1280                349909\n",
       "1281                 12749\n",
       "1282              PC 17592\n",
       "1283             C.A. 2673\n",
       "1284            C.A. 30769\n",
       "1285                315153\n",
       "1286                 13695\n",
       "1287                371109\n",
       "1288                 13567\n",
       "1289                347065\n",
       "1290                 21332\n",
       "1291                 36928\n",
       "1292                 28664\n",
       "1293                112378\n",
       "1294                113059\n",
       "1295                 17765\n",
       "1296         SC/PARIS 2166\n",
       "1297                 28666\n",
       "1298                113503\n",
       "1299                334915\n",
       "1300    SOTON/O.Q. 3101315\n",
       "1301                365237\n",
       "1302                 19928\n",
       "1303                347086\n",
       "1304             A.5. 3236\n",
       "1305              PC 17758\n",
       "1306    SOTON/O.Q. 3101262\n",
       "1307                359309\n",
       "1308                  2668\n",
       "Name: Ticket, Length: 1309, dtype: object"
      ]
     },
     "execution_count": 24,
     "metadata": {},
     "output_type": "execute_result"
    }
   ],
   "source": [
    "dataset[\"Ticket\"]"
   ]
  },
  {
   "cell_type": "code",
   "execution_count": 25,
   "metadata": {
    "collapsed": true
   },
   "outputs": [],
   "source": [
    "Ticket=[]\n",
    "for i in list(dataset.Ticket):\n",
    "    if not i.isdigit():\n",
    "        Ticket.append(i.replace(\".\",\"\").replace(\"/\",\"\").strip().split(\" \")[0])\n",
    "    else:\n",
    "        Ticket.append('X')"
   ]
  },
  {
   "cell_type": "code",
   "execution_count": 26,
   "metadata": {
    "collapsed": true
   },
   "outputs": [],
   "source": [
    "dataset[\"Ticket\"]=Ticket"
   ]
  },
  {
   "cell_type": "code",
   "execution_count": 27,
   "metadata": {},
   "outputs": [
    {
     "data": {
      "text/plain": [
       "0        A5\n",
       "1        PC\n",
       "2    STONO2\n",
       "3         X\n",
       "4         X\n",
       "Name: Ticket, dtype: object"
      ]
     },
     "execution_count": 27,
     "metadata": {},
     "output_type": "execute_result"
    }
   ],
   "source": [
    "dataset[\"Ticket\"].head()"
   ]
  },
  {
   "cell_type": "code",
   "execution_count": 28,
   "metadata": {
    "collapsed": true
   },
   "outputs": [],
   "source": [
    "dataset = pd.get_dummies(dataset, columns = [\"Ticket\"], prefix=\"T\")"
   ]
  },
  {
   "cell_type": "code",
   "execution_count": 14,
   "metadata": {},
   "outputs": [
    {
     "data": {
      "text/html": [
       "<div>\n",
       "<style>\n",
       "    .dataframe thead tr:only-child th {\n",
       "        text-align: right;\n",
       "    }\n",
       "\n",
       "    .dataframe thead th {\n",
       "        text-align: left;\n",
       "    }\n",
       "\n",
       "    .dataframe tbody tr th {\n",
       "        vertical-align: top;\n",
       "    }\n",
       "</style>\n",
       "<table border=\"1\" class=\"dataframe\">\n",
       "  <thead>\n",
       "    <tr style=\"text-align: right;\">\n",
       "      <th></th>\n",
       "      <th>Age</th>\n",
       "      <th>Cabin</th>\n",
       "      <th>Embarked</th>\n",
       "      <th>Fare</th>\n",
       "      <th>Parch</th>\n",
       "      <th>PassengerId</th>\n",
       "      <th>Pclass</th>\n",
       "      <th>Sex</th>\n",
       "      <th>SibSp</th>\n",
       "      <th>Survived</th>\n",
       "      <th>Ticket</th>\n",
       "      <th>Fize</th>\n",
       "      <th>Single</th>\n",
       "      <th>SmallF</th>\n",
       "      <th>MedF</th>\n",
       "      <th>LargeF</th>\n",
       "    </tr>\n",
       "  </thead>\n",
       "  <tbody>\n",
       "    <tr>\n",
       "      <th>0</th>\n",
       "      <td>22.0</td>\n",
       "      <td>NaN</td>\n",
       "      <td>S</td>\n",
       "      <td>7.2500</td>\n",
       "      <td>0</td>\n",
       "      <td>1</td>\n",
       "      <td>3</td>\n",
       "      <td>0</td>\n",
       "      <td>1</td>\n",
       "      <td>0.0</td>\n",
       "      <td>A/5 21171</td>\n",
       "      <td>2</td>\n",
       "      <td>0</td>\n",
       "      <td>1</td>\n",
       "      <td>0</td>\n",
       "      <td>0</td>\n",
       "    </tr>\n",
       "    <tr>\n",
       "      <th>1</th>\n",
       "      <td>38.0</td>\n",
       "      <td>C85</td>\n",
       "      <td>C</td>\n",
       "      <td>71.2833</td>\n",
       "      <td>0</td>\n",
       "      <td>2</td>\n",
       "      <td>1</td>\n",
       "      <td>1</td>\n",
       "      <td>1</td>\n",
       "      <td>1.0</td>\n",
       "      <td>PC 17599</td>\n",
       "      <td>2</td>\n",
       "      <td>0</td>\n",
       "      <td>1</td>\n",
       "      <td>0</td>\n",
       "      <td>0</td>\n",
       "    </tr>\n",
       "    <tr>\n",
       "      <th>2</th>\n",
       "      <td>26.0</td>\n",
       "      <td>NaN</td>\n",
       "      <td>S</td>\n",
       "      <td>7.9250</td>\n",
       "      <td>0</td>\n",
       "      <td>3</td>\n",
       "      <td>3</td>\n",
       "      <td>1</td>\n",
       "      <td>0</td>\n",
       "      <td>1.0</td>\n",
       "      <td>STON/O2. 3101282</td>\n",
       "      <td>1</td>\n",
       "      <td>1</td>\n",
       "      <td>0</td>\n",
       "      <td>0</td>\n",
       "      <td>0</td>\n",
       "    </tr>\n",
       "    <tr>\n",
       "      <th>3</th>\n",
       "      <td>35.0</td>\n",
       "      <td>C123</td>\n",
       "      <td>S</td>\n",
       "      <td>53.1000</td>\n",
       "      <td>0</td>\n",
       "      <td>4</td>\n",
       "      <td>1</td>\n",
       "      <td>1</td>\n",
       "      <td>1</td>\n",
       "      <td>1.0</td>\n",
       "      <td>113803</td>\n",
       "      <td>2</td>\n",
       "      <td>0</td>\n",
       "      <td>1</td>\n",
       "      <td>0</td>\n",
       "      <td>0</td>\n",
       "    </tr>\n",
       "    <tr>\n",
       "      <th>4</th>\n",
       "      <td>35.0</td>\n",
       "      <td>NaN</td>\n",
       "      <td>S</td>\n",
       "      <td>8.0500</td>\n",
       "      <td>0</td>\n",
       "      <td>5</td>\n",
       "      <td>3</td>\n",
       "      <td>0</td>\n",
       "      <td>0</td>\n",
       "      <td>0.0</td>\n",
       "      <td>373450</td>\n",
       "      <td>1</td>\n",
       "      <td>1</td>\n",
       "      <td>0</td>\n",
       "      <td>0</td>\n",
       "      <td>0</td>\n",
       "    </tr>\n",
       "  </tbody>\n",
       "</table>\n",
       "</div>"
      ],
      "text/plain": [
       "    Age Cabin Embarked     Fare  Parch  PassengerId  Pclass  Sex  SibSp  \\\n",
       "0  22.0   NaN        S   7.2500      0            1       3    0      1   \n",
       "1  38.0   C85        C  71.2833      0            2       1    1      1   \n",
       "2  26.0   NaN        S   7.9250      0            3       3    1      0   \n",
       "3  35.0  C123        S  53.1000      0            4       1    1      1   \n",
       "4  35.0   NaN        S   8.0500      0            5       3    0      0   \n",
       "\n",
       "   Survived            Ticket  Fize  Single  SmallF  MedF  LargeF  \n",
       "0       0.0         A/5 21171     2       0       1     0       0  \n",
       "1       1.0          PC 17599     2       0       1     0       0  \n",
       "2       1.0  STON/O2. 3101282     1       1       0     0       0  \n",
       "3       1.0            113803     2       0       1     0       0  \n",
       "4       0.0            373450     1       1       0     0       0  "
      ]
     },
     "execution_count": 14,
     "metadata": {},
     "output_type": "execute_result"
    }
   ],
   "source": [
    "dataset.head()"
   ]
  },
  {
   "cell_type": "code",
   "execution_count": 15,
   "metadata": {
    "collapsed": true
   },
   "outputs": [],
   "source": [
    "dataset[\"Fare\"] = dataset[\"Fare\"].map(lambda i: np.log(i) if i > 0 else 0)"
   ]
  },
  {
   "cell_type": "code",
   "execution_count": 16,
   "metadata": {},
   "outputs": [
    {
     "data": {
      "text/html": [
       "<div>\n",
       "<style>\n",
       "    .dataframe thead tr:only-child th {\n",
       "        text-align: right;\n",
       "    }\n",
       "\n",
       "    .dataframe thead th {\n",
       "        text-align: left;\n",
       "    }\n",
       "\n",
       "    .dataframe tbody tr th {\n",
       "        vertical-align: top;\n",
       "    }\n",
       "</style>\n",
       "<table border=\"1\" class=\"dataframe\">\n",
       "  <thead>\n",
       "    <tr style=\"text-align: right;\">\n",
       "      <th></th>\n",
       "      <th>Age</th>\n",
       "      <th>Cabin</th>\n",
       "      <th>Embarked</th>\n",
       "      <th>Fare</th>\n",
       "      <th>Parch</th>\n",
       "      <th>PassengerId</th>\n",
       "      <th>Pclass</th>\n",
       "      <th>Sex</th>\n",
       "      <th>SibSp</th>\n",
       "      <th>Survived</th>\n",
       "      <th>Ticket</th>\n",
       "      <th>Fize</th>\n",
       "      <th>Single</th>\n",
       "      <th>SmallF</th>\n",
       "      <th>MedF</th>\n",
       "      <th>LargeF</th>\n",
       "    </tr>\n",
       "  </thead>\n",
       "  <tbody>\n",
       "    <tr>\n",
       "      <th>0</th>\n",
       "      <td>22.0</td>\n",
       "      <td>NaN</td>\n",
       "      <td>S</td>\n",
       "      <td>1.981001</td>\n",
       "      <td>0</td>\n",
       "      <td>1</td>\n",
       "      <td>3</td>\n",
       "      <td>0</td>\n",
       "      <td>1</td>\n",
       "      <td>0.0</td>\n",
       "      <td>A/5 21171</td>\n",
       "      <td>2</td>\n",
       "      <td>0</td>\n",
       "      <td>1</td>\n",
       "      <td>0</td>\n",
       "      <td>0</td>\n",
       "    </tr>\n",
       "    <tr>\n",
       "      <th>1</th>\n",
       "      <td>38.0</td>\n",
       "      <td>C85</td>\n",
       "      <td>C</td>\n",
       "      <td>4.266662</td>\n",
       "      <td>0</td>\n",
       "      <td>2</td>\n",
       "      <td>1</td>\n",
       "      <td>1</td>\n",
       "      <td>1</td>\n",
       "      <td>1.0</td>\n",
       "      <td>PC 17599</td>\n",
       "      <td>2</td>\n",
       "      <td>0</td>\n",
       "      <td>1</td>\n",
       "      <td>0</td>\n",
       "      <td>0</td>\n",
       "    </tr>\n",
       "    <tr>\n",
       "      <th>2</th>\n",
       "      <td>26.0</td>\n",
       "      <td>NaN</td>\n",
       "      <td>S</td>\n",
       "      <td>2.070022</td>\n",
       "      <td>0</td>\n",
       "      <td>3</td>\n",
       "      <td>3</td>\n",
       "      <td>1</td>\n",
       "      <td>0</td>\n",
       "      <td>1.0</td>\n",
       "      <td>STON/O2. 3101282</td>\n",
       "      <td>1</td>\n",
       "      <td>1</td>\n",
       "      <td>0</td>\n",
       "      <td>0</td>\n",
       "      <td>0</td>\n",
       "    </tr>\n",
       "    <tr>\n",
       "      <th>3</th>\n",
       "      <td>35.0</td>\n",
       "      <td>C123</td>\n",
       "      <td>S</td>\n",
       "      <td>3.972177</td>\n",
       "      <td>0</td>\n",
       "      <td>4</td>\n",
       "      <td>1</td>\n",
       "      <td>1</td>\n",
       "      <td>1</td>\n",
       "      <td>1.0</td>\n",
       "      <td>113803</td>\n",
       "      <td>2</td>\n",
       "      <td>0</td>\n",
       "      <td>1</td>\n",
       "      <td>0</td>\n",
       "      <td>0</td>\n",
       "    </tr>\n",
       "    <tr>\n",
       "      <th>4</th>\n",
       "      <td>35.0</td>\n",
       "      <td>NaN</td>\n",
       "      <td>S</td>\n",
       "      <td>2.085672</td>\n",
       "      <td>0</td>\n",
       "      <td>5</td>\n",
       "      <td>3</td>\n",
       "      <td>0</td>\n",
       "      <td>0</td>\n",
       "      <td>0.0</td>\n",
       "      <td>373450</td>\n",
       "      <td>1</td>\n",
       "      <td>1</td>\n",
       "      <td>0</td>\n",
       "      <td>0</td>\n",
       "      <td>0</td>\n",
       "    </tr>\n",
       "  </tbody>\n",
       "</table>\n",
       "</div>"
      ],
      "text/plain": [
       "    Age Cabin Embarked      Fare  Parch  PassengerId  Pclass  Sex  SibSp  \\\n",
       "0  22.0   NaN        S  1.981001      0            1       3    0      1   \n",
       "1  38.0   C85        C  4.266662      0            2       1    1      1   \n",
       "2  26.0   NaN        S  2.070022      0            3       3    1      0   \n",
       "3  35.0  C123        S  3.972177      0            4       1    1      1   \n",
       "4  35.0   NaN        S  2.085672      0            5       3    0      0   \n",
       "\n",
       "   Survived            Ticket  Fize  Single  SmallF  MedF  LargeF  \n",
       "0       0.0         A/5 21171     2       0       1     0       0  \n",
       "1       1.0          PC 17599     2       0       1     0       0  \n",
       "2       1.0  STON/O2. 3101282     1       1       0     0       0  \n",
       "3       1.0            113803     2       0       1     0       0  \n",
       "4       0.0            373450     1       1       0     0       0  "
      ]
     },
     "execution_count": 16,
     "metadata": {},
     "output_type": "execute_result"
    }
   ],
   "source": [
    "dataset.head()"
   ]
  },
  {
   "cell_type": "code",
   "execution_count": 17,
   "metadata": {
    "collapsed": true
   },
   "outputs": [],
   "source": [
    "dataset.drop(labels=['SibSp'],axis=1,inplace=True)"
   ]
  },
  {
   "cell_type": "code",
   "execution_count": 50,
   "metadata": {
    "collapsed": true
   },
   "outputs": [],
   "source": [
    "dataset.drop(labels=['Title_0','Title_1','Title_2','Title_3'],axis=1,inplace=True)"
   ]
  },
  {
   "cell_type": "code",
   "execution_count": 27,
   "metadata": {},
   "outputs": [
    {
     "name": "stdout",
     "output_type": "stream",
     "text": [
      "<class 'pandas.core.frame.DataFrame'>\n",
      "RangeIndex: 1309 entries, 0 to 1308\n",
      "Data columns (total 11 columns):\n",
      "Age         1309 non-null float64\n",
      "Embarked    1309 non-null object\n",
      "Fare        1309 non-null float64\n",
      "Pclass      1309 non-null int64\n",
      "Sex         1309 non-null int64\n",
      "Survived    891 non-null float64\n",
      "Fize        1309 non-null int64\n",
      "Single      1309 non-null int64\n",
      "SmallF      1309 non-null int64\n",
      "MedF        1309 non-null int64\n",
      "LargeF      1309 non-null int64\n",
      "dtypes: float64(3), int64(7), object(1)\n",
      "memory usage: 112.6+ KB\n"
     ]
    }
   ],
   "source": [
    "dataset.info()"
   ]
  },
  {
   "cell_type": "code",
   "execution_count": 56,
   "metadata": {},
   "outputs": [
    {
     "data": {
      "text/html": [
       "<div>\n",
       "<style>\n",
       "    .dataframe thead tr:only-child th {\n",
       "        text-align: right;\n",
       "    }\n",
       "\n",
       "    .dataframe thead th {\n",
       "        text-align: left;\n",
       "    }\n",
       "\n",
       "    .dataframe tbody tr th {\n",
       "        vertical-align: top;\n",
       "    }\n",
       "</style>\n",
       "<table border=\"1\" class=\"dataframe\">\n",
       "  <thead>\n",
       "    <tr style=\"text-align: right;\">\n",
       "      <th></th>\n",
       "      <th>Age</th>\n",
       "      <th>Fare</th>\n",
       "      <th>Pclass</th>\n",
       "      <th>Sex</th>\n",
       "      <th>Survived</th>\n",
       "      <th>Fize</th>\n",
       "      <th>Single</th>\n",
       "      <th>Em_C</th>\n",
       "      <th>Em_Q</th>\n",
       "      <th>Em_S</th>\n",
       "    </tr>\n",
       "  </thead>\n",
       "  <tbody>\n",
       "    <tr>\n",
       "      <th>0</th>\n",
       "      <td>22.0</td>\n",
       "      <td>1.981001</td>\n",
       "      <td>3</td>\n",
       "      <td>0</td>\n",
       "      <td>0.0</td>\n",
       "      <td>2</td>\n",
       "      <td>0</td>\n",
       "      <td>0</td>\n",
       "      <td>0</td>\n",
       "      <td>1</td>\n",
       "    </tr>\n",
       "    <tr>\n",
       "      <th>1</th>\n",
       "      <td>38.0</td>\n",
       "      <td>4.266662</td>\n",
       "      <td>1</td>\n",
       "      <td>1</td>\n",
       "      <td>1.0</td>\n",
       "      <td>2</td>\n",
       "      <td>0</td>\n",
       "      <td>1</td>\n",
       "      <td>0</td>\n",
       "      <td>0</td>\n",
       "    </tr>\n",
       "    <tr>\n",
       "      <th>2</th>\n",
       "      <td>26.0</td>\n",
       "      <td>2.070022</td>\n",
       "      <td>3</td>\n",
       "      <td>1</td>\n",
       "      <td>1.0</td>\n",
       "      <td>1</td>\n",
       "      <td>1</td>\n",
       "      <td>0</td>\n",
       "      <td>0</td>\n",
       "      <td>1</td>\n",
       "    </tr>\n",
       "    <tr>\n",
       "      <th>3</th>\n",
       "      <td>35.0</td>\n",
       "      <td>3.972177</td>\n",
       "      <td>1</td>\n",
       "      <td>1</td>\n",
       "      <td>1.0</td>\n",
       "      <td>2</td>\n",
       "      <td>0</td>\n",
       "      <td>0</td>\n",
       "      <td>0</td>\n",
       "      <td>1</td>\n",
       "    </tr>\n",
       "    <tr>\n",
       "      <th>4</th>\n",
       "      <td>35.0</td>\n",
       "      <td>2.085672</td>\n",
       "      <td>3</td>\n",
       "      <td>0</td>\n",
       "      <td>0.0</td>\n",
       "      <td>1</td>\n",
       "      <td>1</td>\n",
       "      <td>0</td>\n",
       "      <td>0</td>\n",
       "      <td>1</td>\n",
       "    </tr>\n",
       "  </tbody>\n",
       "</table>\n",
       "</div>"
      ],
      "text/plain": [
       "    Age      Fare  Pclass  Sex  Survived  Fize  Single  Em_C  Em_Q  Em_S\n",
       "0  22.0  1.981001       3    0       0.0     2       0     0     0     1\n",
       "1  38.0  4.266662       1    1       1.0     2       0     1     0     0\n",
       "2  26.0  2.070022       3    1       1.0     1       1     0     0     1\n",
       "3  35.0  3.972177       1    1       1.0     2       0     0     0     1\n",
       "4  35.0  2.085672       3    0       0.0     1       1     0     0     1"
      ]
     },
     "execution_count": 56,
     "metadata": {},
     "output_type": "execute_result"
    }
   ],
   "source": [
    "dataset.head()"
   ]
  },
  {
   "cell_type": "code",
   "execution_count": 55,
   "metadata": {
    "collapsed": true
   },
   "outputs": [],
   "source": [
    "dataset.drop(labels=['SmallF','MedF','LargeF'],axis=1,inplace=True)"
   ]
  },
  {
   "cell_type": "code",
   "execution_count": 22,
   "metadata": {
    "collapsed": true
   },
   "outputs": [],
   "source": [
    "dataset.drop(labels=['Ticket'],axis=1,inplace=True)"
   ]
  },
  {
   "cell_type": "code",
   "execution_count": 196,
   "metadata": {
    "collapsed": true
   },
   "outputs": [],
   "source": [
    "dataset.drop(labels=['Age'],axis=1,inplace=True)"
   ]
  },
  {
   "cell_type": "code",
   "execution_count": 25,
   "metadata": {
    "collapsed": true
   },
   "outputs": [],
   "source": [
    "dataset.drop(labels=['PassengerId'],axis=1,inplace=True)"
   ]
  },
  {
   "cell_type": "code",
   "execution_count": 24,
   "metadata": {
    "collapsed": true
   },
   "outputs": [],
   "source": [
    "dataset.drop(labels=['Parch'],axis=1,inplace=True)"
   ]
  },
  {
   "cell_type": "code",
   "execution_count": 31,
   "metadata": {},
   "outputs": [
    {
     "data": {
      "text/html": [
       "<div>\n",
       "<style>\n",
       "    .dataframe thead tr:only-child th {\n",
       "        text-align: right;\n",
       "    }\n",
       "\n",
       "    .dataframe thead th {\n",
       "        text-align: left;\n",
       "    }\n",
       "\n",
       "    .dataframe tbody tr th {\n",
       "        vertical-align: top;\n",
       "    }\n",
       "</style>\n",
       "<table border=\"1\" class=\"dataframe\">\n",
       "  <thead>\n",
       "    <tr style=\"text-align: right;\">\n",
       "      <th></th>\n",
       "      <th>Age</th>\n",
       "      <th>Fare</th>\n",
       "      <th>Pclass</th>\n",
       "      <th>Sex</th>\n",
       "      <th>Survived</th>\n",
       "      <th>Fize</th>\n",
       "      <th>Single</th>\n",
       "      <th>SmallF</th>\n",
       "      <th>MedF</th>\n",
       "      <th>LargeF</th>\n",
       "      <th>Em_C</th>\n",
       "      <th>Em_Q</th>\n",
       "      <th>Em_S</th>\n",
       "    </tr>\n",
       "  </thead>\n",
       "  <tbody>\n",
       "    <tr>\n",
       "      <th>0</th>\n",
       "      <td>22.0</td>\n",
       "      <td>1.981001</td>\n",
       "      <td>3</td>\n",
       "      <td>0</td>\n",
       "      <td>0.0</td>\n",
       "      <td>2</td>\n",
       "      <td>0</td>\n",
       "      <td>1</td>\n",
       "      <td>0</td>\n",
       "      <td>0</td>\n",
       "      <td>0</td>\n",
       "      <td>0</td>\n",
       "      <td>1</td>\n",
       "    </tr>\n",
       "    <tr>\n",
       "      <th>1</th>\n",
       "      <td>38.0</td>\n",
       "      <td>4.266662</td>\n",
       "      <td>1</td>\n",
       "      <td>1</td>\n",
       "      <td>1.0</td>\n",
       "      <td>2</td>\n",
       "      <td>0</td>\n",
       "      <td>1</td>\n",
       "      <td>0</td>\n",
       "      <td>0</td>\n",
       "      <td>1</td>\n",
       "      <td>0</td>\n",
       "      <td>0</td>\n",
       "    </tr>\n",
       "    <tr>\n",
       "      <th>2</th>\n",
       "      <td>26.0</td>\n",
       "      <td>2.070022</td>\n",
       "      <td>3</td>\n",
       "      <td>1</td>\n",
       "      <td>1.0</td>\n",
       "      <td>1</td>\n",
       "      <td>1</td>\n",
       "      <td>0</td>\n",
       "      <td>0</td>\n",
       "      <td>0</td>\n",
       "      <td>0</td>\n",
       "      <td>0</td>\n",
       "      <td>1</td>\n",
       "    </tr>\n",
       "    <tr>\n",
       "      <th>3</th>\n",
       "      <td>35.0</td>\n",
       "      <td>3.972177</td>\n",
       "      <td>1</td>\n",
       "      <td>1</td>\n",
       "      <td>1.0</td>\n",
       "      <td>2</td>\n",
       "      <td>0</td>\n",
       "      <td>1</td>\n",
       "      <td>0</td>\n",
       "      <td>0</td>\n",
       "      <td>0</td>\n",
       "      <td>0</td>\n",
       "      <td>1</td>\n",
       "    </tr>\n",
       "    <tr>\n",
       "      <th>4</th>\n",
       "      <td>35.0</td>\n",
       "      <td>2.085672</td>\n",
       "      <td>3</td>\n",
       "      <td>0</td>\n",
       "      <td>0.0</td>\n",
       "      <td>1</td>\n",
       "      <td>1</td>\n",
       "      <td>0</td>\n",
       "      <td>0</td>\n",
       "      <td>0</td>\n",
       "      <td>0</td>\n",
       "      <td>0</td>\n",
       "      <td>1</td>\n",
       "    </tr>\n",
       "  </tbody>\n",
       "</table>\n",
       "</div>"
      ],
      "text/plain": [
       "    Age      Fare  Pclass  Sex  Survived  Fize  Single  SmallF  MedF  LargeF  \\\n",
       "0  22.0  1.981001       3    0       0.0     2       0       1     0       0   \n",
       "1  38.0  4.266662       1    1       1.0     2       0       1     0       0   \n",
       "2  26.0  2.070022       3    1       1.0     1       1       0     0       0   \n",
       "3  35.0  3.972177       1    1       1.0     2       0       1     0       0   \n",
       "4  35.0  2.085672       3    0       0.0     1       1       0     0       0   \n",
       "\n",
       "   Em_C  Em_Q  Em_S  \n",
       "0     0     0     1  \n",
       "1     1     0     0  \n",
       "2     0     0     1  \n",
       "3     0     0     1  \n",
       "4     0     0     1  "
      ]
     },
     "execution_count": 31,
     "metadata": {},
     "output_type": "execute_result"
    }
   ],
   "source": [
    "dataset.head()"
   ]
  },
  {
   "cell_type": "code",
   "execution_count": 38,
   "metadata": {
    "collapsed": true
   },
   "outputs": [],
   "source": [
    "dataset.drop(labels=['Name'],axis=1,inplace=True)"
   ]
  },
  {
   "cell_type": "code",
   "execution_count": 56,
   "metadata": {
    "collapsed": true
   },
   "outputs": [],
   "source": [
    "dataset1=dataset.copy(deep=True)"
   ]
  },
  {
   "cell_type": "code",
   "execution_count": 30,
   "metadata": {
    "scrolled": true
   },
   "outputs": [
    {
     "ename": "NameError",
     "evalue": "name 'dataset1' is not defined",
     "output_type": "error",
     "traceback": [
      "\u001b[0;31m---------------------------------------------------------------------------\u001b[0m",
      "\u001b[0;31mNameError\u001b[0m                                 Traceback (most recent call last)",
      "\u001b[0;32m<ipython-input-30-c1b74e61b7f2>\u001b[0m in \u001b[0;36m<module>\u001b[0;34m()\u001b[0m\n\u001b[0;32m----> 1\u001b[0;31m \u001b[0mdataset1\u001b[0m\u001b[0;34m.\u001b[0m\u001b[0mhead\u001b[0m\u001b[0;34m(\u001b[0m\u001b[0;34m)\u001b[0m\u001b[0;34m\u001b[0m\u001b[0m\n\u001b[0m",
      "\u001b[0;31mNameError\u001b[0m: name 'dataset1' is not defined"
     ]
    }
   ],
   "source": [
    "dataset1.head()"
   ]
  },
  {
   "cell_type": "code",
   "execution_count": 57,
   "metadata": {
    "collapsed": true
   },
   "outputs": [],
   "source": [
    "cor=dataset.corr()"
   ]
  },
  {
   "cell_type": "code",
   "execution_count": 58,
   "metadata": {},
   "outputs": [
    {
     "data": {
      "text/plain": [
       "<matplotlib.axes._subplots.AxesSubplot at 0x7fbf9faf4be0>"
      ]
     },
     "execution_count": 58,
     "metadata": {},
     "output_type": "execute_result"
    },
    {
     "data": {
      "image/png": "[encoded data removed]",
      "text/plain": [
       "<matplotlib.figure.Figure at 0x7fbf9fb084a8>"
      ]
     },
     "metadata": {},
     "output_type": "display_data"
    }
   ],
   "source": [
    "plt.figure(figsize=(18,6))\n",
    "sns.heatmap(cor,cmap='plasma')"
   ]
  },
  {
   "cell_type": "code",
   "execution_count": null,
   "metadata": {
    "collapsed": true
   },
   "outputs": [],
   "source": []
  },
  {
   "cell_type": "code",
   "execution_count": null,
   "metadata": {
    "collapsed": true
   },
   "outputs": [],
   "source": []
  },
  {
   "cell_type": "code",
   "execution_count": 59,
   "metadata": {},
   "outputs": [
    {
     "name": "stderr",
     "output_type": "stream",
     "text": [
      "/home/harsh/anaconda3/lib/python3.6/site-packages/ipykernel_launcher.py:5: SettingWithCopyWarning: \n",
      "A value is trying to be set on a copy of a slice from a DataFrame\n",
      "\n",
      "See the caveats in the documentation: http://pandas.pydata.org/pandas-docs/stable/indexing.html#indexing-view-versus-copy\n",
      "  \"\"\"\n"
     ]
    }
   ],
   "source": [
    "## Separate train dataset and test dataset\n",
    "\n",
    "train = dataset[:train_len]\n",
    "test = dataset[train_len:]\n",
    "test.drop(labels=[\"Survived\"],axis = 1,inplace=True)\n",
    "\n"
   ]
  },
  {
   "cell_type": "code",
   "execution_count": 66,
   "metadata": {},
   "outputs": [
    {
     "name": "stderr",
     "output_type": "stream",
     "text": [
      "/home/harsh/anaconda3/lib/python3.6/site-packages/ipykernel_launcher.py:2: SettingWithCopyWarning: \n",
      "A value is trying to be set on a copy of a slice from a DataFrame.\n",
      "Try using .loc[row_indexer,col_indexer] = value instead\n",
      "\n",
      "See the caveats in the documentation: http://pandas.pydata.org/pandas-docs/stable/indexing.html#indexing-view-versus-copy\n",
      "  \n"
     ]
    }
   ],
   "source": [
    "\n",
    "train[\"Survived\"] = train[\"Survived\"].astype(int)\n",
    "\n",
    "Y= train[\"Survived\"]\n",
    "\n",
    "X= train.drop(labels = [\"Survived\"],axis = 1)"
   ]
  },
  {
   "cell_type": "code",
   "execution_count": 240,
   "metadata": {
    "collapsed": true
   },
   "outputs": [],
   "source": [
    "from sklearn.model_selection import train_test_split"
   ]
  },
  {
   "cell_type": "code",
   "execution_count": 67,
   "metadata": {
    "collapsed": true
   },
   "outputs": [],
   "source": [
    "X_train, X_test, y_train, y_test = train_test_split(X, Y, test_size=0.3)"
   ]
  },
  {
   "cell_type": "code",
   "execution_count": 61,
   "metadata": {
    "collapsed": true
   },
   "outputs": [],
   "source": [
    "from sklearn.ensemble import RandomForestClassifier"
   ]
  },
  {
   "cell_type": "code",
   "execution_count": 62,
   "metadata": {
    "collapsed": true
   },
   "outputs": [],
   "source": [
    "from sklearn.preprocessing import MinMaxScaler\n",
    "min_max=MinMaxScaler()\n",
    "# Scaling down both train and test data set\n",
    "X_train_minmax=min_max.fit_transform(X_train)\n",
    "X_test_minmax=min_max.fit_transform(X_test)"
   ]
  },
  {
   "cell_type": "code",
   "execution_count": 63,
   "metadata": {},
   "outputs": [
    {
     "ename": "NameError",
     "evalue": "name 'rfc' is not defined",
     "output_type": "error",
     "traceback": [
      "\u001b[0;31m---------------------------------------------------------------------------\u001b[0m",
      "\u001b[0;31mNameError\u001b[0m                                 Traceback (most recent call last)",
      "\u001b[0;32m<ipython-input-63-04e8facb105c>\u001b[0m in \u001b[0;36m<module>\u001b[0;34m()\u001b[0m\n\u001b[0;32m----> 1\u001b[0;31m \u001b[0mrfc\u001b[0m\u001b[0;34m.\u001b[0m\u001b[0mfit\u001b[0m\u001b[0;34m(\u001b[0m\u001b[0mX_train_minmax\u001b[0m\u001b[0;34m,\u001b[0m\u001b[0my_train\u001b[0m\u001b[0;34m)\u001b[0m\u001b[0;34m\u001b[0m\u001b[0m\n\u001b[0m",
      "\u001b[0;31mNameError\u001b[0m: name 'rfc' is not defined"
     ]
    }
   ],
   "source": [
    "rfc.fit(X_train_minmax,y_train)"
   ]
  },
  {
   "cell_type": "code",
   "execution_count": 124,
   "metadata": {},
   "outputs": [
    {
     "data": {
      "text/plain": [
       "0.77238805970149249"
      ]
     },
     "execution_count": 124,
     "metadata": {},
     "output_type": "execute_result"
    }
   ],
   "source": [
    "accuracy_score(y_test,rfc.predict(X_test_minmax))"
   ]
  },
  {
   "cell_type": "code",
   "execution_count": 125,
   "metadata": {
    "collapsed": true
   },
   "outputs": [],
   "source": [
    "rf_params = {\n",
    "    'n_jobs': -1,\n",
    "    'n_estimators': 500,\n",
    "     'warm_start': True, \n",
    "     #'max_features': 0.2,\n",
    "    'max_depth': 6,\n",
    "    'min_samples_leaf': 2,\n",
    "    'max_features' : 'sqrt',\n",
    "    'verbose': 0\n",
    "}"
   ]
  },
  {
   "cell_type": "code",
   "execution_count": 68,
   "metadata": {},
   "outputs": [
    {
     "data": {
      "text/plain": [
       "0.77985074626865669"
      ]
     },
     "execution_count": 68,
     "metadata": {},
     "output_type": "execute_result"
    }
   ],
   "source": [
    "# Standardizing the train and test data\n",
    "from sklearn.preprocessing import scale\n",
    "X_train_scale=scale(X_train)\n",
    "X_test_scale=scale(X_test)\n",
    "# Fitting logistic regression on our standardized data set\n",
    "from sklearn.linear_model import LogisticRegression\n",
    "log=RandomForestClassifier()\n",
    "log.fit(X_train_scale,y_train)\n",
    "# Checking the model's accuracy\n",
    "accuracy_score(y_test,log.predict(X_test_scale))"
   ]
  },
  {
   "cell_type": "code",
   "execution_count": 69,
   "metadata": {
    "collapsed": true
   },
   "outputs": [],
   "source": [
    "rfc_predictions1=log.predict(test)"
   ]
  },
  {
   "cell_type": "code",
   "execution_count": null,
   "metadata": {
    "collapsed": true
   },
   "outputs": [],
   "source": []
  },
  {
   "cell_type": "code",
   "execution_count": 70,
   "metadata": {
    "collapsed": true
   },
   "outputs": [],
   "source": [
    "rfc=RandomForestClassifier(n_estimators=400)"
   ]
  },
  {
   "cell_type": "code",
   "execution_count": 71,
   "metadata": {},
   "outputs": [
    {
     "data": {
      "text/plain": [
       "RandomForestClassifier(bootstrap=True, class_weight=None, criterion='gini',\n",
       "            max_depth=None, max_features='auto', max_leaf_nodes=None,\n",
       "            min_impurity_decrease=0.0, min_impurity_split=None,\n",
       "            min_samples_leaf=1, min_samples_split=2,\n",
       "            min_weight_fraction_leaf=0.0, n_estimators=400, n_jobs=1,\n",
       "            oob_score=False, random_state=None, verbose=0,\n",
       "            warm_start=False)"
      ]
     },
     "execution_count": 71,
     "metadata": {},
     "output_type": "execute_result"
    }
   ],
   "source": [
    "rfc.fit(X_train,y_train)"
   ]
  },
  {
   "cell_type": "code",
   "execution_count": 72,
   "metadata": {
    "collapsed": true
   },
   "outputs": [],
   "source": [
    "rfc_predictions1=rfc.predict(X_test)"
   ]
  },
  {
   "cell_type": "code",
   "execution_count": 66,
   "metadata": {
    "collapsed": true
   },
   "outputs": [],
   "source": [
    "from sklearn.metrics import accuracy_score"
   ]
  },
  {
   "cell_type": "code",
   "execution_count": 73,
   "metadata": {},
   "outputs": [
    {
     "name": "stdout",
     "output_type": "stream",
     "text": [
      "0.80223880597\n"
     ]
    }
   ],
   "source": [
    "print(accuracy_score(y_test,rfc_predictions1))"
   ]
  },
  {
   "cell_type": "code",
   "execution_count": 47,
   "metadata": {
    "collapsed": true
   },
   "outputs": [
    {
     "name": "stdout",
     "output_type": "stream",
     "text": [
      "<class 'pandas.core.frame.DataFrame'>\n",
      "RangeIndex: 418 entries, 891 to 1308\n",
      "Data columns (total 65 columns):\n",
      "Age            418 non-null float64\n",
      "Fare           417 non-null float64\n",
      "Parch          418 non-null int64\n",
      "PassengerId    418 non-null int64\n",
      "Pclass         418 non-null int64\n",
      "Sex            418 non-null int64\n",
      "SibSp          418 non-null int64\n",
      "Fize           418 non-null int64\n",
      "Single         418 non-null int64\n",
      "SmallF         418 non-null int64\n",
      "MedF           418 non-null int64\n",
      "LargeF         418 non-null int64\n",
      "Title_0        418 non-null uint8\n",
      "Title_1        418 non-null uint8\n",
      "Title_2        418 non-null uint8\n",
      "Title_3        418 non-null uint8\n",
      "Em_C           418 non-null uint8\n",
      "Em_Q           418 non-null uint8\n",
      "Em_S           418 non-null uint8\n",
      "Cabin_A        418 non-null uint8\n",
      "Cabin_B        418 non-null uint8\n",
      "Cabin_C        418 non-null uint8\n",
      "Cabin_D        418 non-null uint8\n",
      "Cabin_E        418 non-null uint8\n",
      "Cabin_F        418 non-null uint8\n",
      "Cabin_G        418 non-null uint8\n",
      "Cabin_T        418 non-null uint8\n",
      "Cabin_X        418 non-null uint8\n",
      "T_A            418 non-null uint8\n",
      "T_A4           418 non-null uint8\n",
      "T_A5           418 non-null uint8\n",
      "T_AQ3          418 non-null uint8\n",
      "T_AQ4          418 non-null uint8\n",
      "T_AS           418 non-null uint8\n",
      "T_C            418 non-null uint8\n",
      "T_CA           418 non-null uint8\n",
      "T_CASOTON      418 non-null uint8\n",
      "T_FC           418 non-null uint8\n",
      "T_FCC          418 non-null uint8\n",
      "T_Fa           418 non-null uint8\n",
      "T_LINE         418 non-null uint8\n",
      "T_LP           418 non-null uint8\n",
      "T_PC           418 non-null uint8\n",
      "T_PP           418 non-null uint8\n",
      "T_PPP          418 non-null uint8\n",
      "T_SC           418 non-null uint8\n",
      "T_SCA3         418 non-null uint8\n",
      "T_SCA4         418 non-null uint8\n",
      "T_SCAH         418 non-null uint8\n",
      "T_SCOW         418 non-null uint8\n",
      "T_SCPARIS      418 non-null uint8\n",
      "T_SCParis      418 non-null uint8\n",
      "T_SOC          418 non-null uint8\n",
      "T_SOP          418 non-null uint8\n",
      "T_SOPP         418 non-null uint8\n",
      "T_SOTONO2      418 non-null uint8\n",
      "T_SOTONOQ      418 non-null uint8\n",
      "T_SP           418 non-null uint8\n",
      "T_STONO        418 non-null uint8\n",
      "T_STONO2       418 non-null uint8\n",
      "T_STONOQ       418 non-null uint8\n",
      "T_SWPP         418 non-null uint8\n",
      "T_WC           418 non-null uint8\n",
      "T_WEP          418 non-null uint8\n",
      "T_X            418 non-null uint8\n",
      "dtypes: float64(2), int64(10), uint8(53)\n",
      "memory usage: 60.9 KB\n"
     ]
    }
   ],
   "source": [
    "test.info()"
   ]
  },
  {
   "cell_type": "code",
   "execution_count": 74,
   "metadata": {
    "collapsed": true
   },
   "outputs": [],
   "source": [
    "rfc_predictions2=rfc.predict(test)"
   ]
  },
  {
   "cell_type": "code",
   "execution_count": 48,
   "metadata": {},
   "outputs": [
    {
     "name": "stderr",
     "output_type": "stream",
     "text": [
      "/home/harsh/anaconda3/lib/python3.6/site-packages/ipykernel_launcher.py:1: SettingWithCopyWarning: \n",
      "A value is trying to be set on a copy of a slice from a DataFrame\n",
      "\n",
      "See the caveats in the documentation: http://pandas.pydata.org/pandas-docs/stable/indexing.html#indexing-view-versus-copy\n",
      "  \"\"\"Entry point for launching an IPython kernel.\n"
     ]
    }
   ],
   "source": [
    "test.drop(labels=['Fare'],axis=1,inplace=True)"
   ]
  },
  {
   "cell_type": "code",
   "execution_count": 75,
   "metadata": {
    "collapsed": true
   },
   "outputs": [],
   "source": [
    "sub1=pd.DataFrame({\n",
    "        \"PassengerId\":IDtest,\n",
    "        \"Survived\":rfc_predictions2\n",
    "        \n",
    "    })\n",
    "sub1.to_csv('sub1001monday.csv',header=True)"
   ]
  },
  {
   "cell_type": "code",
   "execution_count": 128,
   "metadata": {},
   "outputs": [
    {
     "data": {
      "text/plain": [
       "268"
      ]
     },
     "execution_count": 128,
     "metadata": {},
     "output_type": "execute_result"
    }
   ],
   "source": [
    "len(rfc_predictions1)"
   ]
  },
  {
   "cell_type": "code",
   "execution_count": 129,
   "metadata": {
    "collapsed": true
   },
   "outputs": [
    {
     "name": "stdout",
     "output_type": "stream",
     "text": [
      "<class 'pandas.core.frame.DataFrame'>\n",
      "RangeIndex: 418 entries, 891 to 1308\n",
      "Data columns (total 64 columns):\n",
      "Age            418 non-null float64\n",
      "Parch          418 non-null int64\n",
      "PassengerId    418 non-null int64\n",
      "Pclass         418 non-null int64\n",
      "Sex            418 non-null int64\n",
      "SibSp          418 non-null int64\n",
      "Fize           418 non-null int64\n",
      "Single         418 non-null int64\n",
      "SmallF         418 non-null int64\n",
      "MedF           418 non-null int64\n",
      "LargeF         418 non-null int64\n",
      "Title_0        418 non-null uint8\n",
      "Title_1        418 non-null uint8\n",
      "Title_2        418 non-null uint8\n",
      "Title_3        418 non-null uint8\n",
      "Em_C           418 non-null uint8\n",
      "Em_Q           418 non-null uint8\n",
      "Em_S           418 non-null uint8\n",
      "Cabin_A        418 non-null uint8\n",
      "Cabin_B        418 non-null uint8\n",
      "Cabin_C        418 non-null uint8\n",
      "Cabin_D        418 non-null uint8\n",
      "Cabin_E        418 non-null uint8\n",
      "Cabin_F        418 non-null uint8\n",
      "Cabin_G        418 non-null uint8\n",
      "Cabin_T        418 non-null uint8\n",
      "Cabin_X        418 non-null uint8\n",
      "T_A            418 non-null uint8\n",
      "T_A4           418 non-null uint8\n",
      "T_A5           418 non-null uint8\n",
      "T_AQ3          418 non-null uint8\n",
      "T_AQ4          418 non-null uint8\n",
      "T_AS           418 non-null uint8\n",
      "T_C            418 non-null uint8\n",
      "T_CA           418 non-null uint8\n",
      "T_CASOTON      418 non-null uint8\n",
      "T_FC           418 non-null uint8\n",
      "T_FCC          418 non-null uint8\n",
      "T_Fa           418 non-null uint8\n",
      "T_LINE         418 non-null uint8\n",
      "T_LP           418 non-null uint8\n",
      "T_PC           418 non-null uint8\n",
      "T_PP           418 non-null uint8\n",
      "T_PPP          418 non-null uint8\n",
      "T_SC           418 non-null uint8\n",
      "T_SCA3         418 non-null uint8\n",
      "T_SCA4         418 non-null uint8\n",
      "T_SCAH         418 non-null uint8\n",
      "T_SCOW         418 non-null uint8\n",
      "T_SCPARIS      418 non-null uint8\n",
      "T_SCParis      418 non-null uint8\n",
      "T_SOC          418 non-null uint8\n",
      "T_SOP          418 non-null uint8\n",
      "T_SOPP         418 non-null uint8\n",
      "T_SOTONO2      418 non-null uint8\n",
      "T_SOTONOQ      418 non-null uint8\n",
      "T_SP           418 non-null uint8\n",
      "T_STONO        418 non-null uint8\n",
      "T_STONO2       418 non-null uint8\n",
      "T_STONOQ       418 non-null uint8\n",
      "T_SWPP         418 non-null uint8\n",
      "T_WC           418 non-null uint8\n",
      "T_WEP          418 non-null uint8\n",
      "T_X            418 non-null uint8\n",
      "dtypes: float64(1), int64(10), uint8(53)\n",
      "memory usage: 57.6 KB\n"
     ]
    }
   ],
   "source": [
    "test.info()"
   ]
  },
  {
   "cell_type": "code",
   "execution_count": 76,
   "metadata": {
    "collapsed": true,
    "scrolled": true
   },
   "outputs": [],
   "source": [
    "from sklearn.neighbors import KNeighborsClassifier"
   ]
  },
  {
   "cell_type": "code",
   "execution_count": 77,
   "metadata": {
    "collapsed": true
   },
   "outputs": [],
   "source": [
    "knn=KNeighborsClassifier(n_neighbors=5)\n",
    "knn.fit(X_train,y_train)\n",
    "predictions_knn=knn.predict(X_test)"
   ]
  },
  {
   "cell_type": "code",
   "execution_count": 78,
   "metadata": {},
   "outputs": [
    {
     "name": "stdout",
     "output_type": "stream",
     "text": [
      "0.723880597015\n"
     ]
    }
   ],
   "source": [
    "print(accuracy_score(y_test,predictions_knn))"
   ]
  },
  {
   "cell_type": "code",
   "execution_count": 134,
   "metadata": {
    "collapsed": true
   },
   "outputs": [],
   "source": [
    "knn_pred=knn.predict(test)"
   ]
  },
  {
   "cell_type": "code",
   "execution_count": 135,
   "metadata": {
    "collapsed": true
   },
   "outputs": [],
   "source": [
    "sub2=pd.DataFrame({\n",
    "        \"PassengerId\":IDtest,\n",
    "        \"Survived\":knn_pred\n",
    "        \n",
    "    })\n",
    "sub2.to_csv('sub2.csv',header=False)"
   ]
  },
  {
   "cell_type": "code",
   "execution_count": 217,
   "metadata": {
    "collapsed": true
   },
   "outputs": [],
   "source": [
    "from sklearn.linear_model import LogisticRegression\n"
   ]
  },
  {
   "cell_type": "code",
   "execution_count": 79,
   "metadata": {},
   "outputs": [
    {
     "data": {
      "text/plain": [
       "0.77238805970149249"
      ]
     },
     "execution_count": 79,
     "metadata": {},
     "output_type": "execute_result"
    }
   ],
   "source": [
    "# Standardizing the train and test data\n",
    "from sklearn.preprocessing import scale\n",
    "X_train_scale=scale(X_train)\n",
    "X_test_scale=scale(X_test)\n",
    "# Fitting logistic regression on our standardized data set\n",
    "log=LogisticRegression(penalty='l2',C=.01)\n",
    "log.fit(X_train_scale,y_train)\n",
    "# Checking the model's accuracy\n",
    "accuracy_score(y_test,log.predict(X_test_scale))"
   ]
  },
  {
   "cell_type": "code",
   "execution_count": 122,
   "metadata": {
    "collapsed": true
   },
   "outputs": [],
   "source": [
    "pred=log.predict(test)"
   ]
  },
  {
   "cell_type": "code",
   "execution_count": null,
   "metadata": {
    "collapsed": true
   },
   "outputs": [],
   "source": []
  },
  {
   "cell_type": "code",
   "execution_count": 80,
   "metadata": {
    "collapsed": true
   },
   "outputs": [],
   "source": [
    "logmodel=LogisticRegression()"
   ]
  },
  {
   "cell_type": "code",
   "execution_count": 81,
   "metadata": {},
   "outputs": [
    {
     "data": {
      "text/plain": [
       "LogisticRegression(C=1.0, class_weight=None, dual=False, fit_intercept=True,\n",
       "          intercept_scaling=1, max_iter=100, multi_class='ovr', n_jobs=1,\n",
       "          penalty='l2', random_state=None, solver='liblinear', tol=0.0001,\n",
       "          verbose=0, warm_start=False)"
      ]
     },
     "execution_count": 81,
     "metadata": {},
     "output_type": "execute_result"
    }
   ],
   "source": [
    "logmodel.fit(X_train,y_train)"
   ]
  },
  {
   "cell_type": "code",
   "execution_count": 82,
   "metadata": {
    "collapsed": true
   },
   "outputs": [],
   "source": [
    "predictions23=logmodel.predict(X_test)"
   ]
  },
  {
   "cell_type": "code",
   "execution_count": 228,
   "metadata": {
    "collapsed": true
   },
   "outputs": [
    {
     "ename": "ValueError",
     "evalue": "X has 50 features per sample; expecting 49",
     "output_type": "error",
     "traceback": [
      "\u001b[0;31m---------------------------------------------------------------------------\u001b[0m",
      "\u001b[0;31mValueError\u001b[0m                                Traceback (most recent call last)",
      "\u001b[0;32m<ipython-input-228-7b381562c631>\u001b[0m in \u001b[0;36m<module>\u001b[0;34m()\u001b[0m\n\u001b[0;32m----> 1\u001b[0;31m \u001b[0mpredictions\u001b[0m\u001b[0;34m=\u001b[0m\u001b[0mlogmodel\u001b[0m\u001b[0;34m.\u001b[0m\u001b[0mpredict\u001b[0m\u001b[0;34m(\u001b[0m\u001b[0mtest\u001b[0m\u001b[0;34m)\u001b[0m\u001b[0;34m\u001b[0m\u001b[0m\n\u001b[0m",
      "\u001b[0;32m~/anaconda3/lib/python3.6/site-packages/sklearn/linear_model/base.py\u001b[0m in \u001b[0;36mpredict\u001b[0;34m(self, X)\u001b[0m\n\u001b[1;32m    322\u001b[0m             \u001b[0mPredicted\u001b[0m \u001b[0;32mclass\u001b[0m \u001b[0mlabel\u001b[0m \u001b[0mper\u001b[0m \u001b[0msample\u001b[0m\u001b[0;34m.\u001b[0m\u001b[0;34m\u001b[0m\u001b[0m\n\u001b[1;32m    323\u001b[0m         \"\"\"\n\u001b[0;32m--> 324\u001b[0;31m         \u001b[0mscores\u001b[0m \u001b[0;34m=\u001b[0m \u001b[0mself\u001b[0m\u001b[0;34m.\u001b[0m\u001b[0mdecision_function\u001b[0m\u001b[0;34m(\u001b[0m\u001b[0mX\u001b[0m\u001b[0;34m)\u001b[0m\u001b[0;34m\u001b[0m\u001b[0m\n\u001b[0m\u001b[1;32m    325\u001b[0m         \u001b[0;32mif\u001b[0m \u001b[0mlen\u001b[0m\u001b[0;34m(\u001b[0m\u001b[0mscores\u001b[0m\u001b[0;34m.\u001b[0m\u001b[0mshape\u001b[0m\u001b[0;34m)\u001b[0m \u001b[0;34m==\u001b[0m \u001b[0;36m1\u001b[0m\u001b[0;34m:\u001b[0m\u001b[0;34m\u001b[0m\u001b[0m\n\u001b[1;32m    326\u001b[0m             \u001b[0mindices\u001b[0m \u001b[0;34m=\u001b[0m \u001b[0;34m(\u001b[0m\u001b[0mscores\u001b[0m \u001b[0;34m>\u001b[0m \u001b[0;36m0\u001b[0m\u001b[0;34m)\u001b[0m\u001b[0;34m.\u001b[0m\u001b[0mastype\u001b[0m\u001b[0;34m(\u001b[0m\u001b[0mnp\u001b[0m\u001b[0;34m.\u001b[0m\u001b[0mint\u001b[0m\u001b[0;34m)\u001b[0m\u001b[0;34m\u001b[0m\u001b[0m\n",
      "\u001b[0;32m~/anaconda3/lib/python3.6/site-packages/sklearn/linear_model/base.py\u001b[0m in \u001b[0;36mdecision_function\u001b[0;34m(self, X)\u001b[0m\n\u001b[1;32m    303\u001b[0m         \u001b[0;32mif\u001b[0m \u001b[0mX\u001b[0m\u001b[0;34m.\u001b[0m\u001b[0mshape\u001b[0m\u001b[0;34m[\u001b[0m\u001b[0;36m1\u001b[0m\u001b[0;34m]\u001b[0m \u001b[0;34m!=\u001b[0m \u001b[0mn_features\u001b[0m\u001b[0;34m:\u001b[0m\u001b[0;34m\u001b[0m\u001b[0m\n\u001b[1;32m    304\u001b[0m             raise ValueError(\"X has %d features per sample; expecting %d\"\n\u001b[0;32m--> 305\u001b[0;31m                              % (X.shape[1], n_features))\n\u001b[0m\u001b[1;32m    306\u001b[0m \u001b[0;34m\u001b[0m\u001b[0m\n\u001b[1;32m    307\u001b[0m         scores = safe_sparse_dot(X, self.coef_.T,\n",
      "\u001b[0;31mValueError\u001b[0m: X has 50 features per sample; expecting 49"
     ]
    }
   ],
   "source": [
    "predictions=logmodel.predict(test)"
   ]
  },
  {
   "cell_type": "code",
   "execution_count": 83,
   "metadata": {},
   "outputs": [
    {
     "name": "stdout",
     "output_type": "stream",
     "text": [
      "0.794776119403\n"
     ]
    }
   ],
   "source": [
    "print(accuracy_score(y_test,predictions23))"
   ]
  },
  {
   "cell_type": "code",
   "execution_count": 123,
   "metadata": {
    "collapsed": true
   },
   "outputs": [],
   "source": [
    "subwithfare=pd.DataFrame({\n",
    "        \"PassengerId\":IDtest,\n",
    "        \"Survived\":pred\n",
    "        \n",
    "    })\n",
    "subwithfare.to_csv('subwithfare102.csv',header=True)"
   ]
  },
  {
   "cell_type": "code",
   "execution_count": 99,
   "metadata": {
    "collapsed": true
   },
   "outputs": [],
   "source": [
    "from sklearn.preprocessing import MinMaxScaler\n",
    "min_max=MinMaxScaler()\n",
    "# Scaling down both train and test data set\n",
    "X_train_minmax=min_max.fit_transform(X_train)\n",
    "X_test_minmax=min_max.fit_transform(X_test)"
   ]
  },
  {
   "cell_type": "code",
   "execution_count": 78,
   "metadata": {},
   "outputs": [
    {
     "ename": "NameError",
     "evalue": "name 'logmodel' is not defined",
     "output_type": "error",
     "traceback": [
      "\u001b[0;31m---------------------------------------------------------------------------\u001b[0m",
      "\u001b[0;31mNameError\u001b[0m                                 Traceback (most recent call last)",
      "\u001b[0;32m<ipython-input-78-9eb94fe95009>\u001b[0m in \u001b[0;36m<module>\u001b[0;34m()\u001b[0m\n\u001b[0;32m----> 1\u001b[0;31m \u001b[0mlogmodel\u001b[0m\u001b[0;34m.\u001b[0m\u001b[0mfit\u001b[0m\u001b[0;34m(\u001b[0m\u001b[0mX_train_minmax\u001b[0m\u001b[0;34m,\u001b[0m\u001b[0my_train\u001b[0m\u001b[0;34m)\u001b[0m\u001b[0;34m\u001b[0m\u001b[0m\n\u001b[0m",
      "\u001b[0;31mNameError\u001b[0m: name 'logmodel' is not defined"
     ]
    }
   ],
   "source": [
    "logmodel.fit(X_train_minmax,y_train)"
   ]
  },
  {
   "cell_type": "code",
   "execution_count": 101,
   "metadata": {},
   "outputs": [
    {
     "data": {
      "text/plain": [
       "0.84328358208955223"
      ]
     },
     "execution_count": 101,
     "metadata": {},
     "output_type": "execute_result"
    }
   ],
   "source": [
    "accuracy_score(y_test,logmodel.predict(X_test_minmax))"
   ]
  },
  {
   "cell_type": "code",
   "execution_count": 77,
   "metadata": {},
   "outputs": [
    {
     "ename": "NameError",
     "evalue": "name 'logmodel' is not defined",
     "output_type": "error",
     "traceback": [
      "\u001b[0;31m---------------------------------------------------------------------------\u001b[0m",
      "\u001b[0;31mNameError\u001b[0m                                 Traceback (most recent call last)",
      "\u001b[0;32m<ipython-input-77-7b381562c631>\u001b[0m in \u001b[0;36m<module>\u001b[0;34m()\u001b[0m\n\u001b[0;32m----> 1\u001b[0;31m \u001b[0mpredictions\u001b[0m\u001b[0;34m=\u001b[0m\u001b[0mlogmodel\u001b[0m\u001b[0;34m.\u001b[0m\u001b[0mpredict\u001b[0m\u001b[0;34m(\u001b[0m\u001b[0mtest\u001b[0m\u001b[0;34m)\u001b[0m\u001b[0;34m\u001b[0m\u001b[0m\n\u001b[0m",
      "\u001b[0;31mNameError\u001b[0m: name 'logmodel' is not defined"
     ]
    }
   ],
   "source": [
    "predictions=logmodel.predict(test)"
   ]
  },
  {
   "cell_type": "code",
   "execution_count": null,
   "metadata": {
    "collapsed": true
   },
   "outputs": [],
   "source": []
  },
  {
   "cell_type": "code",
   "execution_count": null,
   "metadata": {
    "collapsed": true
   },
   "outputs": [],
   "source": []
  },
  {
   "cell_type": "code",
   "execution_count": 45,
   "metadata": {},
   "outputs": [
    {
     "name": "stderr",
     "output_type": "stream",
     "text": [
      "/home/harsh/anaconda3/lib/python3.6/site-packages/ipykernel_launcher.py:1: SettingWithCopyWarning: \n",
      "A value is trying to be set on a copy of a slice from a DataFrame.\n",
      "Try using .loc[row_indexer,col_indexer] = value instead\n",
      "\n",
      "See the caveats in the documentation: http://pandas.pydata.org/pandas-docs/stable/indexing.html#indexing-view-versus-copy\n",
      "  \"\"\"Entry point for launching an IPython kernel.\n"
     ]
    }
   ],
   "source": [
    "test[\"Fare\"] = test[\"Fare\"].map(lambda i: np.log(i) if i > 0 else 0)"
   ]
  },
  {
   "cell_type": "code",
   "execution_count": 80,
   "metadata": {
    "collapsed": true
   },
   "outputs": [],
   "source": [
    "\n",
    "\n",
    "from sklearn.ensemble import RandomForestClassifier\n",
    "from sklearn.feature_selection import SelectFromModel\n",
    "clf = RandomForestClassifier(n_estimators=50, max_features='sqrt')\n",
    "clf = clf.fit(X_train,y_train)\n",
    "\n"
   ]
  },
  {
   "cell_type": "code",
   "execution_count": 81,
   "metadata": {
    "collapsed": true
   },
   "outputs": [],
   "source": [
    "# turn run_gs to True if you want to run the gridsearch again.\n",
    "run_gs = False\n",
    "\n",
    "if run_gs:\n",
    "    parameter_grid = {\n",
    "                 'max_depth' : [4, 6, 8],\n",
    "                 'n_estimators': [50, 10],\n",
    "                 'max_features': ['sqrt', 'auto', 'log2'],\n",
    "                 'min_samples_split': [1, 3, 10],\n",
    "                 'min_samples_leaf': [1, 3, 10],\n",
    "                 'bootstrap': [True, False],\n",
    "                 }\n",
    "    forest = RandomForestClassifier()\n",
    "    cross_validation = StratifiedKFold(y_train, n_folds=5)\n",
    "\n",
    "    grid_search = GridSearchCV(forest,\n",
    "                               scoring='accuracy',\n",
    "                               param_grid=parameter_grid,\n",
    "                               cv=cross_validation)\n",
    "\n",
    "    grid_search.fit(X_train,y_train)\n",
    "    model = grid_search\n",
    "    parameters = grid_search.best_params_\n",
    "\n",
    "    print('Best score: {}'.format(grid_search.best_score_))\n",
    "    print('Best parameters: {}'.format(grid_search.best_params_))\n",
    "else: \n",
    "    parameters = {'bootstrap': False, 'min_samples_leaf': 3, 'n_estimators': 50, \n",
    "                  'min_samples_split': 10, 'max_features': 'sqrt', 'max_depth': 6}\n",
    "    \n",
    "    model = RandomForestClassifier(**parameters)\n",
    "    model.fit(X_train,y_train)"
   ]
  },
  {
   "cell_type": "code",
   "execution_count": 83,
   "metadata": {
    "collapsed": true
   },
   "outputs": [],
   "source": [
    "\n",
    "\n",
    "output = model.predict(test).astype(int)"
   ]
  },
  {
   "cell_type": "code",
   "execution_count": 1,
   "metadata": {
    "collapsed": true
   },
   "outputs": [
    {
     "ename": "NameError",
     "evalue": "name 'pd' is not defined",
     "output_type": "error",
     "traceback": [
      "\u001b[0;31m---------------------------------------------------------------------------\u001b[0m",
      "\u001b[0;31mNameError\u001b[0m                                 Traceback (most recent call last)",
      "\u001b[0;32m<ipython-input-1-c6b6dd231ae7>\u001b[0m in \u001b[0;36m<module>\u001b[0;34m()\u001b[0m\n\u001b[0;32m----> 1\u001b[0;31m subwithrfc=pd.DataFrame({\n\u001b[0m\u001b[1;32m      2\u001b[0m         \u001b[0;34m\"PassengerId\"\u001b[0m\u001b[0;34m:\u001b[0m\u001b[0mIDtest\u001b[0m\u001b[0;34m,\u001b[0m\u001b[0;34m\u001b[0m\u001b[0m\n\u001b[1;32m      3\u001b[0m         \u001b[0;34m\"Survived\"\u001b[0m\u001b[0;34m:\u001b[0m\u001b[0moutput\u001b[0m\u001b[0;34m\u001b[0m\u001b[0m\n\u001b[1;32m      4\u001b[0m \u001b[0;34m\u001b[0m\u001b[0m\n\u001b[1;32m      5\u001b[0m     })\n",
      "\u001b[0;31mNameError\u001b[0m: name 'pd' is not defined"
     ]
    }
   ],
   "source": [
    "subwithrfc=pd.DataFrame({\n",
    "        \"PassengerId\":IDtest,\n",
    "        \"Survived\":output\n",
    "        \n",
    "    })\n",
    "subwithrfc.to_csv('subwithrfc.csv',header=True)"
   ]
  },
  {
   "cell_type": "code",
   "execution_count": 46,
   "metadata": {},
   "outputs": [
    {
     "name": "stderr",
     "output_type": "stream",
     "text": [
      "/home/harsh/anaconda3/lib/python3.6/site-packages/sklearn/cross_validation.py:41: DeprecationWarning: This module was deprecated in version 0.18 in favor of the model_selection module into which all the refactored classes and functions are moved. Also note that the interface of the new CV iterators are different from that of this module. This module will be removed in 0.20.\n",
      "  \"This module will be removed in 0.20.\", DeprecationWarning)\n"
     ]
    }
   ],
   "source": [
    "from sklearn import datasets, svm, cross_validation, tree, preprocessing, metrics"
   ]
  },
  {
   "cell_type": "code",
   "execution_count": 62,
   "metadata": {
    "collapsed": true
   },
   "outputs": [],
   "source": [
    "clf_dt = tree.DecisionTreeClassifier(max_depth=10)"
   ]
  },
  {
   "cell_type": "code",
   "execution_count": 63,
   "metadata": {},
   "outputs": [
    {
     "data": {
      "text/plain": [
       "0.78358208955223885"
      ]
     },
     "execution_count": 63,
     "metadata": {},
     "output_type": "execute_result"
    }
   ],
   "source": [
    "clf_dt.fit (X_train, y_train)\n",
    "clf_dt.score (X_test, y_test)"
   ]
  },
  {
   "cell_type": "code",
   "execution_count": 60,
   "metadata": {},
   "outputs": [
    {
     "ename": "NameError",
     "evalue": "name 'clf_dt' is not defined",
     "output_type": "error",
     "traceback": [
      "\u001b[0;31m---------------------------------------------------------------------------\u001b[0m",
      "\u001b[0;31mNameError\u001b[0m                                 Traceback (most recent call last)",
      "\u001b[0;32m<ipython-input-60-24ee86a31a71>\u001b[0m in \u001b[0;36m<module>\u001b[0;34m()\u001b[0m\n\u001b[0;32m----> 1\u001b[0;31m \u001b[0mclfpred\u001b[0m\u001b[0;34m=\u001b[0m\u001b[0mclf_dt\u001b[0m\u001b[0;34m.\u001b[0m\u001b[0mpredict\u001b[0m\u001b[0;34m(\u001b[0m\u001b[0mtest\u001b[0m\u001b[0;34m)\u001b[0m\u001b[0;34m\u001b[0m\u001b[0m\n\u001b[0m",
      "\u001b[0;31mNameError\u001b[0m: name 'clf_dt' is not defined"
     ]
    }
   ],
   "source": [
    "clfpred=clf_dt.predict(test)"
   ]
  },
  {
   "cell_type": "code",
   "execution_count": 42,
   "metadata": {
    "collapsed": true
   },
   "outputs": [],
   "source": [
    "subwithclf=pd.DataFrame({\n",
    "        \"PassengerId\":IDtest,\n",
    "        \"Survived\":clfpred\n",
    "        \n",
    "    })\n",
    "subwithclf.to_csv('subwithclf.csv',header=True)"
   ]
  },
  {
   "cell_type": "code",
   "execution_count": 43,
   "metadata": {},
   "outputs": [
    {
     "data": {
      "text/html": [
       "<div>\n",
       "<style>\n",
       "    .dataframe thead tr:only-child th {\n",
       "        text-align: right;\n",
       "    }\n",
       "\n",
       "    .dataframe thead th {\n",
       "        text-align: left;\n",
       "    }\n",
       "\n",
       "    .dataframe tbody tr th {\n",
       "        vertical-align: top;\n",
       "    }\n",
       "</style>\n",
       "<table border=\"1\" class=\"dataframe\">\n",
       "  <thead>\n",
       "    <tr style=\"text-align: right;\">\n",
       "      <th></th>\n",
       "      <th>Age</th>\n",
       "      <th>Fare</th>\n",
       "      <th>Parch</th>\n",
       "      <th>PassengerId</th>\n",
       "      <th>Pclass</th>\n",
       "      <th>Sex</th>\n",
       "      <th>SibSp</th>\n",
       "      <th>Fize</th>\n",
       "      <th>Single</th>\n",
       "      <th>SmallF</th>\n",
       "      <th>...</th>\n",
       "      <th>T_W./C. 14258</th>\n",
       "      <th>T_W./C. 14260</th>\n",
       "      <th>T_W./C. 14263</th>\n",
       "      <th>T_W./C. 14266</th>\n",
       "      <th>T_W./C. 6607</th>\n",
       "      <th>T_W./C. 6608</th>\n",
       "      <th>T_W./C. 6609</th>\n",
       "      <th>T_W.E.P. 5734</th>\n",
       "      <th>T_W/C 14208</th>\n",
       "      <th>T_WE/P 5735</th>\n",
       "    </tr>\n",
       "  </thead>\n",
       "  <tbody>\n",
       "    <tr>\n",
       "      <th>891</th>\n",
       "      <td>34.5</td>\n",
       "      <td>2.057860</td>\n",
       "      <td>0</td>\n",
       "      <td>892</td>\n",
       "      <td>3</td>\n",
       "      <td>0</td>\n",
       "      <td>0</td>\n",
       "      <td>1</td>\n",
       "      <td>1</td>\n",
       "      <td>0</td>\n",
       "      <td>...</td>\n",
       "      <td>0</td>\n",
       "      <td>0</td>\n",
       "      <td>0</td>\n",
       "      <td>0</td>\n",
       "      <td>0</td>\n",
       "      <td>0</td>\n",
       "      <td>0</td>\n",
       "      <td>0</td>\n",
       "      <td>0</td>\n",
       "      <td>0</td>\n",
       "    </tr>\n",
       "    <tr>\n",
       "      <th>892</th>\n",
       "      <td>47.0</td>\n",
       "      <td>1.945910</td>\n",
       "      <td>0</td>\n",
       "      <td>893</td>\n",
       "      <td>3</td>\n",
       "      <td>1</td>\n",
       "      <td>1</td>\n",
       "      <td>2</td>\n",
       "      <td>0</td>\n",
       "      <td>1</td>\n",
       "      <td>...</td>\n",
       "      <td>0</td>\n",
       "      <td>0</td>\n",
       "      <td>0</td>\n",
       "      <td>0</td>\n",
       "      <td>0</td>\n",
       "      <td>0</td>\n",
       "      <td>0</td>\n",
       "      <td>0</td>\n",
       "      <td>0</td>\n",
       "      <td>0</td>\n",
       "    </tr>\n",
       "    <tr>\n",
       "      <th>893</th>\n",
       "      <td>62.0</td>\n",
       "      <td>2.270836</td>\n",
       "      <td>0</td>\n",
       "      <td>894</td>\n",
       "      <td>2</td>\n",
       "      <td>0</td>\n",
       "      <td>0</td>\n",
       "      <td>1</td>\n",
       "      <td>1</td>\n",
       "      <td>0</td>\n",
       "      <td>...</td>\n",
       "      <td>0</td>\n",
       "      <td>0</td>\n",
       "      <td>0</td>\n",
       "      <td>0</td>\n",
       "      <td>0</td>\n",
       "      <td>0</td>\n",
       "      <td>0</td>\n",
       "      <td>0</td>\n",
       "      <td>0</td>\n",
       "      <td>0</td>\n",
       "    </tr>\n",
       "    <tr>\n",
       "      <th>894</th>\n",
       "      <td>27.0</td>\n",
       "      <td>2.159003</td>\n",
       "      <td>0</td>\n",
       "      <td>895</td>\n",
       "      <td>3</td>\n",
       "      <td>0</td>\n",
       "      <td>0</td>\n",
       "      <td>1</td>\n",
       "      <td>1</td>\n",
       "      <td>0</td>\n",
       "      <td>...</td>\n",
       "      <td>0</td>\n",
       "      <td>0</td>\n",
       "      <td>0</td>\n",
       "      <td>0</td>\n",
       "      <td>0</td>\n",
       "      <td>0</td>\n",
       "      <td>0</td>\n",
       "      <td>0</td>\n",
       "      <td>0</td>\n",
       "      <td>0</td>\n",
       "    </tr>\n",
       "    <tr>\n",
       "      <th>895</th>\n",
       "      <td>22.0</td>\n",
       "      <td>2.508582</td>\n",
       "      <td>1</td>\n",
       "      <td>896</td>\n",
       "      <td>3</td>\n",
       "      <td>1</td>\n",
       "      <td>1</td>\n",
       "      <td>3</td>\n",
       "      <td>0</td>\n",
       "      <td>0</td>\n",
       "      <td>...</td>\n",
       "      <td>0</td>\n",
       "      <td>0</td>\n",
       "      <td>0</td>\n",
       "      <td>0</td>\n",
       "      <td>0</td>\n",
       "      <td>0</td>\n",
       "      <td>0</td>\n",
       "      <td>0</td>\n",
       "      <td>0</td>\n",
       "      <td>0</td>\n",
       "    </tr>\n",
       "  </tbody>\n",
       "</table>\n",
       "<p>5 rows × 957 columns</p>\n",
       "</div>"
      ],
      "text/plain": [
       "      Age      Fare  Parch  PassengerId  Pclass  Sex  SibSp  Fize  Single  \\\n",
       "891  34.5  2.057860      0          892       3    0      0     1       1   \n",
       "892  47.0  1.945910      0          893       3    1      1     2       0   \n",
       "893  62.0  2.270836      0          894       2    0      0     1       1   \n",
       "894  27.0  2.159003      0          895       3    0      0     1       1   \n",
       "895  22.0  2.508582      1          896       3    1      1     3       0   \n",
       "\n",
       "     SmallF     ...       T_W./C. 14258  T_W./C. 14260  T_W./C. 14263  \\\n",
       "891       0     ...                   0              0              0   \n",
       "892       1     ...                   0              0              0   \n",
       "893       0     ...                   0              0              0   \n",
       "894       0     ...                   0              0              0   \n",
       "895       0     ...                   0              0              0   \n",
       "\n",
       "     T_W./C. 14266  T_W./C. 6607  T_W./C. 6608  T_W./C. 6609  T_W.E.P. 5734  \\\n",
       "891              0             0             0             0              0   \n",
       "892              0             0             0             0              0   \n",
       "893              0             0             0             0              0   \n",
       "894              0             0             0             0              0   \n",
       "895              0             0             0             0              0   \n",
       "\n",
       "     T_W/C 14208  T_WE/P 5735  \n",
       "891            0            0  \n",
       "892            0            0  \n",
       "893            0            0  \n",
       "894            0            0  \n",
       "895            0            0  \n",
       "\n",
       "[5 rows x 957 columns]"
      ]
     },
     "execution_count": 43,
     "metadata": {},
     "output_type": "execute_result"
    }
   ],
   "source": [
    "test.head()"
   ]
  },
  {
   "cell_type": "code",
   "execution_count": 61,
   "metadata": {
    "collapsed": true
   },
   "outputs": [],
   "source": [
    "from sklearn.svm import SVC"
   ]
  },
  {
   "cell_type": "code",
   "execution_count": 62,
   "metadata": {
    "collapsed": true
   },
   "outputs": [],
   "source": [
    "model=SVC()"
   ]
  },
  {
   "cell_type": "code",
   "execution_count": 48,
   "metadata": {},
   "outputs": [
    {
     "data": {
      "text/plain": [
       "SVC(C=1.0, cache_size=200, class_weight=None, coef0=0.0,\n",
       "  decision_function_shape='ovr', degree=3, gamma='auto', kernel='rbf',\n",
       "  max_iter=-1, probability=False, random_state=None, shrinking=True,\n",
       "  tol=0.001, verbose=False)"
      ]
     },
     "execution_count": 48,
     "metadata": {},
     "output_type": "execute_result"
    }
   ],
   "source": [
    "model.fit(X_train,y_train)"
   ]
  },
  {
   "cell_type": "code",
   "execution_count": 49,
   "metadata": {
    "collapsed": true
   },
   "outputs": [],
   "source": [
    "predictions=model.predict(X_test)"
   ]
  },
  {
   "cell_type": "code",
   "execution_count": 40,
   "metadata": {
    "collapsed": true
   },
   "outputs": [],
   "source": [
    "from sklearn.metrics import classification_report,confusion_matrix"
   ]
  },
  {
   "cell_type": "code",
   "execution_count": 51,
   "metadata": {},
   "outputs": [
    {
     "name": "stdout",
     "output_type": "stream",
     "text": [
      "[[155  12]\n",
      " [ 90  11]]\n"
     ]
    }
   ],
   "source": [
    "print(confusion_matrix(y_test,predictions))"
   ]
  },
  {
   "cell_type": "code",
   "execution_count": 195,
   "metadata": {},
   "outputs": [
    {
     "ename": "ValueError",
     "evalue": "Found input variables with inconsistent numbers of samples: [268, 418]",
     "output_type": "error",
     "traceback": [
      "\u001b[0;31m---------------------------------------------------------------------------\u001b[0m",
      "\u001b[0;31mValueError\u001b[0m                                Traceback (most recent call last)",
      "\u001b[0;32m<ipython-input-195-6fe25b95881c>\u001b[0m in \u001b[0;36m<module>\u001b[0;34m()\u001b[0m\n\u001b[0;32m----> 1\u001b[0;31m \u001b[0mprint\u001b[0m\u001b[0;34m(\u001b[0m\u001b[0mclassification_report\u001b[0m\u001b[0;34m(\u001b[0m\u001b[0my_test\u001b[0m\u001b[0;34m,\u001b[0m\u001b[0mpredictions\u001b[0m\u001b[0;34m)\u001b[0m\u001b[0;34m)\u001b[0m\u001b[0;34m\u001b[0m\u001b[0m\n\u001b[0m",
      "\u001b[0;32m~/anaconda3/lib/python3.6/site-packages/sklearn/metrics/classification.py\u001b[0m in \u001b[0;36mclassification_report\u001b[0;34m(y_true, y_pred, labels, target_names, sample_weight, digits)\u001b[0m\n\u001b[1;32m   1444\u001b[0m                                                   \u001b[0mlabels\u001b[0m\u001b[0;34m=\u001b[0m\u001b[0mlabels\u001b[0m\u001b[0;34m,\u001b[0m\u001b[0;34m\u001b[0m\u001b[0m\n\u001b[1;32m   1445\u001b[0m                                                   \u001b[0maverage\u001b[0m\u001b[0;34m=\u001b[0m\u001b[0;32mNone\u001b[0m\u001b[0;34m,\u001b[0m\u001b[0;34m\u001b[0m\u001b[0m\n\u001b[0;32m-> 1446\u001b[0;31m                                                   sample_weight=sample_weight)\n\u001b[0m\u001b[1;32m   1447\u001b[0m \u001b[0;34m\u001b[0m\u001b[0m\n\u001b[1;32m   1448\u001b[0m     \u001b[0mrow_fmt\u001b[0m \u001b[0;34m=\u001b[0m \u001b[0;34mu'{:>{width}s} '\u001b[0m \u001b[0;34m+\u001b[0m \u001b[0;34mu' {:>9.{digits}f}'\u001b[0m \u001b[0;34m*\u001b[0m \u001b[0;36m3\u001b[0m \u001b[0;34m+\u001b[0m \u001b[0;34mu' {:>9}\\n'\u001b[0m\u001b[0;34m\u001b[0m\u001b[0m\n",
      "\u001b[0;32m~/anaconda3/lib/python3.6/site-packages/sklearn/metrics/classification.py\u001b[0m in \u001b[0;36mprecision_recall_fscore_support\u001b[0;34m(y_true, y_pred, beta, labels, pos_label, average, warn_for, sample_weight)\u001b[0m\n\u001b[1;32m   1023\u001b[0m         \u001b[0;32mraise\u001b[0m \u001b[0mValueError\u001b[0m\u001b[0;34m(\u001b[0m\u001b[0;34m\"beta should be >0 in the F-beta score\"\u001b[0m\u001b[0;34m)\u001b[0m\u001b[0;34m\u001b[0m\u001b[0m\n\u001b[1;32m   1024\u001b[0m \u001b[0;34m\u001b[0m\u001b[0m\n\u001b[0;32m-> 1025\u001b[0;31m     \u001b[0my_type\u001b[0m\u001b[0;34m,\u001b[0m \u001b[0my_true\u001b[0m\u001b[0;34m,\u001b[0m \u001b[0my_pred\u001b[0m \u001b[0;34m=\u001b[0m \u001b[0m_check_targets\u001b[0m\u001b[0;34m(\u001b[0m\u001b[0my_true\u001b[0m\u001b[0;34m,\u001b[0m \u001b[0my_pred\u001b[0m\u001b[0;34m)\u001b[0m\u001b[0;34m\u001b[0m\u001b[0m\n\u001b[0m\u001b[1;32m   1026\u001b[0m     \u001b[0mpresent_labels\u001b[0m \u001b[0;34m=\u001b[0m \u001b[0munique_labels\u001b[0m\u001b[0;34m(\u001b[0m\u001b[0my_true\u001b[0m\u001b[0;34m,\u001b[0m \u001b[0my_pred\u001b[0m\u001b[0;34m)\u001b[0m\u001b[0;34m\u001b[0m\u001b[0m\n\u001b[1;32m   1027\u001b[0m \u001b[0;34m\u001b[0m\u001b[0m\n",
      "\u001b[0;32m~/anaconda3/lib/python3.6/site-packages/sklearn/metrics/classification.py\u001b[0m in \u001b[0;36m_check_targets\u001b[0;34m(y_true, y_pred)\u001b[0m\n\u001b[1;32m     69\u001b[0m     \u001b[0my_pred\u001b[0m \u001b[0;34m:\u001b[0m \u001b[0marray\u001b[0m \u001b[0;32mor\u001b[0m \u001b[0mindicator\u001b[0m \u001b[0mmatrix\u001b[0m\u001b[0;34m\u001b[0m\u001b[0m\n\u001b[1;32m     70\u001b[0m     \"\"\"\n\u001b[0;32m---> 71\u001b[0;31m     \u001b[0mcheck_consistent_length\u001b[0m\u001b[0;34m(\u001b[0m\u001b[0my_true\u001b[0m\u001b[0;34m,\u001b[0m \u001b[0my_pred\u001b[0m\u001b[0;34m)\u001b[0m\u001b[0;34m\u001b[0m\u001b[0m\n\u001b[0m\u001b[1;32m     72\u001b[0m     \u001b[0mtype_true\u001b[0m \u001b[0;34m=\u001b[0m \u001b[0mtype_of_target\u001b[0m\u001b[0;34m(\u001b[0m\u001b[0my_true\u001b[0m\u001b[0;34m)\u001b[0m\u001b[0;34m\u001b[0m\u001b[0m\n\u001b[1;32m     73\u001b[0m     \u001b[0mtype_pred\u001b[0m \u001b[0;34m=\u001b[0m \u001b[0mtype_of_target\u001b[0m\u001b[0;34m(\u001b[0m\u001b[0my_pred\u001b[0m\u001b[0;34m)\u001b[0m\u001b[0;34m\u001b[0m\u001b[0m\n",
      "\u001b[0;32m~/anaconda3/lib/python3.6/site-packages/sklearn/utils/validation.py\u001b[0m in \u001b[0;36mcheck_consistent_length\u001b[0;34m(*arrays)\u001b[0m\n\u001b[1;32m    202\u001b[0m     \u001b[0;32mif\u001b[0m \u001b[0mlen\u001b[0m\u001b[0;34m(\u001b[0m\u001b[0muniques\u001b[0m\u001b[0;34m)\u001b[0m \u001b[0;34m>\u001b[0m \u001b[0;36m1\u001b[0m\u001b[0;34m:\u001b[0m\u001b[0;34m\u001b[0m\u001b[0m\n\u001b[1;32m    203\u001b[0m         raise ValueError(\"Found input variables with inconsistent numbers of\"\n\u001b[0;32m--> 204\u001b[0;31m                          \" samples: %r\" % [int(l) for l in lengths])\n\u001b[0m\u001b[1;32m    205\u001b[0m \u001b[0;34m\u001b[0m\u001b[0m\n\u001b[1;32m    206\u001b[0m \u001b[0;34m\u001b[0m\u001b[0m\n",
      "\u001b[0;31mValueError\u001b[0m: Found input variables with inconsistent numbers of samples: [268, 418]"
     ]
    }
   ],
   "source": [
    "print(classification_report(y_test,predictions))"
   ]
  },
  {
   "cell_type": "code",
   "execution_count": 65,
   "metadata": {
    "collapsed": true
   },
   "outputs": [],
   "source": [
    "param_grid={'C':[0.001,0.01,0.1,1.0,10.0,100.0],'gamma':[1,0.1,0.01,0.001,0.0001],'kernel':['rbf']}"
   ]
  },
  {
   "cell_type": "code",
   "execution_count": 66,
   "metadata": {
    "collapsed": true
   },
   "outputs": [],
   "source": [
    "from sklearn.model_selection import GridSearchCV"
   ]
  },
  {
   "cell_type": "code",
   "execution_count": 67,
   "metadata": {
    "collapsed": true
   },
   "outputs": [],
   "source": [
    "grid=GridSearchCV(SVC(),param_grid,refit=True,verbose=4)"
   ]
  },
  {
   "cell_type": "code",
   "execution_count": 68,
   "metadata": {},
   "outputs": [
    {
     "name": "stdout",
     "output_type": "stream",
     "text": [
      "Fitting 3 folds for each of 30 candidates, totalling 90 fits\n",
      "[CV] C=0.001, gamma=1, kernel=rbf ....................................\n",
      "[CV]  C=0.001, gamma=1, kernel=rbf, score=0.6298076923076923, total=   0.0s\n",
      "[CV] C=0.001, gamma=1, kernel=rbf ....................................\n",
      "[CV]  C=0.001, gamma=1, kernel=rbf, score=0.6298076923076923, total=   0.0s\n",
      "[CV] C=0.001, gamma=1, kernel=rbf ....................................\n",
      "[CV]  C=0.001, gamma=1, kernel=rbf, score=0.6280193236714976, total=   0.0s\n",
      "[CV] C=0.001, gamma=0.1, kernel=rbf ..................................\n",
      "[CV]  C=0.001, gamma=0.1, kernel=rbf, score=0.6298076923076923, total=   0.0s\n",
      "[CV] C=0.001, gamma=0.1, kernel=rbf ..................................\n"
     ]
    },
    {
     "name": "stderr",
     "output_type": "stream",
     "text": [
      "[Parallel(n_jobs=1)]: Done   1 out of   1 | elapsed:    0.0s remaining:    0.0s\n",
      "[Parallel(n_jobs=1)]: Done   2 out of   2 | elapsed:    0.1s remaining:    0.0s\n",
      "[Parallel(n_jobs=1)]: Done   3 out of   3 | elapsed:    0.1s remaining:    0.0s\n"
     ]
    },
    {
     "name": "stdout",
     "output_type": "stream",
     "text": [
      "[CV]  C=0.001, gamma=0.1, kernel=rbf, score=0.6298076923076923, total=   0.0s\n",
      "[CV] C=0.001, gamma=0.1, kernel=rbf ..................................\n",
      "[CV]  C=0.001, gamma=0.1, kernel=rbf, score=0.6280193236714976, total=   0.0s\n",
      "[CV] C=0.001, gamma=0.01, kernel=rbf .................................\n",
      "[CV]  C=0.001, gamma=0.01, kernel=rbf, score=0.6298076923076923, total=   0.0s\n",
      "[CV] C=0.001, gamma=0.01, kernel=rbf .................................\n",
      "[CV]  C=0.001, gamma=0.01, kernel=rbf, score=0.6298076923076923, total=   0.0s\n",
      "[CV] C=0.001, gamma=0.01, kernel=rbf .................................\n",
      "[CV]  C=0.001, gamma=0.01, kernel=rbf, score=0.6280193236714976, total=   0.0s\n",
      "[CV] C=0.001, gamma=0.001, kernel=rbf ................................\n",
      "[CV]  C=0.001, gamma=0.001, kernel=rbf, score=0.6298076923076923, total=   0.0s\n",
      "[CV] C=0.001, gamma=0.001, kernel=rbf ................................\n",
      "[CV]  C=0.001, gamma=0.001, kernel=rbf, score=0.6298076923076923, total=   0.0s\n",
      "[CV] C=0.001, gamma=0.001, kernel=rbf ................................\n",
      "[CV]  C=0.001, gamma=0.001, kernel=rbf, score=0.6280193236714976, total=   0.0s\n",
      "[CV] C=0.001, gamma=0.0001, kernel=rbf ...............................\n",
      "[CV]  C=0.001, gamma=0.0001, kernel=rbf, score=0.6298076923076923, total=   0.0s\n",
      "[CV] C=0.001, gamma=0.0001, kernel=rbf ...............................\n",
      "[CV]  C=0.001, gamma=0.0001, kernel=rbf, score=0.6298076923076923, total=   0.0s\n",
      "[CV] C=0.001, gamma=0.0001, kernel=rbf ...............................\n",
      "[CV]  C=0.001, gamma=0.0001, kernel=rbf, score=0.6280193236714976, total=   0.0s\n",
      "[CV] C=0.01, gamma=1, kernel=rbf .....................................\n",
      "[CV]  C=0.01, gamma=1, kernel=rbf, score=0.6298076923076923, total=   0.0s\n",
      "[CV] C=0.01, gamma=1, kernel=rbf .....................................\n",
      "[CV]  C=0.01, gamma=1, kernel=rbf, score=0.6298076923076923, total=   0.0s\n",
      "[CV] C=0.01, gamma=1, kernel=rbf .....................................\n",
      "[CV]  C=0.01, gamma=1, kernel=rbf, score=0.6280193236714976, total=   0.0s\n",
      "[CV] C=0.01, gamma=0.1, kernel=rbf ...................................\n",
      "[CV]  C=0.01, gamma=0.1, kernel=rbf, score=0.6298076923076923, total=   0.0s\n",
      "[CV] C=0.01, gamma=0.1, kernel=rbf ...................................\n",
      "[CV]  C=0.01, gamma=0.1, kernel=rbf, score=0.6298076923076923, total=   0.0s\n",
      "[CV] C=0.01, gamma=0.1, kernel=rbf ...................................\n",
      "[CV]  C=0.01, gamma=0.1, kernel=rbf, score=0.6280193236714976, total=   0.0s\n",
      "[CV] C=0.01, gamma=0.01, kernel=rbf ..................................\n",
      "[CV]  C=0.01, gamma=0.01, kernel=rbf, score=0.6298076923076923, total=   0.0s\n",
      "[CV] C=0.01, gamma=0.01, kernel=rbf ..................................\n",
      "[CV]  C=0.01, gamma=0.01, kernel=rbf, score=0.6298076923076923, total=   0.0s\n",
      "[CV] C=0.01, gamma=0.01, kernel=rbf ..................................\n",
      "[CV]  C=0.01, gamma=0.01, kernel=rbf, score=0.6280193236714976, total=   0.0s\n",
      "[CV] C=0.01, gamma=0.001, kernel=rbf .................................\n",
      "[CV]  C=0.01, gamma=0.001, kernel=rbf, score=0.6298076923076923, total=   0.0s\n",
      "[CV] C=0.01, gamma=0.001, kernel=rbf .................................\n",
      "[CV]  C=0.01, gamma=0.001, kernel=rbf, score=0.6298076923076923, total=   0.0s\n",
      "[CV] C=0.01, gamma=0.001, kernel=rbf .................................\n",
      "[CV]  C=0.01, gamma=0.001, kernel=rbf, score=0.6280193236714976, total=   0.0s\n",
      "[CV] C=0.01, gamma=0.0001, kernel=rbf ................................\n",
      "[CV]  C=0.01, gamma=0.0001, kernel=rbf, score=0.6298076923076923, total=   0.0s\n",
      "[CV] C=0.01, gamma=0.0001, kernel=rbf ................................\n",
      "[CV]  C=0.01, gamma=0.0001, kernel=rbf, score=0.6298076923076923, total=   0.0s\n",
      "[CV] C=0.01, gamma=0.0001, kernel=rbf ................................\n",
      "[CV]  C=0.01, gamma=0.0001, kernel=rbf, score=0.6280193236714976, total=   0.0s\n",
      "[CV] C=0.1, gamma=1, kernel=rbf ......................................\n",
      "[CV]  C=0.1, gamma=1, kernel=rbf, score=0.6298076923076923, total=   0.0s\n",
      "[CV] C=0.1, gamma=1, kernel=rbf ......................................\n",
      "[CV]  C=0.1, gamma=1, kernel=rbf, score=0.6298076923076923, total=   0.0s\n",
      "[CV] C=0.1, gamma=1, kernel=rbf ......................................\n",
      "[CV]  C=0.1, gamma=1, kernel=rbf, score=0.6280193236714976, total=   0.0s\n",
      "[CV] C=0.1, gamma=0.1, kernel=rbf ....................................\n",
      "[CV]  C=0.1, gamma=0.1, kernel=rbf, score=0.6298076923076923, total=   0.0s\n",
      "[CV] C=0.1, gamma=0.1, kernel=rbf ....................................\n",
      "[CV]  C=0.1, gamma=0.1, kernel=rbf, score=0.6298076923076923, total=   0.0s\n",
      "[CV] C=0.1, gamma=0.1, kernel=rbf ....................................\n",
      "[CV]  C=0.1, gamma=0.1, kernel=rbf, score=0.6280193236714976, total=   0.0s\n",
      "[CV] C=0.1, gamma=0.01, kernel=rbf ...................................\n",
      "[CV]  C=0.1, gamma=0.01, kernel=rbf, score=0.6298076923076923, total=   0.0s\n",
      "[CV] C=0.1, gamma=0.01, kernel=rbf ...................................\n",
      "[CV]  C=0.1, gamma=0.01, kernel=rbf, score=0.6394230769230769, total=   0.0s\n",
      "[CV] C=0.1, gamma=0.01, kernel=rbf ...................................\n",
      "[CV]  C=0.1, gamma=0.01, kernel=rbf, score=0.6521739130434783, total=   0.0s\n",
      "[CV] C=0.1, gamma=0.001, kernel=rbf ..................................\n",
      "[CV]  C=0.1, gamma=0.001, kernel=rbf, score=0.7067307692307693, total=   0.0s\n",
      "[CV] C=0.1, gamma=0.001, kernel=rbf ..................................\n",
      "[CV]  C=0.1, gamma=0.001, kernel=rbf, score=0.6490384615384616, total=   0.0s\n",
      "[CV] C=0.1, gamma=0.001, kernel=rbf ..................................\n",
      "[CV]  C=0.1, gamma=0.001, kernel=rbf, score=0.6763285024154589, total=   0.0s\n",
      "[CV] C=0.1, gamma=0.0001, kernel=rbf .................................\n",
      "[CV]  C=0.1, gamma=0.0001, kernel=rbf, score=0.6971153846153846, total=   0.0s\n",
      "[CV] C=0.1, gamma=0.0001, kernel=rbf .................................\n",
      "[CV]  C=0.1, gamma=0.0001, kernel=rbf, score=0.6586538461538461, total=   0.0s\n",
      "[CV] C=0.1, gamma=0.0001, kernel=rbf .................................\n",
      "[CV]  C=0.1, gamma=0.0001, kernel=rbf, score=0.6763285024154589, total=   0.0s\n",
      "[CV] C=1.0, gamma=1, kernel=rbf ......................................\n",
      "[CV]  C=1.0, gamma=1, kernel=rbf, score=0.6394230769230769, total=   0.0s\n",
      "[CV] C=1.0, gamma=1, kernel=rbf ......................................\n",
      "[CV]  C=1.0, gamma=1, kernel=rbf, score=0.6682692307692307, total=   0.0s\n",
      "[CV] C=1.0, gamma=1, kernel=rbf ......................................\n",
      "[CV]  C=1.0, gamma=1, kernel=rbf, score=0.6473429951690821, total=   0.0s\n",
      "[CV] C=1.0, gamma=0.1, kernel=rbf ....................................\n",
      "[CV]  C=1.0, gamma=0.1, kernel=rbf, score=0.6682692307692307, total=   0.0s\n",
      "[CV] C=1.0, gamma=0.1, kernel=rbf ....................................\n",
      "[CV]  C=1.0, gamma=0.1, kernel=rbf, score=0.7115384615384616, total=   0.0s\n",
      "[CV] C=1.0, gamma=0.1, kernel=rbf ....................................\n",
      "[CV]  C=1.0, gamma=0.1, kernel=rbf, score=0.6666666666666666, total=   0.0s\n",
      "[CV] C=1.0, gamma=0.01, kernel=rbf ...................................\n",
      "[CV] ........ C=1.0, gamma=0.01, kernel=rbf, score=0.75, total=   0.0s\n",
      "[CV] C=1.0, gamma=0.01, kernel=rbf ...................................\n",
      "[CV]  C=1.0, gamma=0.01, kernel=rbf, score=0.7211538461538461, total=   0.0s\n",
      "[CV] C=1.0, gamma=0.01, kernel=rbf ...................................\n",
      "[CV]  C=1.0, gamma=0.01, kernel=rbf, score=0.6908212560386473, total=   0.0s\n",
      "[CV] C=1.0, gamma=0.001, kernel=rbf ..................................\n",
      "[CV]  C=1.0, gamma=0.001, kernel=rbf, score=0.7067307692307693, total=   0.0s\n",
      "[CV] C=1.0, gamma=0.001, kernel=rbf ..................................\n",
      "[CV] ..... C=1.0, gamma=0.001, kernel=rbf, score=0.6875, total=   0.0s\n",
      "[CV] C=1.0, gamma=0.001, kernel=rbf ..................................\n",
      "[CV]  C=1.0, gamma=0.001, kernel=rbf, score=0.6908212560386473, total=   0.0s\n",
      "[CV] C=1.0, gamma=0.0001, kernel=rbf .................................\n",
      "[CV]  C=1.0, gamma=0.0001, kernel=rbf, score=0.7067307692307693, total=   0.0s\n",
      "[CV] C=1.0, gamma=0.0001, kernel=rbf .................................\n",
      "[CV]  C=1.0, gamma=0.0001, kernel=rbf, score=0.6682692307692307, total=   0.0s\n",
      "[CV] C=1.0, gamma=0.0001, kernel=rbf .................................\n",
      "[CV]  C=1.0, gamma=0.0001, kernel=rbf, score=0.6908212560386473, total=   0.0s\n",
      "[CV] C=10.0, gamma=1, kernel=rbf .....................................\n",
      "[CV]  C=10.0, gamma=1, kernel=rbf, score=0.6346153846153846, total=   0.0s\n",
      "[CV] C=10.0, gamma=1, kernel=rbf .....................................\n"
     ]
    },
    {
     "name": "stdout",
     "output_type": "stream",
     "text": [
      "[CV]  C=10.0, gamma=1, kernel=rbf, score=0.6682692307692307, total=   0.0s\n",
      "[CV] C=10.0, gamma=1, kernel=rbf .....................................\n",
      "[CV]  C=10.0, gamma=1, kernel=rbf, score=0.6521739130434783, total=   0.0s\n",
      "[CV] C=10.0, gamma=0.1, kernel=rbf ...................................\n",
      "[CV]  C=10.0, gamma=0.1, kernel=rbf, score=0.6730769230769231, total=   0.0s\n",
      "[CV] C=10.0, gamma=0.1, kernel=rbf ...................................\n",
      "[CV]  C=10.0, gamma=0.1, kernel=rbf, score=0.7115384615384616, total=   0.0s\n",
      "[CV] C=10.0, gamma=0.1, kernel=rbf ...................................\n",
      "[CV]  C=10.0, gamma=0.1, kernel=rbf, score=0.7246376811594203, total=   0.0s\n",
      "[CV] C=10.0, gamma=0.01, kernel=rbf ..................................\n",
      "[CV]  C=10.0, gamma=0.01, kernel=rbf, score=0.7884615384615384, total=   0.0s\n",
      "[CV] C=10.0, gamma=0.01, kernel=rbf ..................................\n",
      "[CV]  C=10.0, gamma=0.01, kernel=rbf, score=0.7403846153846154, total=   0.0s\n",
      "[CV] C=10.0, gamma=0.01, kernel=rbf ..................................\n",
      "[CV]  C=10.0, gamma=0.01, kernel=rbf, score=0.7294685990338164, total=   0.0s\n",
      "[CV] C=10.0, gamma=0.001, kernel=rbf .................................\n",
      "[CV]  C=10.0, gamma=0.001, kernel=rbf, score=0.7980769230769231, total=   0.0s\n",
      "[CV] C=10.0, gamma=0.001, kernel=rbf .................................\n",
      "[CV]  C=10.0, gamma=0.001, kernel=rbf, score=0.7788461538461539, total=   0.0s\n",
      "[CV] C=10.0, gamma=0.001, kernel=rbf .................................\n",
      "[CV]  C=10.0, gamma=0.001, kernel=rbf, score=0.7971014492753623, total=   0.0s\n",
      "[CV] C=10.0, gamma=0.0001, kernel=rbf ................................\n",
      "[CV]  C=10.0, gamma=0.0001, kernel=rbf, score=0.7211538461538461, total=   0.0s\n",
      "[CV] C=10.0, gamma=0.0001, kernel=rbf ................................\n",
      "[CV]  C=10.0, gamma=0.0001, kernel=rbf, score=0.6923076923076923, total=   0.0s\n",
      "[CV] C=10.0, gamma=0.0001, kernel=rbf ................................\n",
      "[CV]  C=10.0, gamma=0.0001, kernel=rbf, score=0.6859903381642513, total=   0.0s\n",
      "[CV] C=100.0, gamma=1, kernel=rbf ....................................\n",
      "[CV]  C=100.0, gamma=1, kernel=rbf, score=0.6346153846153846, total=   0.0s\n",
      "[CV] C=100.0, gamma=1, kernel=rbf ....................................\n",
      "[CV]  C=100.0, gamma=1, kernel=rbf, score=0.6442307692307693, total=   0.0s\n",
      "[CV] C=100.0, gamma=1, kernel=rbf ....................................\n",
      "[CV]  C=100.0, gamma=1, kernel=rbf, score=0.6473429951690821, total=   0.0s\n",
      "[CV] C=100.0, gamma=0.1, kernel=rbf ..................................\n",
      "[CV]  C=100.0, gamma=0.1, kernel=rbf, score=0.6778846153846154, total=   0.0s\n",
      "[CV] C=100.0, gamma=0.1, kernel=rbf ..................................\n",
      "[CV]  C=100.0, gamma=0.1, kernel=rbf, score=0.6923076923076923, total=   0.0s\n",
      "[CV] C=100.0, gamma=0.1, kernel=rbf ..................................\n",
      "[CV]  C=100.0, gamma=0.1, kernel=rbf, score=0.714975845410628, total=   0.0s\n",
      "[CV] C=100.0, gamma=0.01, kernel=rbf .................................\n",
      "[CV]  C=100.0, gamma=0.01, kernel=rbf, score=0.6923076923076923, total=   0.0s\n",
      "[CV] C=100.0, gamma=0.01, kernel=rbf .................................\n",
      "[CV]  C=100.0, gamma=0.01, kernel=rbf, score=0.7259615384615384, total=   0.0s\n",
      "[CV] C=100.0, gamma=0.01, kernel=rbf .................................\n",
      "[CV]  C=100.0, gamma=0.01, kernel=rbf, score=0.7391304347826086, total=   0.0s\n",
      "[CV] C=100.0, gamma=0.001, kernel=rbf ................................\n",
      "[CV]  C=100.0, gamma=0.001, kernel=rbf, score=0.7884615384615384, total=   0.0s\n",
      "[CV] C=100.0, gamma=0.001, kernel=rbf ................................\n",
      "[CV]  C=100.0, gamma=0.001, kernel=rbf, score=0.7836538461538461, total=   0.0s\n",
      "[CV] C=100.0, gamma=0.001, kernel=rbf ................................\n",
      "[CV]  C=100.0, gamma=0.001, kernel=rbf, score=0.7922705314009661, total=   0.0s\n",
      "[CV] C=100.0, gamma=0.0001, kernel=rbf ...............................\n",
      "[CV]  C=100.0, gamma=0.0001, kernel=rbf, score=0.7980769230769231, total=   0.0s\n",
      "[CV] C=100.0, gamma=0.0001, kernel=rbf ...............................\n",
      "[CV]  C=100.0, gamma=0.0001, kernel=rbf, score=0.7788461538461539, total=   0.0s\n",
      "[CV] C=100.0, gamma=0.0001, kernel=rbf ...............................\n",
      "[CV]  C=100.0, gamma=0.0001, kernel=rbf, score=0.7971014492753623, total=   0.0s\n"
     ]
    },
    {
     "name": "stderr",
     "output_type": "stream",
     "text": [
      "[Parallel(n_jobs=1)]: Done  90 out of  90 | elapsed:    3.3s finished\n"
     ]
    },
    {
     "data": {
      "text/plain": [
       "GridSearchCV(cv=None, error_score='raise',\n",
       "       estimator=SVC(C=1.0, cache_size=200, class_weight=None, coef0=0.0,\n",
       "  decision_function_shape='ovr', degree=3, gamma='auto', kernel='rbf',\n",
       "  max_iter=-1, probability=False, random_state=None, shrinking=True,\n",
       "  tol=0.001, verbose=False),\n",
       "       fit_params=None, iid=True, n_jobs=1,\n",
       "       param_grid={'C': [0.001, 0.01, 0.1, 1.0, 10.0, 100.0], 'gamma': [1, 0.1, 0.01, 0.001, 0.0001], 'kernel': ['rbf']},\n",
       "       pre_dispatch='2*n_jobs', refit=True, return_train_score='warn',\n",
       "       scoring=None, verbose=4)"
      ]
     },
     "execution_count": 68,
     "metadata": {},
     "output_type": "execute_result"
    }
   ],
   "source": [
    "grid.fit(X_train,y_train)"
   ]
  },
  {
   "cell_type": "code",
   "execution_count": 69,
   "metadata": {},
   "outputs": [
    {
     "data": {
      "text/plain": [
       "{'C': 10.0, 'gamma': 0.001, 'kernel': 'rbf'}"
      ]
     },
     "execution_count": 69,
     "metadata": {},
     "output_type": "execute_result"
    }
   ],
   "source": [
    "grid.best_params_"
   ]
  },
  {
   "cell_type": "code",
   "execution_count": 70,
   "metadata": {},
   "outputs": [
    {
     "data": {
      "text/plain": [
       "SVC(C=10.0, cache_size=200, class_weight=None, coef0=0.0,\n",
       "  decision_function_shape='ovr', degree=3, gamma=0.001, kernel='rbf',\n",
       "  max_iter=-1, probability=False, random_state=None, shrinking=True,\n",
       "  tol=0.001, verbose=False)"
      ]
     },
     "execution_count": 70,
     "metadata": {},
     "output_type": "execute_result"
    }
   ],
   "source": [
    "grid.best_estimator_"
   ]
  },
  {
   "cell_type": "code",
   "execution_count": 71,
   "metadata": {
    "collapsed": true
   },
   "outputs": [],
   "source": [
    "grid_predictions=grid.predict(X_test)"
   ]
  },
  {
   "cell_type": "code",
   "execution_count": 72,
   "metadata": {},
   "outputs": [
    {
     "name": "stdout",
     "output_type": "stream",
     "text": [
      "             precision    recall  f1-score   support\n",
      "\n",
      "          0       0.86      0.76      0.80       157\n",
      "          1       0.71      0.82      0.76       111\n",
      "\n",
      "avg / total       0.79      0.78      0.79       268\n",
      "\n"
     ]
    }
   ],
   "source": [
    "print(classification_report(y_test,grid_predictions))"
   ]
  },
  {
   "cell_type": "code",
   "execution_count": 73,
   "metadata": {},
   "outputs": [
    {
     "ename": "ValueError",
     "evalue": "Input contains NaN, infinity or a value too large for dtype('float64').",
     "output_type": "error",
     "traceback": [
      "\u001b[0;31m---------------------------------------------------------------------------\u001b[0m",
      "\u001b[0;31mValueError\u001b[0m                                Traceback (most recent call last)",
      "\u001b[0;32m<ipython-input-73-97ca1f2e6781>\u001b[0m in \u001b[0;36m<module>\u001b[0;34m()\u001b[0m\n\u001b[0;32m----> 1\u001b[0;31m \u001b[0mgrid_predictions\u001b[0m\u001b[0;34m=\u001b[0m\u001b[0mgrid\u001b[0m\u001b[0;34m.\u001b[0m\u001b[0mpredict\u001b[0m\u001b[0;34m(\u001b[0m\u001b[0mtest\u001b[0m\u001b[0;34m)\u001b[0m\u001b[0;34m\u001b[0m\u001b[0m\n\u001b[0m",
      "\u001b[0;32m~/anaconda3/lib/python3.6/site-packages/sklearn/utils/metaestimators.py\u001b[0m in \u001b[0;36m<lambda>\u001b[0;34m(*args, **kwargs)\u001b[0m\n\u001b[1;32m    113\u001b[0m \u001b[0;34m\u001b[0m\u001b[0m\n\u001b[1;32m    114\u001b[0m         \u001b[0;31m# lambda, but not partial, allows help() to work with update_wrapper\u001b[0m\u001b[0;34m\u001b[0m\u001b[0;34m\u001b[0m\u001b[0m\n\u001b[0;32m--> 115\u001b[0;31m         \u001b[0mout\u001b[0m \u001b[0;34m=\u001b[0m \u001b[0;32mlambda\u001b[0m \u001b[0;34m*\u001b[0m\u001b[0margs\u001b[0m\u001b[0;34m,\u001b[0m \u001b[0;34m**\u001b[0m\u001b[0mkwargs\u001b[0m\u001b[0;34m:\u001b[0m \u001b[0mself\u001b[0m\u001b[0;34m.\u001b[0m\u001b[0mfn\u001b[0m\u001b[0;34m(\u001b[0m\u001b[0mobj\u001b[0m\u001b[0;34m,\u001b[0m \u001b[0;34m*\u001b[0m\u001b[0margs\u001b[0m\u001b[0;34m,\u001b[0m \u001b[0;34m**\u001b[0m\u001b[0mkwargs\u001b[0m\u001b[0;34m)\u001b[0m\u001b[0;34m\u001b[0m\u001b[0m\n\u001b[0m\u001b[1;32m    116\u001b[0m         \u001b[0;31m# update the docstring of the returned function\u001b[0m\u001b[0;34m\u001b[0m\u001b[0;34m\u001b[0m\u001b[0m\n\u001b[1;32m    117\u001b[0m         \u001b[0mupdate_wrapper\u001b[0m\u001b[0;34m(\u001b[0m\u001b[0mout\u001b[0m\u001b[0;34m,\u001b[0m \u001b[0mself\u001b[0m\u001b[0;34m.\u001b[0m\u001b[0mfn\u001b[0m\u001b[0;34m)\u001b[0m\u001b[0;34m\u001b[0m\u001b[0m\n",
      "\u001b[0;32m~/anaconda3/lib/python3.6/site-packages/sklearn/model_selection/_search.py\u001b[0m in \u001b[0;36mpredict\u001b[0;34m(self, X)\u001b[0m\n\u001b[1;32m    465\u001b[0m         \"\"\"\n\u001b[1;32m    466\u001b[0m         \u001b[0mself\u001b[0m\u001b[0;34m.\u001b[0m\u001b[0m_check_is_fitted\u001b[0m\u001b[0;34m(\u001b[0m\u001b[0;34m'predict'\u001b[0m\u001b[0;34m)\u001b[0m\u001b[0;34m\u001b[0m\u001b[0m\n\u001b[0;32m--> 467\u001b[0;31m         \u001b[0;32mreturn\u001b[0m \u001b[0mself\u001b[0m\u001b[0;34m.\u001b[0m\u001b[0mbest_estimator_\u001b[0m\u001b[0;34m.\u001b[0m\u001b[0mpredict\u001b[0m\u001b[0;34m(\u001b[0m\u001b[0mX\u001b[0m\u001b[0;34m)\u001b[0m\u001b[0;34m\u001b[0m\u001b[0m\n\u001b[0m\u001b[1;32m    468\u001b[0m \u001b[0;34m\u001b[0m\u001b[0m\n\u001b[1;32m    469\u001b[0m     \u001b[0;34m@\u001b[0m\u001b[0mif_delegate_has_method\u001b[0m\u001b[0;34m(\u001b[0m\u001b[0mdelegate\u001b[0m\u001b[0;34m=\u001b[0m\u001b[0;34m(\u001b[0m\u001b[0;34m'best_estimator_'\u001b[0m\u001b[0;34m,\u001b[0m \u001b[0;34m'estimator'\u001b[0m\u001b[0;34m)\u001b[0m\u001b[0;34m)\u001b[0m\u001b[0;34m\u001b[0m\u001b[0m\n",
      "\u001b[0;32m~/anaconda3/lib/python3.6/site-packages/sklearn/svm/base.py\u001b[0m in \u001b[0;36mpredict\u001b[0;34m(self, X)\u001b[0m\n\u001b[1;32m    546\u001b[0m             \u001b[0mClass\u001b[0m \u001b[0mlabels\u001b[0m \u001b[0;32mfor\u001b[0m \u001b[0msamples\u001b[0m \u001b[0;32min\u001b[0m \u001b[0mX\u001b[0m\u001b[0;34m.\u001b[0m\u001b[0;34m\u001b[0m\u001b[0m\n\u001b[1;32m    547\u001b[0m         \"\"\"\n\u001b[0;32m--> 548\u001b[0;31m         \u001b[0my\u001b[0m \u001b[0;34m=\u001b[0m \u001b[0msuper\u001b[0m\u001b[0;34m(\u001b[0m\u001b[0mBaseSVC\u001b[0m\u001b[0;34m,\u001b[0m \u001b[0mself\u001b[0m\u001b[0;34m)\u001b[0m\u001b[0;34m.\u001b[0m\u001b[0mpredict\u001b[0m\u001b[0;34m(\u001b[0m\u001b[0mX\u001b[0m\u001b[0;34m)\u001b[0m\u001b[0;34m\u001b[0m\u001b[0m\n\u001b[0m\u001b[1;32m    549\u001b[0m         \u001b[0;32mreturn\u001b[0m \u001b[0mself\u001b[0m\u001b[0;34m.\u001b[0m\u001b[0mclasses_\u001b[0m\u001b[0;34m.\u001b[0m\u001b[0mtake\u001b[0m\u001b[0;34m(\u001b[0m\u001b[0mnp\u001b[0m\u001b[0;34m.\u001b[0m\u001b[0masarray\u001b[0m\u001b[0;34m(\u001b[0m\u001b[0my\u001b[0m\u001b[0;34m,\u001b[0m \u001b[0mdtype\u001b[0m\u001b[0;34m=\u001b[0m\u001b[0mnp\u001b[0m\u001b[0;34m.\u001b[0m\u001b[0mintp\u001b[0m\u001b[0;34m)\u001b[0m\u001b[0;34m)\u001b[0m\u001b[0;34m\u001b[0m\u001b[0m\n\u001b[1;32m    550\u001b[0m \u001b[0;34m\u001b[0m\u001b[0m\n",
      "\u001b[0;32m~/anaconda3/lib/python3.6/site-packages/sklearn/svm/base.py\u001b[0m in \u001b[0;36mpredict\u001b[0;34m(self, X)\u001b[0m\n\u001b[1;32m    306\u001b[0m         \u001b[0my_pred\u001b[0m \u001b[0;34m:\u001b[0m \u001b[0marray\u001b[0m\u001b[0;34m,\u001b[0m \u001b[0mshape\u001b[0m \u001b[0;34m(\u001b[0m\u001b[0mn_samples\u001b[0m\u001b[0;34m,\u001b[0m\u001b[0;34m)\u001b[0m\u001b[0;34m\u001b[0m\u001b[0m\n\u001b[1;32m    307\u001b[0m         \"\"\"\n\u001b[0;32m--> 308\u001b[0;31m         \u001b[0mX\u001b[0m \u001b[0;34m=\u001b[0m \u001b[0mself\u001b[0m\u001b[0;34m.\u001b[0m\u001b[0m_validate_for_predict\u001b[0m\u001b[0;34m(\u001b[0m\u001b[0mX\u001b[0m\u001b[0;34m)\u001b[0m\u001b[0;34m\u001b[0m\u001b[0m\n\u001b[0m\u001b[1;32m    309\u001b[0m         \u001b[0mpredict\u001b[0m \u001b[0;34m=\u001b[0m \u001b[0mself\u001b[0m\u001b[0;34m.\u001b[0m\u001b[0m_sparse_predict\u001b[0m \u001b[0;32mif\u001b[0m \u001b[0mself\u001b[0m\u001b[0;34m.\u001b[0m\u001b[0m_sparse\u001b[0m \u001b[0;32melse\u001b[0m \u001b[0mself\u001b[0m\u001b[0;34m.\u001b[0m\u001b[0m_dense_predict\u001b[0m\u001b[0;34m\u001b[0m\u001b[0m\n\u001b[1;32m    310\u001b[0m         \u001b[0;32mreturn\u001b[0m \u001b[0mpredict\u001b[0m\u001b[0;34m(\u001b[0m\u001b[0mX\u001b[0m\u001b[0;34m)\u001b[0m\u001b[0;34m\u001b[0m\u001b[0m\n",
      "\u001b[0;32m~/anaconda3/lib/python3.6/site-packages/sklearn/svm/base.py\u001b[0m in \u001b[0;36m_validate_for_predict\u001b[0;34m(self, X)\u001b[0m\n\u001b[1;32m    437\u001b[0m         \u001b[0mcheck_is_fitted\u001b[0m\u001b[0;34m(\u001b[0m\u001b[0mself\u001b[0m\u001b[0;34m,\u001b[0m \u001b[0;34m'support_'\u001b[0m\u001b[0;34m)\u001b[0m\u001b[0;34m\u001b[0m\u001b[0m\n\u001b[1;32m    438\u001b[0m \u001b[0;34m\u001b[0m\u001b[0m\n\u001b[0;32m--> 439\u001b[0;31m         \u001b[0mX\u001b[0m \u001b[0;34m=\u001b[0m \u001b[0mcheck_array\u001b[0m\u001b[0;34m(\u001b[0m\u001b[0mX\u001b[0m\u001b[0;34m,\u001b[0m \u001b[0maccept_sparse\u001b[0m\u001b[0;34m=\u001b[0m\u001b[0;34m'csr'\u001b[0m\u001b[0;34m,\u001b[0m \u001b[0mdtype\u001b[0m\u001b[0;34m=\u001b[0m\u001b[0mnp\u001b[0m\u001b[0;34m.\u001b[0m\u001b[0mfloat64\u001b[0m\u001b[0;34m,\u001b[0m \u001b[0morder\u001b[0m\u001b[0;34m=\u001b[0m\u001b[0;34m\"C\"\u001b[0m\u001b[0;34m)\u001b[0m\u001b[0;34m\u001b[0m\u001b[0m\n\u001b[0m\u001b[1;32m    440\u001b[0m         \u001b[0;32mif\u001b[0m \u001b[0mself\u001b[0m\u001b[0;34m.\u001b[0m\u001b[0m_sparse\u001b[0m \u001b[0;32mand\u001b[0m \u001b[0;32mnot\u001b[0m \u001b[0msp\u001b[0m\u001b[0;34m.\u001b[0m\u001b[0misspmatrix\u001b[0m\u001b[0;34m(\u001b[0m\u001b[0mX\u001b[0m\u001b[0;34m)\u001b[0m\u001b[0;34m:\u001b[0m\u001b[0;34m\u001b[0m\u001b[0m\n\u001b[1;32m    441\u001b[0m             \u001b[0mX\u001b[0m \u001b[0;34m=\u001b[0m \u001b[0msp\u001b[0m\u001b[0;34m.\u001b[0m\u001b[0mcsr_matrix\u001b[0m\u001b[0;34m(\u001b[0m\u001b[0mX\u001b[0m\u001b[0;34m)\u001b[0m\u001b[0;34m\u001b[0m\u001b[0m\n",
      "\u001b[0;32m~/anaconda3/lib/python3.6/site-packages/sklearn/utils/validation.py\u001b[0m in \u001b[0;36mcheck_array\u001b[0;34m(array, accept_sparse, dtype, order, copy, force_all_finite, ensure_2d, allow_nd, ensure_min_samples, ensure_min_features, warn_on_dtype, estimator)\u001b[0m\n\u001b[1;32m    451\u001b[0m                              % (array.ndim, estimator_name))\n\u001b[1;32m    452\u001b[0m         \u001b[0;32mif\u001b[0m \u001b[0mforce_all_finite\u001b[0m\u001b[0;34m:\u001b[0m\u001b[0;34m\u001b[0m\u001b[0m\n\u001b[0;32m--> 453\u001b[0;31m             \u001b[0m_assert_all_finite\u001b[0m\u001b[0;34m(\u001b[0m\u001b[0marray\u001b[0m\u001b[0;34m)\u001b[0m\u001b[0;34m\u001b[0m\u001b[0m\n\u001b[0m\u001b[1;32m    454\u001b[0m \u001b[0;34m\u001b[0m\u001b[0m\n\u001b[1;32m    455\u001b[0m     \u001b[0mshape_repr\u001b[0m \u001b[0;34m=\u001b[0m \u001b[0m_shape_repr\u001b[0m\u001b[0;34m(\u001b[0m\u001b[0marray\u001b[0m\u001b[0;34m.\u001b[0m\u001b[0mshape\u001b[0m\u001b[0;34m)\u001b[0m\u001b[0;34m\u001b[0m\u001b[0m\n",
      "\u001b[0;32m~/anaconda3/lib/python3.6/site-packages/sklearn/utils/validation.py\u001b[0m in \u001b[0;36m_assert_all_finite\u001b[0;34m(X)\u001b[0m\n\u001b[1;32m     42\u001b[0m             and not np.isfinite(X).all()):\n\u001b[1;32m     43\u001b[0m         raise ValueError(\"Input contains NaN, infinity\"\n\u001b[0;32m---> 44\u001b[0;31m                          \" or a value too large for %r.\" % X.dtype)\n\u001b[0m\u001b[1;32m     45\u001b[0m \u001b[0;34m\u001b[0m\u001b[0m\n\u001b[1;32m     46\u001b[0m \u001b[0;34m\u001b[0m\u001b[0m\n",
      "\u001b[0;31mValueError\u001b[0m: Input contains NaN, infinity or a value too large for dtype('float64')."
     ]
    }
   ],
   "source": [
    "grid_predictions=grid.predict(test)"
   ]
  },
  {
   "cell_type": "code",
   "execution_count": 63,
   "metadata": {
    "collapsed": true
   },
   "outputs": [],
   "source": [
    "subwithsvm=pd.DataFrame({\n",
    "        \"PassengerId\":IDtest,\n",
    "        \"Survived\":grid_predictions\n",
    "        \n",
    "    })\n",
    "subwithsvm.to_csv('subwithsvm.csv',header=True)"
   ]
  },
  {
   "cell_type": "code",
   "execution_count": null,
   "metadata": {
    "collapsed": true
   },
   "outputs": [],
   "source": []
  },
  {
   "cell_type": "code",
   "execution_count": 43,
   "metadata": {
    "collapsed": true
   },
   "outputs": [],
   "source": [
    "def model_evaluation(model):\n",
    "    model.fit(X_train,y_train)\n",
    "    y_pred=model.predict(X_test)\n",
    "    a=accuracy_score(y_test,y_pred)\n",
    "    cm=confusion_matrix(y_test,y_pred)\n",
    "    cr=classification_report(y_test,y_pred)\n",
    "    print(cm)\n",
    "    print(cr)\n",
    "    return a\n"
   ]
  },
  {
   "cell_type": "code",
   "execution_count": 44,
   "metadata": {
    "scrolled": true
   },
   "outputs": [
    {
     "name": "stdout",
     "output_type": "stream",
     "text": [
      "[[152  16]\n",
      " [ 27  73]]\n",
      "             precision    recall  f1-score   support\n",
      "\n",
      "          0       0.85      0.90      0.88       168\n",
      "          1       0.82      0.73      0.77       100\n",
      "\n",
      "avg / total       0.84      0.84      0.84       268\n",
      "\n"
     ]
    }
   ],
   "source": [
    "a=model_evaluation(LogisticRegression())"
   ]
  },
  {
   "cell_type": "code",
   "execution_count": 45,
   "metadata": {
    "collapsed": true
   },
   "outputs": [],
   "source": [
    "from sklearn.pipeline import Pipeline\n",
    "from sklearn.preprocessing import PolynomialFeatures, StandardScaler, LabelEncoder"
   ]
  },
  {
   "cell_type": "code",
   "execution_count": 46,
   "metadata": {
    "collapsed": true
   },
   "outputs": [],
   "source": [
    "params = {\n",
    "    'polynomialfeatures__degree': [1, 2],\n",
    "    'classification__penalty': ['l1', 'l2'],\n",
    "    'classification__C': [1, 3, 6, 10]\n",
    "}\n",
    "\n",
    "pipe = Pipeline([\n",
    "    ('scaler', StandardScaler()),\n",
    "    ('polynomialfeatures', PolynomialFeatures()),\n",
    "    ('classification', LogisticRegression())\n",
    "])\n",
    "    \n",
    "grid = GridSearchCV(pipe, params, n_jobs=-1, cv=10, verbose=2)\n"
   ]
  },
  {
   "cell_type": "code",
   "execution_count": 47,
   "metadata": {},
   "outputs": [
    {
     "name": "stdout",
     "output_type": "stream",
     "text": [
      "Fitting 10 folds for each of 16 candidates, totalling 160 fits\n",
      "[CV] classification__C=1, classification__penalty=l1, polynomialfeatures__degree=1 \n",
      "[CV] classification__C=1, classification__penalty=l1, polynomialfeatures__degree=1 \n",
      "[CV] classification__C=1, classification__penalty=l1, polynomialfeatures__degree=1 \n",
      "[CV] classification__C=1, classification__penalty=l1, polynomialfeatures__degree=1 \n",
      "[CV] classification__C=1, classification__penalty=l1, polynomialfeatures__degree=1 \n",
      "[CV]  classification__C=1, classification__penalty=l1, polynomialfeatures__degree=1 -   0.0s\n",
      "[CV]  classification__C=1, classification__penalty=l1, polynomialfeatures__degree=1 -   0.0s\n",
      "[CV]  classification__C=1, classification__penalty=l1, polynomialfeatures__degree=1 -   0.0s\n",
      "[CV] classification__C=1, classification__penalty=l1, polynomialfeatures__degree=1 \n",
      "[CV]  classification__C=1, classification__penalty=l1, polynomialfeatures__degree=1 -   0.0s\n",
      "[CV]  classification__C=1, classification__penalty=l1, polynomialfeatures__degree=1 -   0.0s\n",
      "[CV] classification__C=1, classification__penalty=l1, polynomialfeatures__degree=1 \n",
      "[CV] classification__C=1, classification__penalty=l1, polynomialfeatures__degree=1 \n",
      "[CV] classification__C=1, classification__penalty=l1, polynomialfeatures__degree=2 \n",
      "[CV] classification__C=1, classification__penalty=l1, polynomialfeatures__degree=2 \n",
      "[CV]  classification__C=1, classification__penalty=l1, polynomialfeatures__degree=1 -   0.0s\n",
      "[CV] classification__C=1, classification__penalty=l1, polynomialfeatures__degree=2 \n",
      "[CV]  classification__C=1, classification__penalty=l1, polynomialfeatures__degree=1 -   0.0s\n",
      "[CV]  classification__C=1, classification__penalty=l1, polynomialfeatures__degree=1 -   0.0s\n",
      "[CV] classification__C=1, classification__penalty=l1, polynomialfeatures__degree=1 \n",
      "[CV] classification__C=1, classification__penalty=l1, polynomialfeatures__degree=2 \n",
      "[CV] classification__C=1, classification__penalty=l1, polynomialfeatures__degree=1 \n",
      "[CV] classification__C=1, classification__penalty=l1, polynomialfeatures__degree=2 \n",
      "[CV]  classification__C=1, classification__penalty=l1, polynomialfeatures__degree=1 -   0.0s\n",
      "[CV]  classification__C=1, classification__penalty=l1, polynomialfeatures__degree=1 -   0.0s\n",
      "[CV] classification__C=1, classification__penalty=l2, polynomialfeatures__degree=2 \n",
      "[CV]  classification__C=1, classification__penalty=l1, polynomialfeatures__degree=2 -   0.0s\n",
      "[CV]  classification__C=1, classification__penalty=l1, polynomialfeatures__degree=2 -   0.1s\n",
      "[CV] classification__C=1, classification__penalty=l2, polynomialfeatures__degree=2 \n",
      "[CV]  classification__C=1, classification__penalty=l1, polynomialfeatures__degree=2 -   0.1s\n",
      "[CV]  classification__C=1, classification__penalty=l1, polynomialfeatures__degree=2 -   0.1s\n",
      "[CV] classification__C=3, classification__penalty=l1, polynomialfeatures__degree=1 \n",
      "[CV]  classification__C=3, classification__penalty=l1, polynomialfeatures__degree=1 -   0.0s\n",
      "[CV]  classification__C=1, classification__penalty=l1, polynomialfeatures__degree=2 -   0.1s\n",
      "[CV] classification__C=3, classification__penalty=l1, polynomialfeatures__degree=1 \n",
      "[CV]  classification__C=1, classification__penalty=l2, polynomialfeatures__degree=2 -   0.1s\n",
      "[CV] classification__C=1, classification__penalty=l1, polynomialfeatures__degree=2 \n",
      "[CV] classification__C=1, classification__penalty=l2, polynomialfeatures__degree=2 \n",
      "[CV]  classification__C=3, classification__penalty=l1, polynomialfeatures__degree=1 -   0.0s\n",
      "[CV] classification__C=3, classification__penalty=l1, polynomialfeatures__degree=2 \n",
      "[CV] classification__C=3, classification__penalty=l2, polynomialfeatures__degree=1 \n",
      "[CV]  classification__C=3, classification__penalty=l2, polynomialfeatures__degree=1 -   0.0s\n",
      "[CV] classification__C=3, classification__penalty=l2, polynomialfeatures__degree=1 \n",
      "[CV]  classification__C=3, classification__penalty=l2, polynomialfeatures__degree=1 -   0.0s\n",
      "[CV] classification__C=6, classification__penalty=l1, polynomialfeatures__degree=1 \n",
      "[CV] classification__C=3, classification__penalty=l2, polynomialfeatures__degree=1 \n",
      "[CV]  classification__C=1, classification__penalty=l1, polynomialfeatures__degree=2 -   0.0s\n",
      "[CV]  classification__C=1, classification__penalty=l2, polynomialfeatures__degree=2 -   0.1s\n",
      "[CV]  classification__C=1, classification__penalty=l2, polynomialfeatures__degree=2 -   0.0s\n",
      "[CV] classification__C=1, classification__penalty=l2, polynomialfeatures__degree=2 \n",
      "[CV]  classification__C=3, classification__penalty=l2, polynomialfeatures__degree=1 -   0.0s\n",
      "[CV] classification__C=1, classification__penalty=l1, polynomialfeatures__degree=2 \n",
      "[CV] classification__C=3, classification__penalty=l2, polynomialfeatures__degree=1 \n",
      "[CV]  classification__C=6, classification__penalty=l1, polynomialfeatures__degree=1 -   0.0s\n",
      "[CV] classification__C=6, classification__penalty=l1, polynomialfeatures__degree=1 \n",
      "[CV] classification__C=6, classification__penalty=l1, polynomialfeatures__degree=2 \n",
      "[CV]  classification__C=3, classification__penalty=l2, polynomialfeatures__degree=1 -   0.0s\n",
      "[CV] classification__C=3, classification__penalty=l2, polynomialfeatures__degree=1 \n",
      "[CV]  classification__C=6, classification__penalty=l1, polynomialfeatures__degree=1 -   0.0s\n",
      "[CV] classification__C=3, classification__penalty=l2, polynomialfeatures__degree=1 \n",
      "[CV]  classification__C=3, classification__penalty=l2, polynomialfeatures__degree=1 -   0.0s\n",
      "[CV]  classification__C=1, classification__penalty=l2, polynomialfeatures__degree=2 -   0.0s\n",
      "[CV] classification__C=6, classification__penalty=l1, polynomialfeatures__degree=1 \n",
      "[CV] classification__C=6, classification__penalty=l2, polynomialfeatures__degree=2 \n",
      "[CV]  classification__C=3, classification__penalty=l2, polynomialfeatures__degree=1 -   0.0s\n",
      "[CV] classification__C=3, classification__penalty=l2, polynomialfeatures__degree=2 \n",
      "[CV]  classification__C=6, classification__penalty=l1, polynomialfeatures__degree=1 -   0.0s\n",
      "[CV] classification__C=6, classification__penalty=l1, polynomialfeatures__degree=1 \n",
      "[CV] classification__C=1, classification__penalty=l2, polynomialfeatures__degree=2 \n",
      "[CV]  classification__C=1, classification__penalty=l1, polynomialfeatures__degree=2 -   0.0s\n",
      "[CV] classification__C=1, classification__penalty=l1, polynomialfeatures__degree=2 \n",
      "[CV]  classification__C=6, classification__penalty=l1, polynomialfeatures__degree=1 -   0.0s\n",
      "[CV] classification__C=10, classification__penalty=l1, polynomialfeatures__degree=1 \n",
      "[CV] classification__C=6, classification__penalty=l1, polynomialfeatures__degree=1 \n",
      "[CV]  classification__C=6, classification__penalty=l1, polynomialfeatures__degree=1 -   0.0s\n",
      "[CV]  classification__C=6, classification__penalty=l2, polynomialfeatures__degree=2 -   0.1s\n",
      "[CV] classification__C=6, classification__penalty=l2, polynomialfeatures__degree=2 \n",
      "[CV]  classification__C=1, classification__penalty=l2, polynomialfeatures__degree=2 -   0.0s\n",
      "[CV]  classification__C=3, classification__penalty=l2, polynomialfeatures__degree=2 -   0.1s\n",
      "[CV] classification__C=6, classification__penalty=l1, polynomialfeatures__degree=1 \n",
      "[CV] classification__C=1, classification__penalty=l2, polynomialfeatures__degree=2 \n",
      "[CV]  classification__C=10, classification__penalty=l1, polynomialfeatures__degree=1 -   0.0s\n",
      "[CV] classification__C=10, classification__penalty=l1, polynomialfeatures__degree=1 \n",
      "[CV] classification__C=3, classification__penalty=l2, polynomialfeatures__degree=2 \n",
      "[CV]  classification__C=1, classification__penalty=l1, polynomialfeatures__degree=2 -   0.0s\n",
      "[CV]  classification__C=6, classification__penalty=l1, polynomialfeatures__degree=1 -   0.0s\n",
      "[CV]  classification__C=10, classification__penalty=l1, polynomialfeatures__degree=1 -   0.0s\n",
      "[CV] classification__C=6, classification__penalty=l1, polynomialfeatures__degree=1 \n",
      "[CV] classification__C=10, classification__penalty=l1, polynomialfeatures__degree=2 \n",
      "[CV] classification__C=1, classification__penalty=l1, polynomialfeatures__degree=2 \n",
      "[CV]  classification__C=3, classification__penalty=l1, polynomialfeatures__degree=2 -   0.2s\n",
      "[CV]  classification__C=1, classification__penalty=l2, polynomialfeatures__degree=2 -   0.0s\n",
      "[CV]  classification__C=6, classification__penalty=l1, polynomialfeatures__degree=1 -   0.0s\n"
     ]
    },
    {
     "name": "stdout",
     "output_type": "stream",
     "text": [
      "[CV] classification__C=6, classification__penalty=l1, polynomialfeatures__degree=1 \n",
      "[CV]  classification__C=6, classification__penalty=l2, polynomialfeatures__degree=2 -   0.1s\n",
      "[CV]  classification__C=3, classification__penalty=l2, polynomialfeatures__degree=2 -   0.0s\n",
      "[CV] classification__C=3, classification__penalty=l1, polynomialfeatures__degree=2 \n",
      "[CV] classification__C=1, classification__penalty=l2, polynomialfeatures__degree=2 \n",
      "[CV] classification__C=3, classification__penalty=l2, polynomialfeatures__degree=2 \n",
      "[CV] classification__C=6, classification__penalty=l2, polynomialfeatures__degree=2 \n",
      "[CV]  classification__C=6, classification__penalty=l1, polynomialfeatures__degree=1 -   0.0s\n",
      "[CV] classification__C=6, classification__penalty=l1, polynomialfeatures__degree=1 \n",
      "[CV]  classification__C=1, classification__penalty=l2, polynomialfeatures__degree=2 -   0.0s\n",
      "[CV]  classification__C=6, classification__penalty=l1, polynomialfeatures__degree=1 -   0.0s\n",
      "[CV]  classification__C=1, classification__penalty=l1, polynomialfeatures__degree=2 -   0.1s\n",
      "[CV] classification__C=1, classification__penalty=l1, polynomialfeatures__degree=2 \n",
      "[CV] classification__C=1, classification__penalty=l2, polynomialfeatures__degree=2 \n",
      "[CV] classification__C=6, classification__penalty=l1, polynomialfeatures__degree=1 \n",
      "[CV]  classification__C=3, classification__penalty=l1, polynomialfeatures__degree=2 -   0.1s\n",
      "[CV]  classification__C=6, classification__penalty=l1, polynomialfeatures__degree=1 -   0.0s\n",
      "[CV] classification__C=6, classification__penalty=l1, polynomialfeatures__degree=2 \n",
      "[CV]  classification__C=6, classification__penalty=l2, polynomialfeatures__degree=2 -   0.1s\n",
      "[CV] classification__C=3, classification__penalty=l1, polynomialfeatures__degree=2 \n",
      "[CV] classification__C=6, classification__penalty=l2, polynomialfeatures__degree=2 \n",
      "[CV]  classification__C=3, classification__penalty=l2, polynomialfeatures__degree=2 -   0.0s\n",
      "[CV]  classification__C=1, classification__penalty=l2, polynomialfeatures__degree=2 -   0.0s\n",
      "[CV] classification__C=1, classification__penalty=l2, polynomialfeatures__degree=2 \n",
      "[CV] classification__C=3, classification__penalty=l2, polynomialfeatures__degree=2 \n",
      "[CV]  classification__C=1, classification__penalty=l1, polynomialfeatures__degree=2 -   0.0s\n",
      "[CV]  classification__C=1, classification__penalty=l2, polynomialfeatures__degree=2 -   0.0s\n",
      "[CV] classification__C=1, classification__penalty=l2, polynomialfeatures__degree=1 \n",
      "[CV] classification__C=1, classification__penalty=l2, polynomialfeatures__degree=2 \n",
      "[CV]  classification__C=3, classification__penalty=l2, polynomialfeatures__degree=2 -   0.0s\n",
      "[CV]  classification__C=1, classification__penalty=l2, polynomialfeatures__degree=1 -   0.0s\n",
      "[CV]  classification__C=6, classification__penalty=l2, polynomialfeatures__degree=2 -   0.1s\n",
      "[CV] classification__C=1, classification__penalty=l2, polynomialfeatures__degree=1 \n",
      "[CV] classification__C=3, classification__penalty=l2, polynomialfeatures__degree=2 \n",
      "[CV] classification__C=6, classification__penalty=l2, polynomialfeatures__degree=2 \n",
      "[CV]  classification__C=1, classification__penalty=l2, polynomialfeatures__degree=1 -   0.0s\n",
      "[CV] classification__C=1, classification__penalty=l2, polynomialfeatures__degree=1 \n",
      "[CV]  classification__C=6, classification__penalty=l1, polynomialfeatures__degree=2 -   0.3s\n",
      "[CV]  classification__C=1, classification__penalty=l2, polynomialfeatures__degree=2 -   0.0s\n",
      "[CV]  classification__C=1, classification__penalty=l2, polynomialfeatures__degree=1 -   0.0s\n",
      "[CV] classification__C=1, classification__penalty=l2, polynomialfeatures__degree=1 \n",
      "[CV] classification__C=3, classification__penalty=l1, polynomialfeatures__degree=1 \n",
      "[CV]  classification__C=3, classification__penalty=l1, polynomialfeatures__degree=1 -   0.0s\n",
      "[CV]  classification__C=1, classification__penalty=l2, polynomialfeatures__degree=1 -   0.0s\n",
      "[CV] classification__C=6, classification__penalty=l1, polynomialfeatures__degree=2 \n",
      "[CV] classification__C=3, classification__penalty=l1, polynomialfeatures__degree=1 \n",
      "[CV]  classification__C=3, classification__penalty=l2, polynomialfeatures__degree=2 -   0.0s\n",
      "[CV] classification__C=1, classification__penalty=l2, polynomialfeatures__degree=1 \n",
      "[CV] classification__C=3, classification__penalty=l2, polynomialfeatures__degree=2 \n",
      "[CV]  classification__C=1, classification__penalty=l2, polynomialfeatures__degree=1 -   0.0s\n",
      "[CV]  classification__C=6, classification__penalty=l2, polynomialfeatures__degree=2 -   0.0s\n",
      "[CV]  classification__C=3, classification__penalty=l1, polynomialfeatures__degree=1 -   0.0s\n",
      "[CV] classification__C=1, classification__penalty=l2, polynomialfeatures__degree=1 \n",
      "[CV] classification__C=3, classification__penalty=l1, polynomialfeatures__degree=1 \n",
      "[CV] classification__C=6, classification__penalty=l2, polynomialfeatures__degree=2 \n",
      "[CV]  classification__C=3, classification__penalty=l1, polynomialfeatures__degree=1 -   0.0s\n",
      "[CV]  classification__C=1, classification__penalty=l2, polynomialfeatures__degree=1 -   0.0s\n",
      "[CV] classification__C=1, classification__penalty=l2, polynomialfeatures__degree=1 \n",
      "[CV] classification__C=3, classification__penalty=l1, polynomialfeatures__degree=1 \n",
      "[CV]  classification__C=3, classification__penalty=l1, polynomialfeatures__degree=1 -   0.0s\n",
      "[CV]  classification__C=1, classification__penalty=l2, polynomialfeatures__degree=1 -   0.0s\n",
      "[CV] classification__C=1, classification__penalty=l2, polynomialfeatures__degree=1 \n",
      "[CV]  classification__C=3, classification__penalty=l2, polynomialfeatures__degree=2 -   0.1s\n",
      "[CV]  classification__C=1, classification__penalty=l2, polynomialfeatures__degree=1 -   0.0s\n",
      "[CV] classification__C=1, classification__penalty=l2, polynomialfeatures__degree=1 \n",
      "[CV] classification__C=3, classification__penalty=l2, polynomialfeatures__degree=2 \n",
      "[CV] classification__C=3, classification__penalty=l1, polynomialfeatures__degree=1 \n",
      "[CV]  classification__C=1, classification__penalty=l2, polynomialfeatures__degree=1 -   0.0s\n",
      "[CV]  classification__C=6, classification__penalty=l2, polynomialfeatures__degree=2 -   0.1s\n",
      "[CV]  classification__C=3, classification__penalty=l1, polynomialfeatures__degree=1 -   0.0s\n",
      "[CV] classification__C=1, classification__penalty=l2, polynomialfeatures__degree=1 \n",
      "[CV] classification__C=6, classification__penalty=l2, polynomialfeatures__degree=2 \n",
      "[CV]  classification__C=1, classification__penalty=l2, polynomialfeatures__degree=1 -   0.0s\n",
      "[CV]  classification__C=3, classification__penalty=l1, polynomialfeatures__degree=2 -   0.2s\n",
      "[CV] classification__C=3, classification__penalty=l1, polynomialfeatures__degree=1 \n",
      "[CV] classification__C=3, classification__penalty=l1, polynomialfeatures__degree=2 \n",
      "[CV]  classification__C=3, classification__penalty=l1, polynomialfeatures__degree=1 -   0.0s\n",
      "[CV] classification__C=10, classification__penalty=l2, polynomialfeatures__degree=1 \n",
      "[CV]  classification__C=3, classification__penalty=l2, polynomialfeatures__degree=2 -   0.0s\n",
      "[CV] classification__C=3, classification__penalty=l1, polynomialfeatures__degree=1 \n",
      "[CV]  classification__C=6, classification__penalty=l1, polynomialfeatures__degree=2 -   0.3s\n",
      "[CV]  classification__C=10, classification__penalty=l2, polynomialfeatures__degree=1 -   0.0s\n",
      "[CV] classification__C=3, classification__penalty=l2, polynomialfeatures__degree=2 \n",
      "[CV] classification__C=6, classification__penalty=l1, polynomialfeatures__degree=2 \n",
      "[CV] classification__C=10, classification__penalty=l2, polynomialfeatures__degree=1 \n",
      "[CV]  classification__C=10, classification__penalty=l2, polynomialfeatures__degree=1 -   0.0s\n",
      "[CV]  classification__C=6, classification__penalty=l2, polynomialfeatures__degree=2 -   0.1s\n",
      "[CV]  classification__C=3, classification__penalty=l1, polynomialfeatures__degree=1 -   0.0s\n",
      "[CV] classification__C=6, classification__penalty=l2, polynomialfeatures__degree=2 \n",
      "[CV] classification__C=10, classification__penalty=l2, polynomialfeatures__degree=1 \n",
      "[CV] classification__C=3, classification__penalty=l1, polynomialfeatures__degree=1 \n",
      "[CV]  classification__C=10, classification__penalty=l1, polynomialfeatures__degree=2 -   0.4s\n",
      "[CV]  classification__C=10, classification__penalty=l2, polynomialfeatures__degree=1 -   0.0s\n"
     ]
    },
    {
     "name": "stdout",
     "output_type": "stream",
     "text": [
      "[CV] classification__C=10, classification__penalty=l2, polynomialfeatures__degree=1 \n",
      "[CV] classification__C=10, classification__penalty=l1, polynomialfeatures__degree=2 \n",
      "[CV]  classification__C=10, classification__penalty=l2, polynomialfeatures__degree=1 -   0.0s\n",
      "[CV] classification__C=10, classification__penalty=l2, polynomialfeatures__degree=1 \n",
      "[CV]  classification__C=3, classification__penalty=l2, polynomialfeatures__degree=2 -   0.0s\n",
      "[CV] classification__C=3, classification__penalty=l2, polynomialfeatures__degree=2 \n",
      "[CV]  classification__C=10, classification__penalty=l2, polynomialfeatures__degree=1 -   0.0s\n",
      "[CV]  classification__C=3, classification__penalty=l1, polynomialfeatures__degree=1 -   0.0s\n",
      "[CV] classification__C=10, classification__penalty=l2, polynomialfeatures__degree=1 \n",
      "[CV]  classification__C=10, classification__penalty=l2, polynomialfeatures__degree=1 -   0.0s\n",
      "[CV]  classification__C=6, classification__penalty=l2, polynomialfeatures__degree=2 -   0.1s\n",
      "[CV] classification__C=10, classification__penalty=l2, polynomialfeatures__degree=2 \n",
      "[CV] classification__C=10, classification__penalty=l1, polynomialfeatures__degree=1 \n",
      "[CV]  classification__C=10, classification__penalty=l1, polynomialfeatures__degree=1 -   0.0s\n",
      "[CV]  classification__C=3, classification__penalty=l2, polynomialfeatures__degree=2 -   0.0s\n",
      "[CV] classification__C=10, classification__penalty=l1, polynomialfeatures__degree=1 \n",
      "[CV] classification__C=3, classification__penalty=l2, polynomialfeatures__degree=2 \n",
      "[CV]  classification__C=10, classification__penalty=l1, polynomialfeatures__degree=1 -   0.0s\n",
      "[CV] classification__C=10, classification__penalty=l1, polynomialfeatures__degree=1 \n",
      "[CV]  classification__C=3, classification__penalty=l1, polynomialfeatures__degree=2 -   0.1s\n",
      "[CV] classification__C=3, classification__penalty=l1, polynomialfeatures__degree=2 \n",
      "[CV]  classification__C=6, classification__penalty=l1, polynomialfeatures__degree=2 -   0.3s\n",
      "[CV]  classification__C=10, classification__penalty=l2, polynomialfeatures__degree=2 -   0.0s\n",
      "[CV] classification__C=10, classification__penalty=l2, polynomialfeatures__degree=2 \n",
      "[CV] classification__C=6, classification__penalty=l1, polynomialfeatures__degree=2 \n",
      "[CV]  classification__C=10, classification__penalty=l1, polynomialfeatures__degree=1 -   0.0s\n",
      "[CV]  classification__C=3, classification__penalty=l2, polynomialfeatures__degree=2 -   0.0s\n",
      "[CV] classification__C=10, classification__penalty=l1, polynomialfeatures__degree=1 \n",
      "[CV]  classification__C=10, classification__penalty=l1, polynomialfeatures__degree=1 -   0.0s\n",
      "[CV] classification__C=10, classification__penalty=l1, polynomialfeatures__degree=1 \n",
      "[CV]  classification__C=10, classification__penalty=l1, polynomialfeatures__degree=1 -   0.0s\n",
      "[CV] classification__C=10, classification__penalty=l1, polynomialfeatures__degree=1 \n",
      "[CV]  classification__C=10, classification__penalty=l2, polynomialfeatures__degree=2 -   0.0s\n",
      "[CV] classification__C=10, classification__penalty=l2, polynomialfeatures__degree=2 \n",
      "[CV]  classification__C=10, classification__penalty=l1, polynomialfeatures__degree=1 -   0.0s\n",
      "[CV] classification__C=10, classification__penalty=l1, polynomialfeatures__degree=1 \n",
      "[CV]  classification__C=10, classification__penalty=l1, polynomialfeatures__degree=1 -   0.0s\n",
      "[CV] classification__C=10, classification__penalty=l1, polynomialfeatures__degree=1 \n",
      "[CV]  classification__C=10, classification__penalty=l2, polynomialfeatures__degree=2 -   0.0s\n",
      "[CV] classification__C=10, classification__penalty=l2, polynomialfeatures__degree=2 \n",
      "[CV]  classification__C=10, classification__penalty=l1, polynomialfeatures__degree=1 -   0.0s\n",
      "[CV]  classification__C=10, classification__penalty=l2, polynomialfeatures__degree=2 -   0.0s\n",
      "[CV] classification__C=10, classification__penalty=l2, polynomialfeatures__degree=2 \n",
      "[CV]  classification__C=6, classification__penalty=l1, polynomialfeatures__degree=2 -   0.3s\n",
      "[CV] classification__C=6, classification__penalty=l1, polynomialfeatures__degree=2 \n",
      "[CV]  classification__C=10, classification__penalty=l2, polynomialfeatures__degree=2 -   0.0s\n",
      "[CV] classification__C=10, classification__penalty=l2, polynomialfeatures__degree=2 \n",
      "[CV]  classification__C=3, classification__penalty=l1, polynomialfeatures__degree=2 -   0.2s\n",
      "[CV] classification__C=3, classification__penalty=l1, polynomialfeatures__degree=2 \n"
     ]
    },
    {
     "name": "stderr",
     "output_type": "stream",
     "text": [
      "[Parallel(n_jobs=-1)]: Done  64 out of 160 | elapsed:    0.9s remaining:    1.3s\n"
     ]
    },
    {
     "name": "stdout",
     "output_type": "stream",
     "text": [
      "[CV]  classification__C=10, classification__penalty=l2, polynomialfeatures__degree=2 -   0.0s\n",
      "[CV] classification__C=10, classification__penalty=l2, polynomialfeatures__degree=2 \n",
      "[CV]  classification__C=10, classification__penalty=l2, polynomialfeatures__degree=2 -   0.0s\n",
      "[CV] classification__C=10, classification__penalty=l2, polynomialfeatures__degree=2 \n",
      "[CV]  classification__C=6, classification__penalty=l1, polynomialfeatures__degree=2 -   0.1s\n",
      "[CV] classification__C=6, classification__penalty=l1, polynomialfeatures__degree=2 \n",
      "[CV]  classification__C=10, classification__penalty=l1, polynomialfeatures__degree=2 -   0.4s\n",
      "[CV] classification__C=10, classification__penalty=l1, polynomialfeatures__degree=2 \n",
      "[CV]  classification__C=10, classification__penalty=l2, polynomialfeatures__degree=2 -   0.1s\n",
      "[CV] classification__C=10, classification__penalty=l2, polynomialfeatures__degree=2 \n",
      "[CV]  classification__C=6, classification__penalty=l1, polynomialfeatures__degree=2 -   0.3s\n",
      "[CV] classification__C=6, classification__penalty=l1, polynomialfeatures__degree=2 \n",
      "[CV]  classification__C=3, classification__penalty=l1, polynomialfeatures__degree=2 -   0.2s\n",
      "[CV] classification__C=3, classification__penalty=l1, polynomialfeatures__degree=2 \n",
      "[CV]  classification__C=10, classification__penalty=l2, polynomialfeatures__degree=2 -   0.0s\n",
      "[CV] classification__C=10, classification__penalty=l2, polynomialfeatures__degree=2 \n",
      "[CV]  classification__C=10, classification__penalty=l2, polynomialfeatures__degree=2 -   0.0s\n",
      "[CV]  classification__C=6, classification__penalty=l1, polynomialfeatures__degree=2 -   0.2s\n",
      "[CV] classification__C=6, classification__penalty=l1, polynomialfeatures__degree=2 \n",
      "[CV]  classification__C=3, classification__penalty=l1, polynomialfeatures__degree=2 -   0.2s\n",
      "[CV] classification__C=3, classification__penalty=l1, polynomialfeatures__degree=2 \n",
      "[CV]  classification__C=6, classification__penalty=l1, polynomialfeatures__degree=2 -   0.2s\n",
      "[CV] classification__C=6, classification__penalty=l2, polynomialfeatures__degree=1 \n",
      "[CV]  classification__C=6, classification__penalty=l2, polynomialfeatures__degree=1 -   0.0s\n",
      "[CV] classification__C=6, classification__penalty=l2, polynomialfeatures__degree=1 \n",
      "[CV]  classification__C=6, classification__penalty=l2, polynomialfeatures__degree=1 -   0.0s\n",
      "[CV] classification__C=6, classification__penalty=l2, polynomialfeatures__degree=1 \n",
      "[CV]  classification__C=6, classification__penalty=l2, polynomialfeatures__degree=1 -   0.0s\n",
      "[CV] classification__C=6, classification__penalty=l2, polynomialfeatures__degree=1 \n",
      "[CV]  classification__C=6, classification__penalty=l2, polynomialfeatures__degree=1 -   0.0s\n",
      "[CV] classification__C=6, classification__penalty=l2, polynomialfeatures__degree=1 \n",
      "[CV]  classification__C=6, classification__penalty=l2, polynomialfeatures__degree=1 -   0.0s\n",
      "[CV] classification__C=6, classification__penalty=l2, polynomialfeatures__degree=1 \n",
      "[CV]  classification__C=6, classification__penalty=l2, polynomialfeatures__degree=1 -   0.0s\n",
      "[CV] classification__C=6, classification__penalty=l2, polynomialfeatures__degree=1 \n",
      "[CV]  classification__C=6, classification__penalty=l2, polynomialfeatures__degree=1 -   0.0s\n",
      "[CV] classification__C=6, classification__penalty=l2, polynomialfeatures__degree=1 \n",
      "[CV]  classification__C=6, classification__penalty=l2, polynomialfeatures__degree=1 -   0.0s\n",
      "[CV] classification__C=6, classification__penalty=l2, polynomialfeatures__degree=1 \n",
      "[CV]  classification__C=6, classification__penalty=l2, polynomialfeatures__degree=1 -   0.0s\n",
      "[CV] classification__C=6, classification__penalty=l2, polynomialfeatures__degree=1 \n",
      "[CV]  classification__C=3, classification__penalty=l1, polynomialfeatures__degree=2 -   0.1s\n",
      "[CV] classification__C=3, classification__penalty=l1, polynomialfeatures__degree=2 \n",
      "[CV]  classification__C=6, classification__penalty=l2, polynomialfeatures__degree=1 -   0.0s\n",
      "[CV] classification__C=6, classification__penalty=l2, polynomialfeatures__degree=2 \n",
      "[CV]  classification__C=6, classification__penalty=l2, polynomialfeatures__degree=2 -   0.0s\n",
      "[CV] classification__C=6, classification__penalty=l2, polynomialfeatures__degree=2 \n",
      "[CV]  classification__C=6, classification__penalty=l2, polynomialfeatures__degree=2 -   0.0s\n",
      "[CV]  classification__C=3, classification__penalty=l1, polynomialfeatures__degree=2 -   0.1s\n",
      "[CV] classification__C=3, classification__penalty=l1, polynomialfeatures__degree=2 \n",
      "[CV]  classification__C=6, classification__penalty=l1, polynomialfeatures__degree=2 -   0.3s\n",
      "[CV] classification__C=6, classification__penalty=l1, polynomialfeatures__degree=2 \n",
      "[CV]  classification__C=10, classification__penalty=l1, polynomialfeatures__degree=2 -   0.6s\n",
      "[CV] classification__C=10, classification__penalty=l1, polynomialfeatures__degree=2 \n",
      "[CV]  classification__C=6, classification__penalty=l1, polynomialfeatures__degree=2 -   0.1s\n",
      "[CV]  classification__C=3, classification__penalty=l1, polynomialfeatures__degree=2 -   0.2s\n",
      "[CV] classification__C=3, classification__penalty=l2, polynomialfeatures__degree=1 \n",
      "[CV]  classification__C=3, classification__penalty=l2, polynomialfeatures__degree=1 -   0.0s\n",
      "[CV] classification__C=3, classification__penalty=l2, polynomialfeatures__degree=1 \n",
      "[CV]  classification__C=3, classification__penalty=l2, polynomialfeatures__degree=1 -   0.0s\n",
      "[CV] classification__C=3, classification__penalty=l2, polynomialfeatures__degree=1 \n",
      "[CV]  classification__C=3, classification__penalty=l2, polynomialfeatures__degree=1 -   0.0s\n",
      "[CV] classification__C=3, classification__penalty=l2, polynomialfeatures__degree=1 \n",
      "[CV]  classification__C=3, classification__penalty=l2, polynomialfeatures__degree=1 -   0.0s\n",
      "[CV]  classification__C=10, classification__penalty=l1, polynomialfeatures__degree=2 -   0.2s\n",
      "[CV] classification__C=10, classification__penalty=l1, polynomialfeatures__degree=2 \n",
      "[CV]  classification__C=10, classification__penalty=l1, polynomialfeatures__degree=2 -   0.3s\n",
      "[CV] classification__C=10, classification__penalty=l1, polynomialfeatures__degree=2 \n",
      "[CV]  classification__C=10, classification__penalty=l1, polynomialfeatures__degree=2 -   0.3s\n",
      "[CV] classification__C=10, classification__penalty=l1, polynomialfeatures__degree=2 \n",
      "[CV]  classification__C=10, classification__penalty=l1, polynomialfeatures__degree=2 -   0.2s\n",
      "[CV] classification__C=10, classification__penalty=l1, polynomialfeatures__degree=2 \n",
      "[CV]  classification__C=10, classification__penalty=l1, polynomialfeatures__degree=2 -   0.2s\n",
      "[CV] classification__C=10, classification__penalty=l1, polynomialfeatures__degree=2 \n",
      "[CV]  classification__C=10, classification__penalty=l1, polynomialfeatures__degree=2 -   0.3s\n",
      "[CV] classification__C=10, classification__penalty=l1, polynomialfeatures__degree=2 \n",
      "[CV]  classification__C=10, classification__penalty=l1, polynomialfeatures__degree=2 -   0.2s\n",
      "[CV] classification__C=10, classification__penalty=l2, polynomialfeatures__degree=1 \n",
      "[CV]  classification__C=10, classification__penalty=l2, polynomialfeatures__degree=1 -   0.0s\n",
      "[CV] classification__C=10, classification__penalty=l2, polynomialfeatures__degree=1 \n",
      "[CV]  classification__C=10, classification__penalty=l2, polynomialfeatures__degree=1 -   0.0s\n",
      "[CV] classification__C=10, classification__penalty=l2, polynomialfeatures__degree=1 \n",
      "[CV]  classification__C=10, classification__penalty=l2, polynomialfeatures__degree=1 -   0.0s\n",
      "[CV] classification__C=10, classification__penalty=l2, polynomialfeatures__degree=1 \n",
      "[CV]  classification__C=10, classification__penalty=l2, polynomialfeatures__degree=1 -   0.0s\n"
     ]
    },
    {
     "name": "stderr",
     "output_type": "stream",
     "text": [
      "[Parallel(n_jobs=-1)]: Done 160 out of 160 | elapsed:    3.6s finished\n"
     ]
    },
    {
     "data": {
      "text/plain": [
       "GridSearchCV(cv=10, error_score='raise',\n",
       "       estimator=Pipeline(memory=None,\n",
       "     steps=[('scaler', StandardScaler(copy=True, with_mean=True, with_std=True)), ('polynomialfeatures', PolynomialFeatures(degree=2, include_bias=True, interaction_only=False)), ('classification', LogisticRegression(C=1.0, class_weight=None, dual=False, fit_intercept=True,\n",
       "          intercept_scaling=1, max_iter=100, multi_class='ovr', n_jobs=1,\n",
       "          penalty='l2', random_state=None, solver='liblinear', tol=0.0001,\n",
       "          verbose=0, warm_start=False))]),\n",
       "       fit_params={}, iid=True, n_jobs=-1,\n",
       "       param_grid={'polynomialfeatures__degree': [1, 2], 'classification__penalty': ['l1', 'l2'], 'classification__C': [1, 3, 6, 10]},\n",
       "       pre_dispatch='2*n_jobs', refit=True, scoring=None, verbose=2)"
      ]
     },
     "execution_count": 47,
     "metadata": {},
     "output_type": "execute_result"
    }
   ],
   "source": [
    "grid.fit(X_train,y_train.ravel())"
   ]
  },
  {
   "cell_type": "code",
   "execution_count": 48,
   "metadata": {},
   "outputs": [
    {
     "data": {
      "text/plain": [
       "0.8009630818619583"
      ]
     },
     "execution_count": 48,
     "metadata": {},
     "output_type": "execute_result"
    }
   ],
   "source": [
    "grid.best_score_"
   ]
  },
  {
   "cell_type": "code",
   "execution_count": 49,
   "metadata": {},
   "outputs": [
    {
     "data": {
      "text/plain": [
       "{'classification__C': 1,\n",
       " 'classification__penalty': 'l1',\n",
       " 'polynomialfeatures__degree': 1}"
      ]
     },
     "execution_count": 49,
     "metadata": {},
     "output_type": "execute_result"
    }
   ],
   "source": [
    "grid.best_params_"
   ]
  },
  {
   "cell_type": "code",
   "execution_count": 50,
   "metadata": {},
   "outputs": [
    {
     "data": {
      "text/plain": [
       "0.83955223880597019"
      ]
     },
     "execution_count": 50,
     "metadata": {},
     "output_type": "execute_result"
    }
   ],
   "source": [
    "grid.score(X_test,y_test)"
   ]
  },
  {
   "cell_type": "code",
   "execution_count": 51,
   "metadata": {
    "collapsed": true
   },
   "outputs": [],
   "source": [
    "lg=grid.best_estimator_"
   ]
  },
  {
   "cell_type": "code",
   "execution_count": 52,
   "metadata": {},
   "outputs": [
    {
     "data": {
      "text/plain": [
       "Pipeline(memory=None,\n",
       "     steps=[('scaler', StandardScaler(copy=True, with_mean=True, with_std=True)), ('polynomialfeatures', PolynomialFeatures(degree=1, include_bias=True, interaction_only=False)), ('classification', LogisticRegression(C=1, class_weight=None, dual=False, fit_intercept=True,\n",
       "          intercept_scaling=1, max_iter=100, multi_class='ovr', n_jobs=1,\n",
       "          penalty='l1', random_state=None, solver='liblinear', tol=0.0001,\n",
       "          verbose=0, warm_start=False))])"
      ]
     },
     "execution_count": 52,
     "metadata": {},
     "output_type": "execute_result"
    }
   ],
   "source": [
    "lg.fit(X_train, y_train.ravel())\n"
   ]
  },
  {
   "cell_type": "code",
   "execution_count": 53,
   "metadata": {
    "collapsed": true
   },
   "outputs": [],
   "source": [
    "pred=lg.predict(test)"
   ]
  },
  {
   "cell_type": "code",
   "execution_count": 54,
   "metadata": {
    "collapsed": true
   },
   "outputs": [],
   "source": [
    "    sub1=pd.DataFrame({\n",
    "        \"PassengerId\":IDtest,\n",
    "        \"Survived\":pred\n",
    "        \n",
    "                    })\n",
    "    sub1.to_csv('lr_monday1.csv',header=True)\n"
   ]
  },
  {
   "cell_type": "code",
   "execution_count": null,
   "metadata": {
    "collapsed": true
   },
   "outputs": [],
   "source": []
  },
  {
   "cell_type": "code",
   "execution_count": 243,
   "metadata": {
    "collapsed": true
   },
   "outputs": [],
   "source": [
    "def lr_pred():\n",
    "    logmodel=LogisticRegression()\n",
    "    logmodel.fit(X_train,y_train)\n",
    "    predictions=logmodel.predict(test)\n",
    "    sub1=pd.DataFrame({\n",
    "        \"PassengerId\":IDtest,\n",
    "        \"Survived\":predictions\n",
    "        \n",
    "                    })\n",
    "    sub1.to_csv('lr_sunday102.csv',header=True)\n"
   ]
  },
  {
   "cell_type": "code",
   "execution_count": 244,
   "metadata": {
    "collapsed": true
   },
   "outputs": [],
   "source": [
    "lr_pred()"
   ]
  },
  {
   "cell_type": "code",
   "execution_count": 65,
   "metadata": {},
   "outputs": [
    {
     "name": "stdout",
     "output_type": "stream",
     "text": [
      "[[139  25]\n",
      " [ 28  76]]\n",
      "             precision    recall  f1-score   support\n",
      "\n",
      "          0       0.83      0.85      0.84       164\n",
      "          1       0.75      0.73      0.74       104\n",
      "\n",
      "avg / total       0.80      0.80      0.80       268\n",
      "\n"
     ]
    }
   ],
   "source": [
    "b=model_evaluation(RandomForestClassifier())"
   ]
  },
  {
   "cell_type": "code",
   "execution_count": 47,
   "metadata": {
    "collapsed": true
   },
   "outputs": [],
   "source": [
    "from sklearn.tree import DecisionTreeClassifier"
   ]
  },
  {
   "cell_type": "code",
   "execution_count": 66,
   "metadata": {
    "scrolled": true
   },
   "outputs": [
    {
     "name": "stdout",
     "output_type": "stream",
     "text": [
      "[[141  23]\n",
      " [ 29  75]]\n",
      "             precision    recall  f1-score   support\n",
      "\n",
      "          0       0.83      0.86      0.84       164\n",
      "          1       0.77      0.72      0.74       104\n",
      "\n",
      "avg / total       0.80      0.81      0.80       268\n",
      "\n"
     ]
    }
   ],
   "source": [
    "c=model_evaluation(DecisionTreeClassifier())"
   ]
  },
  {
   "cell_type": "code",
   "execution_count": null,
   "metadata": {
    "collapsed": true
   },
   "outputs": [],
   "source": []
  },
  {
   "cell_type": "code",
   "execution_count": 67,
   "metadata": {
    "collapsed": true
   },
   "outputs": [],
   "source": [
    "lr=LogisticRegression()"
   ]
  },
  {
   "cell_type": "code",
   "execution_count": 68,
   "metadata": {},
   "outputs": [
    {
     "ename": "NameError",
     "evalue": "name 'GridSearchCV' is not defined",
     "output_type": "error",
     "traceback": [
      "\u001b[0;31m---------------------------------------------------------------------------\u001b[0m",
      "\u001b[0;31mNameError\u001b[0m                                 Traceback (most recent call last)",
      "\u001b[0;32m<ipython-input-68-60fc70c13728>\u001b[0m in \u001b[0;36m<module>\u001b[0;34m()\u001b[0m\n\u001b[1;32m      2\u001b[0m         \u001b[0;34m'penalty'\u001b[0m\u001b[0;34m:\u001b[0m\u001b[0;34m[\u001b[0m\u001b[0;34m'11'\u001b[0m\u001b[0;34m,\u001b[0m\u001b[0;34m'12'\u001b[0m\u001b[0;34m]\u001b[0m\u001b[0;34m\u001b[0m\u001b[0m\n\u001b[1;32m      3\u001b[0m        }\n\u001b[0;32m----> 4\u001b[0;31m \u001b[0mgslr\u001b[0m\u001b[0;34m=\u001b[0m\u001b[0mGridSearchCV\u001b[0m\u001b[0;34m(\u001b[0m\u001b[0mlr\u001b[0m\u001b[0;34m,\u001b[0m\u001b[0mparams\u001b[0m\u001b[0;34m,\u001b[0m\u001b[0mn_jobs\u001b[0m\u001b[0;34m=\u001b[0m\u001b[0;34m-\u001b[0m\u001b[0;36m1\u001b[0m\u001b[0;34m,\u001b[0m\u001b[0mcv\u001b[0m\u001b[0;34m=\u001b[0m\u001b[0;36m5\u001b[0m\u001b[0;34m)\u001b[0m\u001b[0;34m\u001b[0m\u001b[0m\n\u001b[0m\u001b[1;32m      5\u001b[0m \u001b[0mgslr\u001b[0m\u001b[0;34m.\u001b[0m\u001b[0mfit\u001b[0m\u001b[0;34m(\u001b[0m\u001b[0mX_train\u001b[0m\u001b[0;34m,\u001b[0m\u001b[0my_train\u001b[0m\u001b[0;34m)\u001b[0m\u001b[0;34m\u001b[0m\u001b[0m\n",
      "\u001b[0;31mNameError\u001b[0m: name 'GridSearchCV' is not defined"
     ]
    }
   ],
   "source": [
    "params={'C':[0.001,0.01,0.1,1.0,0.0,10.0,100.0],\n",
    "        'penalty':['11','12']\n",
    "       }\n",
    "gslr=GridSearchCV(lr,params,n_jobs=-1,cv=5)\n",
    "gslr.fit(X_train,y_train)\n"
   ]
  },
  {
   "cell_type": "code",
   "execution_count": 84,
   "metadata": {},
   "outputs": [
    {
     "data": {
      "text/plain": [
       "GridSearchCV(cv=5, error_score='raise',\n",
       "       estimator=DecisionTreeClassifier(class_weight=None, criterion='gini', max_depth=None,\n",
       "            max_features=None, max_leaf_nodes=None,\n",
       "            min_impurity_decrease=0.0, min_impurity_split=None,\n",
       "            min_samples_leaf=1, min_samples_split=2,\n",
       "            min_weight_fraction_leaf=0.0, presort=False, random_state=None,\n",
       "            splitter='best'),\n",
       "       fit_params={}, iid=True, n_jobs=1,\n",
       "       param_grid={'criterion': ['gini', 'entropy'], 'max_depth': [4, 5, 6, 7, 8, 9, 10, 11, 12, 15, 20, 30, 40, 50, 70, 90, 120, 150, 200, 250]},\n",
       "       pre_dispatch='2*n_jobs', refit=True, scoring=None, verbose=0)"
      ]
     },
     "execution_count": 84,
     "metadata": {},
     "output_type": "execute_result"
    }
   ],
   "source": [
    "tree_para = {'criterion':['gini','entropy'],'max_depth':[4,5,6,7,8,9,10,11,12,15,20,30,40,50,70,90,120,150,200,250]}\n",
    "clf = GridSearchCV(DecisionTreeClassifier(), tree_para, cv=5)\n",
    "clf.fit(X_train,y_train )"
   ]
  },
  {
   "cell_type": "code",
   "execution_count": 85,
   "metadata": {
    "collapsed": true
   },
   "outputs": [],
   "source": [
    "pred=clf.predict(X_test)"
   ]
  },
  {
   "cell_type": "code",
   "execution_count": 86,
   "metadata": {},
   "outputs": [
    {
     "name": "stdout",
     "output_type": "stream",
     "text": [
      "0.791044776119\n"
     ]
    }
   ],
   "source": [
    "print(accuracy_score(y_test,pred))"
   ]
  },
  {
   "cell_type": "code",
   "execution_count": 41,
   "metadata": {
    "collapsed": true
   },
   "outputs": [],
   "source": [
    "predictions_of_DTwithGS=clf.predict(test)"
   ]
  },
  {
   "cell_type": "code",
   "execution_count": 42,
   "metadata": {
    "collapsed": true
   },
   "outputs": [],
   "source": [
    "sub1=pd.DataFrame({\n",
    "        \"PassengerId\":IDtest,\n",
    "        \"Survived\":predictions_of_DTwithGS\n",
    "        \n",
    "                    })\n",
    "sub1.to_csv('DTwithGS_monday2.csv',header=True)\n"
   ]
  },
  {
   "cell_type": "code",
   "execution_count": 37,
   "metadata": {},
   "outputs": [
    {
     "data": {
      "text/html": [
       "<div>\n",
       "<style>\n",
       "    .dataframe thead tr:only-child th {\n",
       "        text-align: right;\n",
       "    }\n",
       "\n",
       "    .dataframe thead th {\n",
       "        text-align: left;\n",
       "    }\n",
       "\n",
       "    .dataframe tbody tr th {\n",
       "        vertical-align: top;\n",
       "    }\n",
       "</style>\n",
       "<table border=\"1\" class=\"dataframe\">\n",
       "  <thead>\n",
       "    <tr style=\"text-align: right;\">\n",
       "      <th></th>\n",
       "      <th>Age</th>\n",
       "      <th>Fare</th>\n",
       "      <th>Pclass</th>\n",
       "      <th>Sex</th>\n",
       "      <th>Survived</th>\n",
       "      <th>Fize</th>\n",
       "      <th>Single</th>\n",
       "      <th>SmallF</th>\n",
       "      <th>MedF</th>\n",
       "      <th>LargeF</th>\n",
       "      <th>Em_C</th>\n",
       "      <th>Em_Q</th>\n",
       "      <th>Em_S</th>\n",
       "    </tr>\n",
       "  </thead>\n",
       "  <tbody>\n",
       "    <tr>\n",
       "      <th>0</th>\n",
       "      <td>22.0</td>\n",
       "      <td>1.981001</td>\n",
       "      <td>3</td>\n",
       "      <td>0</td>\n",
       "      <td>0.0</td>\n",
       "      <td>2</td>\n",
       "      <td>0</td>\n",
       "      <td>1</td>\n",
       "      <td>0</td>\n",
       "      <td>0</td>\n",
       "      <td>0</td>\n",
       "      <td>0</td>\n",
       "      <td>1</td>\n",
       "    </tr>\n",
       "    <tr>\n",
       "      <th>1</th>\n",
       "      <td>38.0</td>\n",
       "      <td>4.266662</td>\n",
       "      <td>1</td>\n",
       "      <td>1</td>\n",
       "      <td>1.0</td>\n",
       "      <td>2</td>\n",
       "      <td>0</td>\n",
       "      <td>1</td>\n",
       "      <td>0</td>\n",
       "      <td>0</td>\n",
       "      <td>1</td>\n",
       "      <td>0</td>\n",
       "      <td>0</td>\n",
       "    </tr>\n",
       "    <tr>\n",
       "      <th>2</th>\n",
       "      <td>26.0</td>\n",
       "      <td>2.070022</td>\n",
       "      <td>3</td>\n",
       "      <td>1</td>\n",
       "      <td>1.0</td>\n",
       "      <td>1</td>\n",
       "      <td>1</td>\n",
       "      <td>0</td>\n",
       "      <td>0</td>\n",
       "      <td>0</td>\n",
       "      <td>0</td>\n",
       "      <td>0</td>\n",
       "      <td>1</td>\n",
       "    </tr>\n",
       "    <tr>\n",
       "      <th>3</th>\n",
       "      <td>35.0</td>\n",
       "      <td>3.972177</td>\n",
       "      <td>1</td>\n",
       "      <td>1</td>\n",
       "      <td>1.0</td>\n",
       "      <td>2</td>\n",
       "      <td>0</td>\n",
       "      <td>1</td>\n",
       "      <td>0</td>\n",
       "      <td>0</td>\n",
       "      <td>0</td>\n",
       "      <td>0</td>\n",
       "      <td>1</td>\n",
       "    </tr>\n",
       "    <tr>\n",
       "      <th>4</th>\n",
       "      <td>35.0</td>\n",
       "      <td>2.085672</td>\n",
       "      <td>3</td>\n",
       "      <td>0</td>\n",
       "      <td>0.0</td>\n",
       "      <td>1</td>\n",
       "      <td>1</td>\n",
       "      <td>0</td>\n",
       "      <td>0</td>\n",
       "      <td>0</td>\n",
       "      <td>0</td>\n",
       "      <td>0</td>\n",
       "      <td>1</td>\n",
       "    </tr>\n",
       "  </tbody>\n",
       "</table>\n",
       "</div>"
      ],
      "text/plain": [
       "    Age      Fare  Pclass  Sex  Survived  Fize  Single  SmallF  MedF  LargeF  \\\n",
       "0  22.0  1.981001       3    0       0.0     2       0       1     0       0   \n",
       "1  38.0  4.266662       1    1       1.0     2       0       1     0       0   \n",
       "2  26.0  2.070022       3    1       1.0     1       1       0     0       0   \n",
       "3  35.0  3.972177       1    1       1.0     2       0       1     0       0   \n",
       "4  35.0  2.085672       3    0       0.0     1       1       0     0       0   \n",
       "\n",
       "   Em_C  Em_Q  Em_S  \n",
       "0     0     0     1  \n",
       "1     1     0     0  \n",
       "2     0     0     1  \n",
       "3     0     0     1  \n",
       "4     0     0     1  "
      ]
     },
     "execution_count": 37,
     "metadata": {},
     "output_type": "execute_result"
    }
   ],
   "source": [
    "dataset.head()"
   ]
  },
  {
   "cell_type": "code",
   "execution_count": null,
   "metadata": {
    "collapsed": true
   },
   "outputs": [],
   "source": []
  }
 ],
 "metadata": {
  "anaconda-cloud": {},
  "kernelspec": {
   "display_name": "Python 3",
   "language": "python",
   "name": "python3"
  },
  "language_info": {
   "codemirror_mode": {
    "name": "ipython",
    "version": 3
   },
   "file_extension": ".py",
   "mimetype": "text/x-python",
   "name": "python",
   "nbconvert_exporter": "python",
   "pygments_lexer": "ipython3",
   "version": "3.6.4"
  }
 },
 "nbformat": 4,
 "nbformat_minor": 2
}
